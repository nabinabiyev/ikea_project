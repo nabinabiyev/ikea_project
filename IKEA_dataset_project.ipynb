{
  "nbformat": 4,
  "nbformat_minor": 0,
  "metadata": {
    "colab": {
      "name": "IKEA_dataset_project.ipynb",
      "provenance": [],
      "collapsed_sections": []
    },
    "kernelspec": {
      "name": "python3",
      "display_name": "Python 3"
    }
  },
  "cells": [
    {
      "cell_type": "code",
      "metadata": {
        "id": "5jfaiRAIB2l7"
      },
      "source": [
        "import pandas as pd\n",
        "import numpy as np"
      ],
      "execution_count": null,
      "outputs": []
    },
    {
      "cell_type": "code",
      "metadata": {
        "colab": {
          "base_uri": "https://localhost:8080/"
        },
        "id": "nUmqwjdmWcfc",
        "outputId": "67841ecb-2035-4162-f5ef-920cd83131dd"
      },
      "source": [
        "!wget 'https://raw.githubusercontent.com/rfordatascience/tidytuesday/master/data/2020/2020-11-03/ikea.csv'"
      ],
      "execution_count": null,
      "outputs": [
        {
          "output_type": "stream",
          "text": [
            "--2020-12-16 18:52:08--  https://raw.githubusercontent.com/rfordatascience/tidytuesday/master/data/2020/2020-11-03/ikea.csv\n",
            "Resolving raw.githubusercontent.com (raw.githubusercontent.com)... 151.101.0.133, 151.101.64.133, 151.101.128.133, ...\n",
            "Connecting to raw.githubusercontent.com (raw.githubusercontent.com)|151.101.0.133|:443... connected.\n",
            "HTTP request sent, awaiting response... 200 OK\n",
            "Length: 864710 (844K) [text/plain]\n",
            "Saving to: ‘ikea.csv’\n",
            "\n",
            "ikea.csv            100%[===================>] 844.44K  --.-KB/s    in 0.04s   \n",
            "\n",
            "2020-12-16 18:52:08 (20.3 MB/s) - ‘ikea.csv’ saved [864710/864710]\n",
            "\n"
          ],
          "name": "stdout"
        }
      ]
    },
    {
      "cell_type": "code",
      "metadata": {
        "colab": {
          "base_uri": "https://localhost:8080/",
          "height": 350
        },
        "id": "oxvT4FEWWcho",
        "outputId": "fedf1008-9061-4195-cbc6-9f35b0ca8b71"
      },
      "source": [
        "df=pd.read_csv('ikea.csv')\n",
        "df.head(5)"
      ],
      "execution_count": null,
      "outputs": [
        {
          "output_type": "execute_result",
          "data": {
            "text/html": [
              "<div>\n",
              "<style scoped>\n",
              "    .dataframe tbody tr th:only-of-type {\n",
              "        vertical-align: middle;\n",
              "    }\n",
              "\n",
              "    .dataframe tbody tr th {\n",
              "        vertical-align: top;\n",
              "    }\n",
              "\n",
              "    .dataframe thead th {\n",
              "        text-align: right;\n",
              "    }\n",
              "</style>\n",
              "<table border=\"1\" class=\"dataframe\">\n",
              "  <thead>\n",
              "    <tr style=\"text-align: right;\">\n",
              "      <th></th>\n",
              "      <th>Unnamed: 0</th>\n",
              "      <th>item_id</th>\n",
              "      <th>name</th>\n",
              "      <th>category</th>\n",
              "      <th>price</th>\n",
              "      <th>old_price</th>\n",
              "      <th>sellable_online</th>\n",
              "      <th>link</th>\n",
              "      <th>other_colors</th>\n",
              "      <th>short_description</th>\n",
              "      <th>designer</th>\n",
              "      <th>depth</th>\n",
              "      <th>height</th>\n",
              "      <th>width</th>\n",
              "    </tr>\n",
              "  </thead>\n",
              "  <tbody>\n",
              "    <tr>\n",
              "      <th>0</th>\n",
              "      <td>0</td>\n",
              "      <td>90420332</td>\n",
              "      <td>FREKVENS</td>\n",
              "      <td>Bar furniture</td>\n",
              "      <td>265.0</td>\n",
              "      <td>No old price</td>\n",
              "      <td>True</td>\n",
              "      <td>https://www.ikea.com/sa/en/p/frekvens-bar-tabl...</td>\n",
              "      <td>No</td>\n",
              "      <td>Bar table, in/outdoor,          51x51 cm</td>\n",
              "      <td>Nicholai Wiig Hansen</td>\n",
              "      <td>NaN</td>\n",
              "      <td>99.0</td>\n",
              "      <td>51.0</td>\n",
              "    </tr>\n",
              "    <tr>\n",
              "      <th>1</th>\n",
              "      <td>1</td>\n",
              "      <td>368814</td>\n",
              "      <td>NORDVIKEN</td>\n",
              "      <td>Bar furniture</td>\n",
              "      <td>995.0</td>\n",
              "      <td>No old price</td>\n",
              "      <td>False</td>\n",
              "      <td>https://www.ikea.com/sa/en/p/nordviken-bar-tab...</td>\n",
              "      <td>No</td>\n",
              "      <td>Bar table,          140x80 cm</td>\n",
              "      <td>Francis Cayouette</td>\n",
              "      <td>NaN</td>\n",
              "      <td>105.0</td>\n",
              "      <td>80.0</td>\n",
              "    </tr>\n",
              "    <tr>\n",
              "      <th>2</th>\n",
              "      <td>2</td>\n",
              "      <td>9333523</td>\n",
              "      <td>NORDVIKEN / NORDVIKEN</td>\n",
              "      <td>Bar furniture</td>\n",
              "      <td>2095.0</td>\n",
              "      <td>No old price</td>\n",
              "      <td>False</td>\n",
              "      <td>https://www.ikea.com/sa/en/p/nordviken-nordvik...</td>\n",
              "      <td>No</td>\n",
              "      <td>Bar table and 4 bar stools</td>\n",
              "      <td>Francis Cayouette</td>\n",
              "      <td>NaN</td>\n",
              "      <td>NaN</td>\n",
              "      <td>NaN</td>\n",
              "    </tr>\n",
              "    <tr>\n",
              "      <th>3</th>\n",
              "      <td>3</td>\n",
              "      <td>80155205</td>\n",
              "      <td>STIG</td>\n",
              "      <td>Bar furniture</td>\n",
              "      <td>69.0</td>\n",
              "      <td>No old price</td>\n",
              "      <td>True</td>\n",
              "      <td>https://www.ikea.com/sa/en/p/stig-bar-stool-wi...</td>\n",
              "      <td>Yes</td>\n",
              "      <td>Bar stool with backrest,          74 cm</td>\n",
              "      <td>Henrik Preutz</td>\n",
              "      <td>50.0</td>\n",
              "      <td>100.0</td>\n",
              "      <td>60.0</td>\n",
              "    </tr>\n",
              "    <tr>\n",
              "      <th>4</th>\n",
              "      <td>4</td>\n",
              "      <td>30180504</td>\n",
              "      <td>NORBERG</td>\n",
              "      <td>Bar furniture</td>\n",
              "      <td>225.0</td>\n",
              "      <td>No old price</td>\n",
              "      <td>True</td>\n",
              "      <td>https://www.ikea.com/sa/en/p/norberg-wall-moun...</td>\n",
              "      <td>No</td>\n",
              "      <td>Wall-mounted drop-leaf table,         ...</td>\n",
              "      <td>Marcus Arvonen</td>\n",
              "      <td>60.0</td>\n",
              "      <td>43.0</td>\n",
              "      <td>74.0</td>\n",
              "    </tr>\n",
              "  </tbody>\n",
              "</table>\n",
              "</div>"
            ],
            "text/plain": [
              "   Unnamed: 0   item_id                   name  ... depth  height width\n",
              "0           0  90420332               FREKVENS  ...   NaN    99.0  51.0\n",
              "1           1    368814              NORDVIKEN  ...   NaN   105.0  80.0\n",
              "2           2   9333523  NORDVIKEN / NORDVIKEN  ...   NaN     NaN   NaN\n",
              "3           3  80155205                   STIG  ...  50.0   100.0  60.0\n",
              "4           4  30180504                NORBERG  ...  60.0    43.0  74.0\n",
              "\n",
              "[5 rows x 14 columns]"
            ]
          },
          "metadata": {
            "tags": []
          },
          "execution_count": 3
        }
      ]
    },
    {
      "cell_type": "code",
      "metadata": {
        "colab": {
          "base_uri": "https://localhost:8080/"
        },
        "id": "rOnkmjDcWclA",
        "outputId": "a0a86200-a921-4b01-fddd-4a22b5226fd8"
      },
      "source": [
        "df.info()"
      ],
      "execution_count": null,
      "outputs": [
        {
          "output_type": "stream",
          "text": [
            "<class 'pandas.core.frame.DataFrame'>\n",
            "RangeIndex: 3694 entries, 0 to 3693\n",
            "Data columns (total 14 columns):\n",
            " #   Column             Non-Null Count  Dtype  \n",
            "---  ------             --------------  -----  \n",
            " 0   Unnamed: 0         3694 non-null   int64  \n",
            " 1   item_id            3694 non-null   int64  \n",
            " 2   name               3694 non-null   object \n",
            " 3   category           3694 non-null   object \n",
            " 4   price              3694 non-null   float64\n",
            " 5   old_price          3694 non-null   object \n",
            " 6   sellable_online    3694 non-null   bool   \n",
            " 7   link               3694 non-null   object \n",
            " 8   other_colors       3694 non-null   object \n",
            " 9   short_description  3694 non-null   object \n",
            " 10  designer           3694 non-null   object \n",
            " 11  depth              2231 non-null   float64\n",
            " 12  height             2706 non-null   float64\n",
            " 13  width              3105 non-null   float64\n",
            "dtypes: bool(1), float64(4), int64(2), object(7)\n",
            "memory usage: 378.9+ KB\n"
          ],
          "name": "stdout"
        }
      ]
    },
    {
      "cell_type": "markdown",
      "metadata": {
        "id": "gk1m7_wSXq5m"
      },
      "source": [
        "DEPTH,HEIGHT AND WIDTH features contain null values"
      ]
    },
    {
      "cell_type": "code",
      "metadata": {
        "colab": {
          "base_uri": "https://localhost:8080/"
        },
        "id": "QeooeePmahDx",
        "outputId": "dd7905d8-4ce6-43f7-8f48-6410628d60b6"
      },
      "source": [
        "df['category'].unique()"
      ],
      "execution_count": null,
      "outputs": [
        {
          "output_type": "execute_result",
          "data": {
            "text/plain": [
              "array(['Bar furniture', 'Beds', 'Bookcases & shelving units',\n",
              "       'Cabinets & cupboards', 'Café furniture', 'Chairs',\n",
              "       'Chests of drawers & drawer units', \"Children's furniture\",\n",
              "       'Nursery furniture', 'Outdoor furniture', 'Room dividers',\n",
              "       'Sideboards, buffets & console tables', 'Sofas & armchairs',\n",
              "       'Tables & desks', 'Trolleys', 'TV & media furniture', 'Wardrobes'],\n",
              "      dtype=object)"
            ]
          },
          "metadata": {
            "tags": []
          },
          "execution_count": 5
        }
      ]
    },
    {
      "cell_type": "code",
      "metadata": {
        "colab": {
          "base_uri": "https://localhost:8080/",
          "height": 284
        },
        "id": "Kx7mtSdGWcn2",
        "outputId": "321f886c-b674-47ba-f791-2eb9fe33b29a"
      },
      "source": [
        "df.describe()"
      ],
      "execution_count": null,
      "outputs": [
        {
          "output_type": "execute_result",
          "data": {
            "text/html": [
              "<div>\n",
              "<style scoped>\n",
              "    .dataframe tbody tr th:only-of-type {\n",
              "        vertical-align: middle;\n",
              "    }\n",
              "\n",
              "    .dataframe tbody tr th {\n",
              "        vertical-align: top;\n",
              "    }\n",
              "\n",
              "    .dataframe thead th {\n",
              "        text-align: right;\n",
              "    }\n",
              "</style>\n",
              "<table border=\"1\" class=\"dataframe\">\n",
              "  <thead>\n",
              "    <tr style=\"text-align: right;\">\n",
              "      <th></th>\n",
              "      <th>Unnamed: 0</th>\n",
              "      <th>item_id</th>\n",
              "      <th>price</th>\n",
              "      <th>depth</th>\n",
              "      <th>height</th>\n",
              "      <th>width</th>\n",
              "    </tr>\n",
              "  </thead>\n",
              "  <tbody>\n",
              "    <tr>\n",
              "      <th>count</th>\n",
              "      <td>3694.000000</td>\n",
              "      <td>3.694000e+03</td>\n",
              "      <td>3694.000000</td>\n",
              "      <td>2231.000000</td>\n",
              "      <td>2706.000000</td>\n",
              "      <td>3105.000000</td>\n",
              "    </tr>\n",
              "    <tr>\n",
              "      <th>mean</th>\n",
              "      <td>1846.500000</td>\n",
              "      <td>4.863240e+07</td>\n",
              "      <td>1078.208419</td>\n",
              "      <td>54.379202</td>\n",
              "      <td>101.679970</td>\n",
              "      <td>104.470853</td>\n",
              "    </tr>\n",
              "    <tr>\n",
              "      <th>std</th>\n",
              "      <td>1066.510275</td>\n",
              "      <td>2.888709e+07</td>\n",
              "      <td>1374.652494</td>\n",
              "      <td>29.958351</td>\n",
              "      <td>61.097585</td>\n",
              "      <td>71.133771</td>\n",
              "    </tr>\n",
              "    <tr>\n",
              "      <th>min</th>\n",
              "      <td>0.000000</td>\n",
              "      <td>5.848700e+04</td>\n",
              "      <td>3.000000</td>\n",
              "      <td>1.000000</td>\n",
              "      <td>1.000000</td>\n",
              "      <td>1.000000</td>\n",
              "    </tr>\n",
              "    <tr>\n",
              "      <th>25%</th>\n",
              "      <td>923.250000</td>\n",
              "      <td>2.039057e+07</td>\n",
              "      <td>180.900000</td>\n",
              "      <td>38.000000</td>\n",
              "      <td>67.000000</td>\n",
              "      <td>60.000000</td>\n",
              "    </tr>\n",
              "    <tr>\n",
              "      <th>50%</th>\n",
              "      <td>1846.500000</td>\n",
              "      <td>4.928808e+07</td>\n",
              "      <td>544.700000</td>\n",
              "      <td>47.000000</td>\n",
              "      <td>83.000000</td>\n",
              "      <td>80.000000</td>\n",
              "    </tr>\n",
              "    <tr>\n",
              "      <th>75%</th>\n",
              "      <td>2769.750000</td>\n",
              "      <td>7.040357e+07</td>\n",
              "      <td>1429.500000</td>\n",
              "      <td>60.000000</td>\n",
              "      <td>124.000000</td>\n",
              "      <td>140.000000</td>\n",
              "    </tr>\n",
              "    <tr>\n",
              "      <th>max</th>\n",
              "      <td>3693.000000</td>\n",
              "      <td>9.993262e+07</td>\n",
              "      <td>9585.000000</td>\n",
              "      <td>257.000000</td>\n",
              "      <td>700.000000</td>\n",
              "      <td>420.000000</td>\n",
              "    </tr>\n",
              "  </tbody>\n",
              "</table>\n",
              "</div>"
            ],
            "text/plain": [
              "        Unnamed: 0       item_id  ...       height        width\n",
              "count  3694.000000  3.694000e+03  ...  2706.000000  3105.000000\n",
              "mean   1846.500000  4.863240e+07  ...   101.679970   104.470853\n",
              "std    1066.510275  2.888709e+07  ...    61.097585    71.133771\n",
              "min       0.000000  5.848700e+04  ...     1.000000     1.000000\n",
              "25%     923.250000  2.039057e+07  ...    67.000000    60.000000\n",
              "50%    1846.500000  4.928808e+07  ...    83.000000    80.000000\n",
              "75%    2769.750000  7.040357e+07  ...   124.000000   140.000000\n",
              "max    3693.000000  9.993262e+07  ...   700.000000   420.000000\n",
              "\n",
              "[8 rows x 6 columns]"
            ]
          },
          "metadata": {
            "tags": []
          },
          "execution_count": 6
        }
      ]
    },
    {
      "cell_type": "code",
      "metadata": {
        "colab": {
          "base_uri": "https://localhost:8080/",
          "height": 312
        },
        "id": "k8p458ErWcqM",
        "outputId": "a2067155-8cc8-4f1a-b4f6-490776209e5c"
      },
      "source": [
        "import matplotlib.pyplot as plt\n",
        "plt.scatter(df['height'],df['price'])\n",
        "plt.title(\"Height vs Price relationship\")\n",
        "plt.xlabel(\"height\")\n",
        "plt.ylabel(\"price\")"
      ],
      "execution_count": null,
      "outputs": [
        {
          "output_type": "execute_result",
          "data": {
            "text/plain": [
              "Text(0, 0.5, 'price')"
            ]
          },
          "metadata": {
            "tags": []
          },
          "execution_count": 7
        },
        {
          "output_type": "display_data",
          "data": {
            "image/png": "[encoded data removed]",
            "text/plain": [
              "<Figure size 432x288 with 1 Axes>"
            ]
          },
          "metadata": {
            "tags": [],
            "needs_background": "light"
          }
        }
      ]
    },
    {
      "cell_type": "markdown",
      "metadata": {
        "id": "oIgJmZkdbQH0"
      },
      "source": [
        "there is one outlier with value 700.We will eliminate it further."
      ]
    },
    {
      "cell_type": "code",
      "metadata": {
        "colab": {
          "base_uri": "https://localhost:8080/",
          "height": 312
        },
        "id": "5_42gguRWctV",
        "outputId": "4ac88954-a35f-478d-fd29-e20875503258"
      },
      "source": [
        "plt.scatter(df['width'],df['price'])\n",
        "plt.title(\"Width vs Price relationship\")\n",
        "plt.xlabel(\"width\")\n",
        "plt.ylabel(\"price\")"
      ],
      "execution_count": null,
      "outputs": [
        {
          "output_type": "execute_result",
          "data": {
            "text/plain": [
              "Text(0, 0.5, 'price')"
            ]
          },
          "metadata": {
            "tags": []
          },
          "execution_count": 8
        },
        {
          "output_type": "display_data",
          "data": {
            "image/png": "[encoded data removed]",
            "text/plain": [
              "<Figure size 432x288 with 1 Axes>"
            ]
          },
          "metadata": {
            "tags": [],
            "needs_background": "light"
          }
        }
      ]
    },
    {
      "cell_type": "code",
      "metadata": {
        "colab": {
          "base_uri": "https://localhost:8080/",
          "height": 312
        },
        "id": "1AXi9-ZyZ_gi",
        "outputId": "620b92ce-5527-4de9-aa26-7c8bf8b0549b"
      },
      "source": [
        "plt.scatter(df['depth'],df['price'])\n",
        "plt.title(\"Depth vs Price relationship\")\n",
        "plt.xlabel(\"depth\")\n",
        "plt.ylabel(\"price\")"
      ],
      "execution_count": null,
      "outputs": [
        {
          "output_type": "execute_result",
          "data": {
            "text/plain": [
              "Text(0, 0.5, 'price')"
            ]
          },
          "metadata": {
            "tags": []
          },
          "execution_count": 9
        },
        {
          "output_type": "display_data",
          "data": {
            "image/png": "[encoded data removed]",
            "text/plain": [
              "<Figure size 432x288 with 1 Axes>"
            ]
          },
          "metadata": {
            "tags": [],
            "needs_background": "light"
          }
        }
      ]
    },
    {
      "cell_type": "markdown",
      "metadata": {
        "id": "Ryzn4ormbbuK"
      },
      "source": [
        "there are clearly outliers,which should be removed from the dataset"
      ]
    },
    {
      "cell_type": "code",
      "metadata": {
        "colab": {
          "base_uri": "https://localhost:8080/",
          "height": 542
        },
        "id": "nzRtcYW3ZxbF",
        "outputId": "37c65474-4584-4f1e-cc8f-ce2d5d93ee41"
      },
      "source": [
        "import plotly.express as px\n",
        "fig = px.scatter_3d(df, x='width', y='depth', z='price',\n",
        "              color='category')\n",
        "fig.show()"
      ],
      "execution_count": null,
      "outputs": [
        {
          "output_type": "display_data",
          "data": {
            "text/html": [
              "<html>\n",
              "<head><meta charset=\"utf-8\" /></head>\n",
              "<body>\n",
              "    <div>\n",
              "            <script src=\"https://cdnjs.cloudflare.com/ajax/libs/mathjax/2.7.5/MathJax.js?config=TeX-AMS-MML_SVG\"></script><script type=\"text/javascript\">if (window.MathJax) {MathJax.Hub.Config({SVG: {font: \"STIX-Web\"}});}</script>\n",
              "                <script type=\"text/javascript\">window.PlotlyConfig = {MathJaxConfig: 'local'};</script>\n",
              "        <script src=\"https://cdn.plot.ly/plotly-latest.min.js\"></script>    \n",
              "            <div id=\"c23e0388-7926-4aa6-ad9f-eae5e3daf83c\" class=\"plotly-graph-div\" style=\"height:525px; width:100%;\"></div>\n",
              "            <script type=\"text/javascript\">\n",
              "                \n",
              "                    window.PLOTLYENV=window.PLOTLYENV || {};\n",
              "                    \n",
              "                if (document.getElementById(\"c23e0388-7926-4aa6-ad9f-eae5e3daf83c\")) {\n",
              "                    Plotly.newPlot(\n",
              "                        'c23e0388-7926-4aa6-ad9f-eae5e3daf83c',\n",
              "                        [{\"hoverlabel\": {\"namelength\": 0}, \"hovertemplate\": \"category=Bar furniture<br>width=%{x}<br>depth=%{y}<br>price=%{z}\", \"legendgroup\": \"category=Bar furniture\", \"marker\": {\"color\": \"#636efa\", \"symbol\": \"circle\"}, \"mode\": \"markers\", \"name\": \"category=Bar furniture\", \"scene\": \"scene\", \"showlegend\": true, \"type\": \"scatter3d\", \"x\": [51.0, 80.0, null, 60.0, 74.0, 40.0, 50.0, 50.0, 50.0, null, 52.0, 40.0, 46.0, 43.0, 43.0, 70.0, 40.0, 36.0, 38.0, 52.0, 80.0, 44.0, 38.0, 80.0, 43.0, 43.0, 80.0, 40.0, null, 70.0, 74.0, 40.0, null, 40.0, null, 42.0, 40.0, 74.0, null, null, 48.0, 74.0, null, null, 50.0, null, 44.0], \"y\": [null, null, null, 50.0, 60.0, 45.0, 44.0, 50.0, 44.0, null, 44.0, 45.0, 47.0, 53.0, 52.0, null, 51.0, 36.0, 36.0, 44.0, null, 44.0, 36.0, null, 51.0, 52.0, null, 51.0, null, null, null, 51.0, null, 40.0, null, 48.0, 47.0, null, null, null, 50.0, null, null, null, 52.0, null, 44.0], \"z\": [265.0, 995.0, 2095.0, 69.0, 225.0, 345.0, 129.0, 195.0, 129.0, 2176.0, 149.0, 395.0, 395.0, 177.0, 345.0, 695.0, 395.0, 140.0, 595.0, 149.0, 995.0, 175.0, 595.0, 796.0, 345.0, 345.0, 796.0, 695.0, 1340.0, 550.0, 595.0, 435.0, 1266.0, 475.0, 40.0, 395.0, 275.0, 1385.0, 2375.0, 2176.0, 745.0, 1385.0, 1266.0, 550.0, 445.0, 1266.0, 175.0]}, {\"hoverlabel\": {\"namelength\": 0}, \"hovertemplate\": \"category=Beds<br>width=%{x}<br>depth=%{y}<br>price=%{z}\", \"legendgroup\": \"category=Beds\", \"marker\": {\"color\": \"#EF553B\", \"symbol\": \"circle\"}, \"mode\": \"markers\", \"name\": \"category=Beds\", \"scene\": \"scene\", \"showlegend\": true, \"type\": \"scatter3d\", \"x\": [85.0, 96.0, 66.0, 140.0, 92.0, 91.0, 146.0, 94.0, 188.0, 144.0, 154.0, 144.0, 94.0, 148.0, 96.0, 147.0, 165.0, 156.0, 97.0, 153.0, 196.0, 77.0, 140.0, 146.0, 89.0, 146.0, 147.0, 105.0, 105.0, 96.0, 40.0, 75.0, 154.0, 143.0, 98.0, 80.0, 144.0, 85.0, 96.0, 128.0, 160.0, 62.0, 240.0, 88.0, 153.0, 156.0, 97.0, 96.0, 140.0, 92.0, 148.0, 104.0, 104.0, 90.0, 80.0, 154.0, 83.0, null, 99.0, null, 90.0, 80.0, 66.0, 104.0, 89.0, 105.0, 95.0, 164.0, null, 160.0, null, 180.0, 200.0, 140.0, 96.0, 149.0, 146.0, null, 175.0, 89.0, 66.0, null, 140.0, null, 150.0, 97.0, 113.0, 95.0, 140.0, 140.0, 140.0, 97.0, 90.0, 140.0, 86.0, 153.0, 140.0, 96.0, 97.0, 346.0, 142.0, 204.0, 141.0, 80.0, null, 83.0, null, 141.0, null, 88.0, 80.0, 164.0, 96.0, 91.0, null, 97.0, 90.0, 87.0, 88.0, 80.0, 141.0, 97.0, null, 204.0, 225.0, 230.0, 160.0, null, 97.0, 141.0, 196.0, 97.0, 252.0, 86.0, 62.0, 240.0, 164.0, 66.0, 7.0, 212.0, 140.0, 97.0, 200.0, 387.0, 55.0, 266.0, 135.0, 266.0, 160.0, 150.0, 66.0, null, 200.0, 204.0, 271.0, 200.0, null, null, 180.0, 88.0, 67.0, 212.0, 230.0, 186.0, 200.0, 200.0, 200.0, 294.0, 231.0, null, null, 67.0, 225.0, 160.0, 277.0, null, 90.0, 97.0, 97.0, 273.0, 160.0, null, 186.0, 267.0, null, 66.0, 135.0, 190.0, 200.0, 142.0, 235.0, 349.0, 208.0, 246.0, 261.0, 66.0, null, 66.0, null, 66.0, 200.0, 298.0, 142.0, 160.0, 298.0, 66.0, 208.0, 66.0], \"y\": [null, 54.0, null, 40.0, 83.0, null, null, null, null, null, null, null, null, null, 54.0, null, null, null, null, null, 59.0, null, null, 54.0, 70.0, null, null, 59.0, null, 57.0, null, null, null, 40.0, null, null, null, null, null, 85.0, null, null, 51.0, null, 64.0, 59.0, null, null, null, 55.0, null, null, null, null, null, null, null, null, null, 151.0, null, null, null, null, 70.0, null, 57.0, null, null, null, null, null, 97.0, null, 57.0, 72.0, 28.0, null, null, 70.0, null, null, 51.0, null, null, null, 93.0, 45.0, 40.0, 40.0, 40.0, null, null, null, 53.0, 64.0, null, 53.0, null, null, 100.0, null, 40.0, null, null, null, null, 40.0, null, null, 100.0, null, 28.0, null, null, null, null, null, null, null, 40.0, null, null, null, 86.0, 99.0, null, null, null, 40.0, 98.0, null, 164.0, 53.0, 53.0, null, null, null, 7.0, 78.0, 40.0, null, 97.0, 164.0, 55.0, null, null, 93.0, 97.0, null, null, null, 120.0, null, 98.0, 97.0, null, null, null, null, null, null, 151.0, 113.0, 90.0, 97.0, 88.0, 98.0, 98.0, null, null, null, 105.0, 98.0, 164.0, null, null, null, null, null, 97.0, null, 113.0, 98.0, null, null, null, 98.0, 90.0, 100.0, 98.0, 98.0, 98.0, 98.0, 98.0, null, null, null, null, null, 120.0, 164.0, 100.0, 98.0, 164.0, null, 98.0, null], \"z\": [395.0, 895.0, 595.0, 2111.0, 995.0, 540.0, 795.0, 99.0, 1195.0, 199.0, 675.0, 595.0, 199.0, 545.0, 575.0, 445.0, 525.0, 495.0, 445.0, 395.0, 920.0, 195.0, 1729.0, 575.0, 1495.0, 595.0, 1395.0, 670.0, 445.0, 995.0, 100.0, 360.0, 1375.0, 2600.5, 745.0, 295.0, 399.0, 395.0, 375.0, 399.0, 2040.0, 425.0, 2290.0, 549.0, 570.0, 945.0, 895.0, 475.0, 1745.0, 100.0, 871.0, 695.0, 995.0, 795.0, 480.0, 1640.0, 695.0, 49.0, 745.0, 1846.0, 295.0, 100.0, 295.0, 1145.0, 1495.0, 545.0, 620.0, 2195.0, 1725.0, 2425.0, 1400.0, 8551.0, 1470.0, 450.0, 1395.0, 995.0, 220.0, 849.0, 1595.0, 2185.0, 395.0, 795.0, 1595.0, 95.0, 595.0, 645.0, 1848.0, 200.0, 2307.0, 1195.0, 3339.0, 1590.0, 795.0, 600.0, 1095.0, 1245.0, 2146.0, 1260.0, 895.0, 7796.0, 1445.0, 2595.0, 1767.0, 267.0, 495.0, 1285.0, 849.0, 2905.0, 30.0, 1139.0, 1160.0, 1400.0, 220.0, 520.0, 85.0, 175.0, 55.0, 2085.0, 1495.0, 1092.0, 2163.5, 149.0, 1915.0, 2495.0, 1995.0, 2295.0, 2902.0, 1990.0, 875.0, 1611.0, 3595.0, 1295.0, 7610.0, 1795.0, 295.0, 695.0, 2095.0, 1095.0, 30.0, 1991.0, 2210.0, 1175.0, 1445.0, 9585.0, 40.0, 4488.0, 1195.0, 5780.0, 3340.0, 495.0, 595.0, 200.0, 2236.0, 1800.0, 4645.0, 1295.0, 50.0, 30.0, 8356.0, 2185.0, 695.0, 1841.0, 2995.0, 4320.0, 1596.0, 1520.0, 300.0, 7785.0, 4270.0, 2025.0, 795.0, 695.0, 1845.0, 2945.0, 4790.0, 40.0, 75.0, 125.0, 125.0, 4036.0, 4841.0, 50.0, 2932.0, 4390.0, 695.0, 995.0, 995.0, 3355.0, 1676.0, 1345.0, 6110.0, 7765.0, 4040.0, 4120.0, 4265.0, 995.0, 1980.0, 1095.0, 85.0, 995.0, 1996.0, 5840.0, 1645.0, 3145.0, 7873.0, 985.0, 5553.0, 995.0]}, {\"hoverlabel\": {\"namelength\": 0}, \"hovertemplate\": \"category=Bookcases & shelving units<br>width=%{x}<br>depth=%{y}<br>price=%{z}\", \"legendgroup\": \"category=Bookcases & shelving units\", \"marker\": {\"color\": \"#00cc96\", \"symbol\": \"circle\"}, \"mode\": \"markers\", \"name\": \"category=Bookcases & shelving units\", \"scene\": \"scene\", \"showlegend\": true, \"type\": \"scatter3d\", \"x\": [25.0, 92.0, 198.0, 80.0, 182.0, 175.0, 60.0, 77.0, 30.0, 60.0, 77.0, 80.0, 60.0, null, 62.0, 81.0, 33.0, 100.0, 80.0, 40.0, 25.0, 180.0, 77.0, 83.0, 42.0, 51.0, 78.0, 65.0, 80.0, 100.0, 30.0, 77.0, 40.0, 80.0, 280.0, null, 70.0, 20.0, 44.0, 56.0, null, 80.0, 140.0, 120.0, 77.0, 60.0, 100.0, 80.0, 80.0, 46.0, 80.0, 182.0, 61.0, 80.0, 70.0, 25.0, 200.0, 120.0, 51.0, 13.0, 90.0, 40.0, 42.0, 60.0, 80.0, 77.0, 67.0, 77.0, 210.0, 55.0, 25.0, 56.0, 112.0, 60.0, 76.0, 92.0, 13.0, 240.0, 89.0, 70.0, 40.0, 80.0, 160.0, 80.0, 30.0, 80.0, 100.0, 90.0, 89.0, 202.0, 132.0, 33.0, 160.0, 50.0, 147.0, 86.0, 175.0, 147.0, 105.0, 105.0, 38.0, 197.0, 77.0, 40.0, 276.0, 60.0, 151.0, 35.0, 80.0, 35.0, 89.0, 70.0, 70.0, 200.0, 180.0, 77.0, 55.0, 307.0, 25.0, 2.0, 40.0, 180.0, 96.0, 120.0, 3.0, 80.0, 120.0, 60.0, 81.0, 40.0, 40.0, 89.0, 170.0, 240.0, null, 60.0, 51.0, 25.0, 180.0, 160.0, 34.0, 89.0, 40.0, 270.0, 200.0, 48.0, 175.0, 120.0, 80.0, 176.0, 70.0, null, 50.0, 86.0, 202.0, 200.0, 200.0, 35.0, 65.0, 60.0, 89.0, 33.0, 259.0, 60.0, 64.0, 148.0, 60.0, 280.0, 35.0, null, 33.0, 61.0, 50.0, 120.0, 120.0, 120.0, 89.0, 171.0, null, null, 25.0, 21.0, 25.0, 85.0, 60.0, 70.0, 120.0, 69.0, 83.0, 55.0, 60.0, 80.0, 33.0, 25.0, 80.0, 33.0, 50.0, null, 2.0, null, 56.0, 105.0, 60.0, 300.0, 89.0, 20.0, 5.0, 61.0, 69.0, 170.0, 40.0, 120.0, 344.0, 70.0, 105.0, 50.0, 100.0, null, null, 180.0, 120.0, 40.0, 134.0, 112.0, 210.0, 2.0, 80.0, null, 50.0, 35.0, 46.0, 147.0, 35.0, 42.0, 84.0, 50.0, 180.0, 70.0, 34.0, 180.0, null, 40.0, 44.0, null, 120.0, 65.0, 36.0, 60.0, null, 344.0, 92.0, 49.0, 60.0, 80.0, 147.0, 200.0, null, 60.0, 40.0, 240.0, 80.0, 60.0, 8.0, 175.0, 69.0, 180.0, 85.0, 35.0, 81.0, 4.0, null, 60.0, 40.0, 120.0, null, 9.0, 200.0, 83.0, 120.0, 13.0, 80.0, 86.0, 36.0, null, null, 132.0, 84.0, 180.0, 80.0, 147.0, 160.0, 180.0, 120.0, 300.0, 132.0, 99.0, 66.0, 17.0, 259.0, 40.0, 85.0, null, 120.0, null, 120.0, 134.0, 25.0, 174.0, 120.0, 229.0, 80.0, 84.0, 85.0, 174.0, 99.0, 160.0, 99.0, 180.0, 120.0, 60.0, 240.0, 160.0, 276.0, 55.0, 9.0, 85.0, 24.0, 24.0, 1.0, 60.0, 60.0, 30.0, 230.0, 60.0, 86.0, 147.0, 171.0, 89.0, 17.0, 50.0, 160.0, 174.0, 60.0, 45.0, 80.0, 179.0, 60.0, 210.0, 81.0, 81.0, 297.0, 180.0, 66.0, 180.0, 240.0, 148.0, 9.0, 80.0, 50.0, 60.0, null, 29.0, null, 24.0, 60.0, 60.0, 56.0, 60.0, null, null, 147.0, 83.0, 76.0, 80.0, 60.0, 182.0, 89.0, 175.0, 83.0, null, 105.0, 240.0, 254.0, 300.0, 142.0, 148.0, 189.0, 132.0, 174.0, 173.0, 66.0, 211.0, 259.0, 300.0, 127.0, 69.0, null, null, null, null, 254.0, 180.0, 40.0, 35.0, 121.0, 198.0, 60.0, 22.0, 25.0, 39.0, 40.0, 174.0, 174.0, 81.0, 66.0, null, 147.0, null, 213.0, 259.0, 66.0, null, 140.0, 80.0, null, null, 175.0, 202.0, 190.0, null, null, 190.0, 160.0, 233.0, 132.0, 89.0, 60.0, 203.0, 161.0, 132.0, null, 70.0, null, null, 174.0, 9.0, 254.0, null, 60.0, null, 60.0, 60.0, 60.0, 85.0, 42.0, null, 63.0, 85.0, 200.0, 180.0, 46.0, null, 40.0, 61.0, null, 58.0, 60.0, 4.0, null, 60.0, 81.0, 66.0, 254.0, 60.0, 180.0, 4.0, 65.0, 60.0, 60.0, 300.0, 60.0, 60.0, 132.0, null, 130.0, 80.0, 89.0, 80.0, 210.0, 234.0, 180.0, 89.0, 83.0, 344.0, 60.0, 60.0, 160.0, 132.0, 170.0, 259.0, 259.0, null, 30.0, 76.0, 219.0, 89.0, 173.0, 259.0, null, 60.0, 259.0, 174.0, 89.0, 12.0, 16.0, null, 134.0, 60.0, 33.0, null, 174.0, 134.0, 150.0, 148.0, 219.0, 251.0, 193.0, 139.0, 127.0, 60.0, 120.0, 173.0, 300.0, 148.0, 85.0, 259.0, 162.0, 234.0, null, 134.0, null, 60.0, 39.0, 65.0, 189.0, 193.0, null, 86.0], \"y\": [51.0, 36.0, 51.0, 35.0, 51.0, null, 24.0, 39.0, 28.0, 27.0, 39.0, 38.0, 27.0, 26.0, 24.0, 35.0, 12.0, 36.0, 28.0, 28.0, 51.0, 27.0, 159.0, 30.0, 39.0, 36.0, 31.0, 34.0, 30.0, 36.0, null, 39.0, 28.0, 35.0, 28.0, 26.0, 25.0, 17.0, null, 16.0, 26.0, 30.0, 35.0, 30.0, 28.0, 24.0, 36.0, 30.0, 30.0, 26.0, 28.0, 39.0, 25.0, 30.0, 25.0, 51.0, 36.0, 42.0, 36.0, null, 37.0, 30.0, 39.0, 27.0, 30.0, 39.0, 33.0, 39.0, 40.0, 51.0, 51.0, 36.0, 39.0, 35.0, 26.0, 36.0, null, 28.0, 50.0, 35.0, 38.0, 35.0, 27.0, 30.0, null, 30.0, 36.0, 35.0, 30.0, 36.0, 41.0, 11.0, 28.0, 51.0, 39.0, 41.0, 25.0, 39.0, 35.0, 35.0, 60.0, 36.0, 39.0, 28.0, 38.0, 27.0, 36.0, 35.0, 35.0, 25.0, 30.0, 35.0, 25.0, 36.0, 40.0, 39.0, 51.0, 50.0, 51.0, null, null, 42.0, 37.0, 42.0, 5.0, 28.0, 42.0, null, 15.0, 30.0, 30.0, 30.0, 33.0, 42.0, 27.0, null, null, 51.0, 42.0, 30.0, 34.0, 30.0, 30.0, 37.0, 28.0, 30.0, null, 40.0, 37.0, 41.0, 35.0, null, 51.0, 35.0, 36.0, 28.0, 30.0, 35.0, 40.0, 38.0, 30.0, 37.0, 30.0, 40.0, null, 51.0, 20.0, 35.0, 25.0, null, 37.0, 15.0, 51.0, 30.0, 42.0, 40.0, null, 37.0, 27.0, null, 51.0, 24.0, null, 55.0, 38.0, 35.0, 40.0, 55.0, 50.0, null, null, 37.0, null, 51.0, 30.0, 11.0, 51.0, 51.0, 38.0, 3.0, 36.0, 35.0, 22.0, 42.0, 50.0, 28.0, 2.0, 37.0, 34.0, 40.0, 28.0, 42.0, 30.0, 35.0, 35.0, 51.0, 100.0, null, null, 42.0, 42.0, 30.0, null, 39.0, 35.0, 38.0, 35.0, null, 51.0, 35.0, 41.0, 39.0, 25.0, 30.0, 39.0, 51.0, 42.0, 35.0, 24.0, 41.0, null, 28.0, 44.0, null, 40.0, 40.0, 26.0, 20.0, null, 30.0, null, 37.0, null, 30.0, 159.0, 36.0, null, null, 30.0, 40.0, 45.0, null, null, 35.0, 55.0, 40.0, 55.0, 35.0, 25.0, null, 4.0, null, null, 40.0, null, 32.0, 30.0, null, 40.0, 24.0, 30.0, 25.0, null, 38.0, null, 41.0, 54.0, 27.0, 28.0, 39.0, 30.0, 40.0, 28.0, 40.0, 61.0, 51.0, null, 30.0, 30.0, 28.0, 40.0, null, 40.0, null, 40.0, 50.0, 51.0, 50.0, 42.0, 37.0, 30.0, 54.0, 40.0, 30.0, 51.0, 30.0, 51.0, 42.0, 30.0, null, 42.0, 30.0, 38.0, null, 28.0, 55.0, 18.0, 18.0, 40.0, 40.0, 40.0, null, 50.0, 40.0, 35.0, 39.0, 37.0, 50.0, 30.0, 51.0, 30.0, 50.0, 40.0, 45.0, 30.0, 50.0, 42.0, 35.0, 43.0, 37.0, 35.0, 40.0, 41.0, 40.0, 42.0, 51.0, 31.0, 35.0, 51.0, null, null, 1.0, null, 18.0, null, 40.0, 16.0, null, 18.0, 4.0, 39.0, 30.0, 40.0, 28.0, null, 39.0, 50.0, null, 50.0, null, 35.0, 40.0, 40.0, null, 47.0, 51.0, 41.0, 41.0, 30.0, 51.0, 61.0, 36.0, 30.0, 36.0, 41.0, 24.0, null, 24.0, null, 30.0, 40.0, 40.0, null, 35.0, 45.0, 51.0, null, 30.0, null, 30.0, null, 50.0, 50.0, 37.0, 61.0, null, 39.0, 34.0, 35.0, 50.0, 41.0, null, 35.0, 28.0, null, null, 35.0, 36.0, 40.0, null, null, 41.0, 40.0, 35.0, 41.0, 50.0, null, 47.0, 40.0, 61.0, null, 35.0, 38.0, null, 50.0, 31.0, 40.0, null, null, 25.0, null, null, null, 40.0, 50.0, 18.0, 1.0, 40.0, 36.0, 42.0, 41.0, null, null, 35.0, 4.0, 33.0, null, 4.0, 38.0, 40.0, 35.0, 25.0, 55.0, null, 27.0, null, 55.0, null, null, 42.0, null, 22.0, 41.0, 4.0, 35.0, 30.0, 30.0, 40.0, 35.0, 55.0, 42.0, 50.0, 30.0, 30.0, null, null, 30.0, 41.0, 40.0, 50.0, 30.0, 24.0, null, null, 30.0, 50.0, 51.0, 30.0, null, null, 30.0, 50.0, 30.0, 37.0, 35.0, null, 50.0, null, 38.0, 38.0, 50.0, 30.0, 35.0, 51.0, 30.0, 37.0, 25.0, 50.0, 41.0, null, 28.0, 51.0, 36.0, 51.0, 55.0, 30.0, 41.0, 55.0, null, 30.0, 51.0, null, 30.0, 41.0, 41.0, 35.0, 51.0, 41.0], \"z\": [135.0, 290.0, 915.0, 345.0, 375.0, 1385.0, 95.0, 115.0, 199.0, 59.0, 250.0, 175.0, 39.0, 39.0, 85.0, 270.0, 30.0, 245.0, 185.0, 145.0, 75.0, 137.0, 450.0, 35.0, 195.0, 225.0, 165.0, 476.0, 295.0, 495.0, 15.0, 500.0, 95.0, 656.0, 1510.0, 99.0, 220.0, 125.0, 450.0, 25.0, 19.0, 570.0, 620.0, 915.0, 45.0, 149.0, 395.0, 385.0, 345.0, 275.0, 115.0, 725.0, 90.0, 575.0, 400.0, 135.0, 554.0, 920.0, 295.0, 19.0, 796.0, 340.0, 345.0, 84.0, 315.0, 115.0, 237.0, 450.0, 1719.0, 35.0, 15.0, 25.0, 395.0, 445.0, 50.0, 145.0, 15.0, 345.0, 420.0, 250.0, 15.6, 345.0, 417.0, 516.0, 15.0, 585.0, 495.0, 695.0, 440.0, 695.0, 509.0, 25.0, 370.0, 180.0, 595.0, 196.0, 640.0, 495.0, 435.0, 978.0, 18.0, 772.0, 215.0, 140.0, 4335.0, 51.0, 620.0, 265.0, 225.0, 80.0, 275.0, 235.0, 347.0, 490.0, 1235.0, 350.0, 35.0, 705.0, 55.0, 6.0, 200.0, 925.0, 995.0, 1620.0, 15.0, 285.0, 1820.0, 12.0, 80.0, 470.0, 290.0, 310.0, 412.0, 2470.0, 3.0, 6.0, 20.0, 160.0, 1725.0, 1150.0, 45.0, 625.0, 505.0, 3986.0, 795.0, 335.0, 1275.0, 170.0, 570.0, 529.0, 236.0, 15.0, 25.0, 620.0, 609.0, 940.0, 2295.0, 99.0, 445.0, 29.0, 235.0, 50.0, 795.0, 420.0, 5.6, 585.0, 100.0, 1002.0, 65.0, 5.0, 75.0, 70.0, 230.0, 1255.0, 770.0, 510.0, 775.0, 1265.0, 9.0, 15.0, 20.0, 27.0, 49.0, 580.0, 30.0, 625.0, 1081.0, 49.0, 49.0, 645.0, 25.0, 570.0, 75.0, 115.0, 345.0, 25.0, 195.0, 515.0, 9.0, 45.0, 30.0, 268.0, 1155.0, 1578.0, 371.0, 27.0, 6.0, 695.0, 75.0, 1710.0, 305.0, 910.0, 2275.0, 375.0, 515.0, 170.0, 40.0, 22.0, 12.0, 795.0, 150.0, 315.0, 1020.0, 745.0, 2020.0, 9.0, 225.0, 25.0, 200.0, 79.0, 271.2, 555.0, 175.0, 25.0, 85.0, 95.0, 1380.0, 255.0, 45.0, 1195.0, 35.0, 80.0, 35.0, 17.0, 375.0, 345.0, 30.0, 110.0, 35.0, 1155.0, 29.0, 556.0, 60.0, 695.0, 755.0, 640.0, 55.0, 175.0, 500.0, 2534.5, 575.0, 38.5, 15.0, 1044.0, 49.0, 475.0, 565.0, 94.0, 100.0, 20.0, 105.0, 100.0, 200.0, 475.0, 25.0, 22.0, 925.0, 45.0, 1570.0, 22.0, 995.0, 450.0, 45.0, 45.5, 25.0, 429.0, 95.0, 186.0, 245.0, 615.0, 1330.0, 1469.0, 915.0, 4260.0, 302.0, 660.0, 183.6, 35.0, 795.0, 235.0, 515.0, 35.0, 225.0, 25.0, 100.0, 612.0, 140.0, 592.0, 1390.0, 2346.0, 415.0, 95.0, 855.0, 350.0, 390.0, 1790.0, 490.0, 990.0, 1735.0, 60.0, 1620.0, 1570.0, 3435.0, 495.0, 17.0, 375.0, 17.0, 32.0, 10.0, 125.0, 225.0, 45.0, 735.0, 135.0, 660.0, 695.0, 1140.0, 588.0, 17.0, 70.0, 1480.0, 636.0, 75.0, 645.0, 1085.0, 1137.0, 1150.0, 1830.0, 135.0, 625.0, 2605.0, 1824.5, 130.0, 595.0, 1645.0, 830.0, 35.0, 450.0, 150.0, 125.0, 25.0, 15.0, 19.0, 50.0, 45.0, 60.0, 25.0, 45.0, 29.0, 90.0, 745.0, 45.0, 495.0, 100.0, 175.0, 1350.0, 674.0, 1085.0, 45.0, 150.0, 414.0, 2710.0, 1035.0, 2930.0, 2235.0, 990.0, 458.0, 414.0, 1000.0, 745.0, 134.6, 386.0, 1870.0, 1035.0, 321.0, 75.0, 15.0, 17.0, 25.0, 35.0, 1545.0, 150.0, 100.0, 250.0, 1495.0, 885.0, 150.0, 35.0, 70.0, 75.0, 245.0, 726.0, 563.0, 80.0, 231.6, 45.0, 895.0, 49.0, 1830.0, 1085.0, 234.0, 69.0, 1218.0, 315.0, 199.0, 2150.0, 661.0, 695.0, 528.2, 49.0, 145.0, 474.2, 695.0, 1840.0, 477.0, 498.0, 50.0, 2980.0, 1335.0, 383.8, 100.0, 978.0, 25.0, 15.0, 878.0, 50.0, 1335.0, 20.0, 150.0, 12.0, 170.0, 135.0, 95.0, 530.0, 39.0, 29.0, 20.0, 670.0, 790.0, 225.0, 204.0, 75.0, 80.0, 310.0, 90.0, 345.0, 75.0, 45.0, 45.0, 195.0, 545.0, 410.0, 1315.0, 100.0, 141.0, 20.0, 375.0, 195.0, 60.0, 2635.0, 210.0, 480.0, 598.0, 90.0, 1395.0, 595.0, 365.0, 395.0, 1260.0, 1345.0, 1215.0, 453.0, 245.0, 2275.0, 100.0, 75.0, 1770.0, 347.0, 1340.0, 1045.0, 1745.0, 29.0, 145.0, 65.0, 1045.0, 428.0, 670.0, 1980.0, 145.0, 115.0, 990.0, 718.0, 395.0, 35.0, 29.0, 35.0, 906.0, 225.0, 100.0, 35.0, 760.0, 440.0, 1245.0, 560.0, 1225.0, 1145.0, 1620.0, 1013.0, 555.0, 115.0, 700.0, 950.0, 1035.0, 975.0, 375.0, 1110.0, 1311.0, 1125.0, 388.6, 910.0, 630.0, 100.0, 75.0, 245.0, 594.0, 2070.0, 730.0, 296.0]}, {\"hoverlabel\": {\"namelength\": 0}, \"hovertemplate\": \"category=Cabinets & cupboards<br>width=%{x}<br>depth=%{y}<br>price=%{z}\", \"legendgroup\": \"category=Cabinets & cupboards\", \"marker\": {\"color\": \"#ab63fa\", \"symbol\": \"circle\"}, \"mode\": \"markers\", \"name\": \"category=Cabinets & cupboards\", \"scene\": \"scene\", \"showlegend\": true, \"type\": \"scatter3d\", \"x\": [60.0, 120.0, 60.0, 120.0, 60.0, 77.0, 70.0, 80.0, 86.0, 43.0, 77.0, 80.0, 100.0, 70.0, 140.0, 60.0, 40.0, 90.0, 80.0, 120.0, 120.0, 80.0, 80.0, 78.0, 50.0, 78.0, 3.0, 80.0, 157.0, 130.0, 80.0, 96.0, 120.0, 145.0, 89.0, 35.0, 80.0, 80.0, 73.0, 120.0, 81.0, 96.0, 95.0, 119.0, 140.0, 81.0, 120.0, 80.0, 118.0, 120.0, 240.0, 40.0, 33.0, 80.0, 25.0, 42.0, 180.0, 120.0, 120.0, 120.0, 25.0, 61.0, 41.0, 56.0, 120.0, 145.0, 81.0, 130.0, 320.0, 80.0, 45.0, null, 45.0, 60.0, 57.0, 80.0, null, 70.0, 45.0, 180.0, 81.0, null, 56.0, 60.0, 95.0, 160.0, 162.0, 180.0, 80.0, 35.0, 320.0, 45.0, 121.0, 180.0, 35.0, null, 81.0, 240.0, 118.0, 60.0, 45.0, 60.0, 60.0, 64.0, null, 81.0, 120.0, 60.0, 276.0, 60.0, 33.0, 60.0, 180.0, 56.0, 35.0, null, 100.0, 60.0, 81.0, 162.0, 24.0, 120.0, 60.0, 56.0, 160.0, 120.0, 45.0, 121.0, 160.0, 180.0, 25.0, 120.0, 60.0, 120.0, 17.0, 60.0, 180.0, 35.0, 200.0, 90.0, 283.0, 60.0, 130.0, 61.0, null, null, 60.0, 180.0, 120.0, 81.0, 162.0, 70.0, null, 180.0, 4.0, 280.0, 60.0, 45.0, null, 25.0, null, 44.0, null, 60.0, 180.0, 22.0, 61.0, 81.0, null, 60.0, 160.0, 35.0, 45.0, 242.0, 95.0, 160.0, 60.0, 60.0, null, null, 9.0, null, 60.0, 45.0, null, 180.0, 60.0, 90.0, 60.0, 120.0, 81.0, 41.0, 21.0, 41.0, 135.0, 160.0, 180.0, 60.0, 300.0, 9.0, 60.0, 20.0, 60.0, null, 60.0, 60.0, 60.0, 240.0, 103.0, 120.0, null, 45.0, 240.0, 95.0, 203.0, 60.0, 120.0, 180.0, 243.0, 70.0, 121.0, 210.0, 300.0, 243.0, 105.0, 41.0, 41.0, 120.0, 90.0, null, null, null, 60.0, 24.0, 16.0, null, null, 17.0, null, 188.0, 80.0, null, 160.0, 13.0, 32.0, 60.0, 35.0, null, 140.0, 9.0, 243.0, null, 45.0, 60.0, 300.0, 35.0, 105.0, 80.0, null, null, 180.0, 95.0, 121.0, 121.0, 80.0, 9.0, 12.0, null, null, 24.0, 60.0, 60.0, null, 25.0, 180.0, 35.0, 240.0, 41.0, 61.0, 60.0, 35.0, 142.0, null, 300.0, 175.0, null, 60.0, 41.0, null, 320.0, 60.0, 160.0], \"y\": [null, 42.0, null, 42.0, null, 39.0, 35.0, 30.0, 49.0, 37.0, 39.0, 30.0, 48.0, 25.0, 35.0, 35.0, 30.0, 37.0, 30.0, 42.0, 35.0, 48.0, 30.0, 41.0, 25.0, 41.0, null, 48.0, 47.0, 35.0, 30.0, 42.0, 40.0, 48.0, 30.0, 35.0, 35.0, 35.0, 42.0, 30.0, 37.0, 38.0, 35.0, 40.0, 35.0, 42.0, 42.0, 30.0, 38.0, 42.0, 42.0, 30.0, 11.0, 42.0, 25.0, 38.0, 42.0, 43.0, 30.0, 35.0, 25.0, 45.0, 50.0, 16.0, 40.0, 48.0, 47.0, 35.0, 45.0, 45.0, 47.0, null, 47.0, 40.0, 47.0, 30.0, 27.0, 35.0, 47.0, 40.0, 37.0, null, 36.0, 40.0, 35.0, 35.0, 37.0, 41.0, 40.0, 35.0, 45.0, 47.0, 47.0, 42.0, 35.0, null, 47.0, 42.0, 38.0, 22.0, 47.0, 22.0, 35.0, null, null, 37.0, 40.0, 20.0, 38.0, 42.0, 11.0, 40.0, 42.0, 16.0, 35.0, 27.0, 100.0, null, 35.0, 37.0, 18.0, 40.0, null, 36.0, 30.0, 40.0, 47.0, 35.0, 45.0, 42.0, 25.0, 40.0, null, 42.0, 30.0, 40.0, 40.0, 35.0, 30.0, 47.0, 37.0, null, 35.0, 45.0, null, 25.0, null, 40.0, 45.0, 47.0, 37.0, 35.0, null, 42.0, 4.0, 35.0, null, 47.0, 38.0, null, null, 44.0, null, 40.0, 40.0, 30.0, 45.0, 35.0, null, 40.0, 45.0, 35.0, 47.0, 47.0, 35.0, 30.0, null, null, null, 24.0, 31.0, 30.0, null, 47.0, null, 42.0, 20.0, 47.0, null, 40.0, 47.0, 45.0, 24.0, 45.0, 47.0, 30.0, 42.0, null, null, 28.0, 40.0, 28.0, null, 38.0, null, null, null, 42.0, 48.0, 42.0, 34.0, 47.0, 40.0, 35.0, 47.0, null, 40.0, 40.0, 47.0, 35.0, 37.0, 40.0, 40.0, 47.0, 35.0, 45.0, 45.0, 30.0, 47.0, null, null, null, null, 18.0, 35.0, null, 18.0, 30.0, 35.0, 37.0, 47.0, 38.0, 45.0, 24.0, null, null, 35.0, null, 35.0, 32.0, 37.0, null, 2.0, null, 42.0, 25.0, 35.0, 47.0, 38.0, null, 35.0, 35.0, 47.0, 37.0, 45.0, 31.0, 37.0, null, null, 18.0, 40.0, null, 18.0, null, 42.0, 35.0, 42.0, 45.0, 45.0, null, 35.0, 47.0, null, 42.0, 35.0, null, null, 45.0, null, 45.0, null, 45.0], \"z\": [115.0, 1850.0, 100.0, 820.0, 175.0, 250.0, 311.0, 295.0, 1116.0, 295.0, 500.0, 315.0, 595.0, 377.0, 580.0, 175.0, 195.0, 1595.0, 385.0, 920.0, 350.0, 595.0, 345.0, 445.0, 356.0, 395.0, 95.0, 375.0, 1395.0, 663.0, 575.0, 1295.0, 1870.0, 1345.0, 440.0, 145.0, 476.0, 656.0, 995.0, 915.0, 925.0, 1445.0, 409.0, 425.0, 620.0, 636.0, 1045.0, 516.0, 796.0, 980.0, 2470.0, 245.0, 25.0, 1268.0, 89.0, 595.0, 1400.0, 597.0, 930.0, 700.0, 178.0, 1389.0, 595.0, 25.0, 170.0, 2100.0, 695.0, 643.0, 5290.0, 945.0, 875.0, 145.0, 700.0, 225.0, 676.0, 415.0, 3.0, 1248.0, 995.0, 475.0, 975.0, 25.0, 25.0, 420.0, 508.0, 952.0, 1900.0, 1195.0, 597.0, 356.0, 6480.0, 650.0, 995.0, 1305.0, 195.0, 25.0, 1240.0, 2980.0, 1356.0, 480.0, 325.0, 1020.0, 363.0, 5.6, 22.0, 80.0, 510.0, 100.0, 4335.0, 965.0, 25.0, 125.0, 925.0, 25.0, 99.0, 9.0, 40.0, 125.0, 845.0, 1550.0, 32.0, 375.0, 45.0, 30.0, 1390.0, 225.0, 275.0, 1295.0, 2545.0, 1600.5, 267.0, 1570.0, 60.0, 1820.0, 35.0, 135.0, 1469.0, 114.0, 2295.0, 1575.0, 2645.0, 31.5, 841.0, 1355.0, 15.0, 12.0, 95.0, 150.0, 1495.0, 1590.0, 1950.0, 389.0, 55.0, 1550.0, 45.0, 1391.0, 150.0, 325.0, 25.0, 49.0, 35.0, 35.0, 25.0, 60.0, 595.0, 35.0, 1294.0, 895.0, 35.0, 195.0, 4540.0, 198.0, 1090.0, 4580.0, 495.0, 1770.0, 125.0, 38.5, 25.0, 17.0, 50.0, 35.0, 135.0, 375.0, 17.0, 225.0, 110.0, 1400.0, 75.0, 475.0, 1540.0, 1000.0, 27.0, 944.0, 2775.0, 1370.0, 990.0, 75.0, 2730.0, 17.0, 75.0, 27.0, 150.0, 45.0, 225.0, 100.0, 175.0, 1470.0, 1516.0, 150.0, 49.0, 600.0, 2710.0, 693.0, 2980.0, 60.0, 100.0, 2330.0, 3680.0, 1123.0, 1395.0, 1719.0, 3340.0, 4770.0, 297.0, 1039.0, 1200.0, 1735.0, 1750.0, 145.0, 25.0, 19.0, 170.0, 50.0, 29.0, 35.0, 29.0, 17.0, 39.0, 2666.0, 1345.0, 35.0, 1520.0, 22.0, 45.0, 195.0, 244.0, 45.0, 1160.0, 22.0, 2525.0, 69.0, 50.0, 210.0, 1578.0, 125.0, 384.0, 1250.0, 45.5, 100.0, 1020.0, 287.0, 2290.0, 100.0, 2270.0, 35.0, 35.0, 15.0, 15.0, 17.0, 1276.0, 100.0, 29.0, 70.0, 890.0, 139.0, 1350.0, 939.0, 1350.0, 60.0, 210.0, 2235.0, 150.0, 2635.0, 777.0, 199.0, 115.0, 1105.0, 49.0, 3140.0, 50.0, 3240.0]}, {\"hoverlabel\": {\"namelength\": 0}, \"hovertemplate\": \"category=Caf\\u00e9 furniture<br>width=%{x}<br>depth=%{y}<br>price=%{z}\", \"legendgroup\": \"category=Caf\\u00e9 furniture\", \"marker\": {\"color\": \"#FFA15A\", \"symbol\": \"circle\"}, \"mode\": \"markers\", \"name\": \"category=Caf\\u00e9 furniture\", \"scene\": \"scene\", \"showlegend\": true, \"type\": \"scatter3d\", \"x\": [29.0, 45.0, 74.0, 70.0, null, 74.0, 74.0, 74.0, 38.0, null, 53.0, null, 50.0, 46.0, 46.0, 53.0, null, 50.0, 74.0, 38.0, null, 53.0, 53.0, 40.0, 53.0, 54.0], \"y\": [null, 29.0, null, null, null, null, null, null, 36.0, null, 50.0, null, 46.0, 47.0, 49.0, 51.0, null, 46.0, null, 36.0, null, 50.0, 51.0, 40.0, 50.0, 46.0], \"z\": [295.0, 145.0, 596.0, 450.0, 450.0, 1385.0, 395.0, 476.0, 595.0, 550.0, 275.0, 1140.0, 180.0, 395.0, 345.0, 399.0, 1140.0, 225.0, 1385.0, 595.0, 1340.0, 275.0, 395.0, 475.0, 275.0, 225.0]}, {\"hoverlabel\": {\"namelength\": 0}, \"hovertemplate\": \"category=Chairs<br>width=%{x}<br>depth=%{y}<br>price=%{z}\", \"legendgroup\": \"category=Chairs\", \"marker\": {\"color\": \"#19d3f3\", \"symbol\": \"circle\"}, \"mode\": \"markers\", \"name\": \"category=Chairs\", \"scene\": \"scene\", \"showlegend\": true, \"type\": \"scatter3d\", \"x\": [75.0, null, 70.0, 69.0, 67.0, 82.0, 59.0, 67.0, 67.0, null, null, 74.0, 85.0, 57.0, 58.0, 39.0, 71.0, 40.0, 40.0, 41.0, 53.0, 64.0, 68.0, 56.0, 80.0, 43.0, 49.0, 68.0, 60.0, 144.0, 39.0, 74.0, 62.0, 62.0, 43.0, 75.0, 60.0, null, 42.0, 46.0, 72.0, 41.0, null, 29.0, 69.0, 68.0, 55.0, 79.0, 60.0, 53.0, 73.0, 48.0, 59.0, 56.0, 53.0, 47.0, null, 40.0, 68.0, 52.0, null, 93.0, 100.0, 57.0, 64.0, 104.0, 52.0, 42.0, 45.0, 41.0, 45.0, null, null, 70.0, 68.0, 44.0, 38.0, 68.0, 49.0, 79.0, 51.0, 117.0, 49.0, 64.0, 74.0, 68.0, 60.0, 58.0, null, 70.0, 67.0, 37.0, null, 40.0, 39.0, 83.0, 35.0, 67.0, 67.0, 41.0, null, 70.0, 50.0, 53.0, null, 58.0, 47.0, 48.0, 92.0, 38.0, 68.0, 92.0, 50.0, 40.0, null, 45.0, 132.0, 67.0, 56.0, null, 62.0, 58.0, 119.0, null, 44.0, 46.0, 22.0, 36.0, 60.0, 51.0, 68.0, 75.0, 90.0, null, 68.0, 86.0, 42.0, 43.0, null, 44.0, 68.0, 72.0, null, 67.0, 68.0, 52.0, 83.0, 105.0, 80.0, 75.0, null, null, 85.0, 43.0, 38.0, null, 68.0, 68.0, 51.0, 59.0, 39.0, 68.0, 39.0, 68.0, 50.0, 87.0, 40.0, null, 75.0, null, 42.0, 54.0, 36.0, 52.0, null, 67.0, 52.0, null, 47.0, 43.0, 94.0, 85.0, 49.0, 113.0, null, 43.0, 37.0, 58.0, null, 68.0, null, 87.0, 67.0, 113.0, 67.0, 53.0, 35.0, null, 159.0, null, 44.0, 66.0, 68.0, 15.0, 43.0, 100.0, 89.0, 94.0, 78.0, 44.0, 42.0, null, 52.0, 70.0, 74.0, 75.0, 43.0, null, 56.0, 75.0, 50.0, null, 41.0, 85.0, 52.0, 51.0, 40.0, 78.0, 47.0, 78.0, null, 80.0, 100.0, 111.0, 85.0, 23.0, 56.0, 67.0, null, 41.0, 50.0, 42.0, 42.0, 43.0, 40.0, null, null, 98.0, null, 44.0, null, null, 44.0, 52.0, 23.0, 40.0, 90.0, 78.0, 35.0, 53.0, null, 87.0, 36.0, null, 78.0, 120.0, null, 52.0, 24.0, 44.0, 65.0, 57.0, 56.0, 41.0, 43.0, 92.0, 38.0, 68.0, 88.0, 80.0, null, 45.0, null, null, 56.0, 68.0, 100.0, null, null, null, 69.0, 70.0, 66.0, 68.0, 138.0, null, null, 51.0, 100.0, 78.0, 89.0, 75.0, 68.0, 52.0, 37.0, 100.0, null, 78.0, 78.0, 138.0, 90.0, 53.0, 85.0, 40.0, 95.0, null, 74.0, null, 75.0, null, 74.0, 40.0, 55.0, 44.0, 45.0, 75.0, 36.0, 74.0, null, null, 43.0, 43.0, 75.0, 90.0, 47.0, 45.0, 42.0, 87.0, 110.0, 40.0, null, null, 43.0, 50.0, null, 78.0, 93.0, 85.0, 74.0, 100.0, null, null, 80.0, 49.0, 49.0, 87.0, 85.0, 87.0, 149.0, 4.0, 90.0, 52.0, 51.0, 100.0, 53.0, 87.0, null, null, 49.0, 100.0, null, 74.0, 95.0, 52.0, 85.0, null, 87.0, null, null, null, 55.0, 74.0, 53.0, 105.0, 54.0, 78.0, 85.0, 51.0, 50.0, 80.0, 75.0, null, null, 45.0, 46.0, 87.0, 50.0, 56.0, 38.0, 74.0, 75.0, 50.0, 48.0, 56.0, 42.0, 74.0, 41.0, 75.0, 53.0, 35.0, 49.0, 71.0, null, null, null, 43.0, 87.0, null, 74.0, 69.0, 80.0, 48.0, 87.0, 51.0, 87.0, 78.0, 90.0, null, 74.0, null, 68.0, 100.0, null, 100.0, 74.0, 105.0, 44.0, 40.0, 117.0, 78.0, 95.0, 95.0, 105.0, 78.0, null, null, null, 78.0, 90.0, 105.0, 53.0, 100.0, 100.0, 100.0, 95.0, 68.0, 78.0, 78.0, null, null, null, null, 85.0, 100.0, null, 95.0, 53.0, null, 100.0, null, 85.0, null, 74.0, 105.0, null, 95.0, 95.0, null, 85.0, 80.0, 95.0], \"y\": [null, 38.0, 58.0, 69.0, 67.0, 96.0, 65.0, 67.0, 85.0, 65.0, null, 69.0, 94.0, 57.0, 56.0, 47.0, 71.0, null, 42.0, 45.0, 53.0, 75.0, 68.0, 62.0, 81.0, 52.0, 55.0, 68.0, 72.0, 49.0, 30.0, 69.0, 68.0, 60.0, 39.0, null, 56.0, null, 48.0, 54.0, 63.0, 47.0, null, null, 69.0, 68.0, 56.0, 69.0, 50.0, 53.0, 65.0, 50.0, 62.0, 56.0, 53.0, 60.0, null, null, 94.0, 50.0, 38.0, 151.0, 35.0, 57.0, 64.0, 88.0, 50.0, 49.0, 51.0, 45.0, 47.0, 38.0, null, 73.0, 68.0, 55.0, null, 68.0, 55.0, 73.0, 58.0, 164.0, 52.0, 37.0, null, 68.0, 67.0, 56.0, null, 58.0, 74.0, 24.0, 40.0, 45.0, 51.0, 78.0, null, null, 67.0, null, null, 70.0, 50.0, 46.0, null, 56.0, 56.0, 51.0, 97.0, 38.0, 68.0, 83.0, 44.0, null, null, 47.0, 36.0, 67.0, 62.0, 40.0, 59.0, 58.0, 98.0, null, 51.0, 49.0, 21.0, 36.0, null, 58.0, 68.0, null, 50.0, null, 68.0, 78.0, 49.0, 51.0, null, 35.0, 94.0, 63.0, null, null, 82.0, 50.0, 94.0, 99.0, 85.0, null, null, 38.0, 32.0, 39.0, 38.0, null, 68.0, 68.0, 58.0, 69.0, 51.0, 68.0, null, 68.0, 50.0, null, 32.0, null, null, null, null, null, 36.0, 44.0, null, 67.0, 50.0, null, 51.0, 51.0, 84.0, null, 58.0, 93.0, 40.0, 42.0, 37.0, 58.0, null, 68.0, 47.0, 84.0, 67.0, 93.0, 67.0, 50.0, null, null, 44.0, null, 55.0, 84.0, 82.0, 27.0, 51.0, null, 89.0, 84.0, 158.0, 56.0, 48.0, null, 55.0, 47.0, null, null, 39.0, null, 41.0, null, 44.0, null, 43.0, 94.0, 52.0, 58.0, 51.0, null, 51.0, null, null, null, null, 164.0, null, null, 59.0, null, 40.0, 43.0, 46.0, 41.0, 49.0, 53.0, 45.0, null, null, 94.0, null, 44.0, null, null, 44.0, 50.0, 28.0, 40.0, null, null, 37.0, 50.0, null, null, null, null, null, null, null, 44.0, 24.0, 42.0, 61.0, 63.0, 61.0, 45.0, 40.0, 83.0, 36.0, 68.0, 45.0, null, null, 51.0, null, null, 60.0, 68.0, null, null, null, null, 69.0, 73.0, null, 94.0, 160.0, null, null, 58.0, null, null, 89.0, null, 94.0, 50.0, null, null, null, null, null, 160.0, 163.0, 51.0, null, 47.0, null, null, null, null, null, null, 60.0, 38.0, 38.0, 44.0, 47.0, null, 36.0, null, null, null, 52.0, 51.0, null, 50.0, 56.0, 29.0, 50.0, null, 157.0, 51.0, null, null, 52.0, 52.0, null, null, 101.0, null, null, null, null, null, null, 50.0, 57.0, 84.0, null, null, 84.0, 23.0, 163.0, 50.0, 59.0, null, 50.0, null, null, null, 50.0, null, null, null, null, 53.0, null, null, null, null, null, null, 56.0, null, 43.0, null, 46.0, null, null, 59.0, 53.0, null, null, null, null, 48.0, 47.0, null, 53.0, 61.0, 36.0, null, null, 46.0, 50.0, 61.0, 53.0, null, 45.0, null, 51.0, null, 50.0, 71.0, null, null, null, 40.0, null, null, null, 69.0, null, 51.0, null, 58.0, null, null, null, null, null, null, 82.0, null, null, null, null, null, 44.0, 51.0, 164.0, null, null, null, null, null, null, null, null, null, null, null, 50.0, null, null, null, null, 82.0, null, null, null, null, null, null, null, null, null, null, 50.0, null, null, null, null, null, null, null, null, null, null, null, null, null, null], \"z\": [179.0, 25.0, 595.0, 545.0, 155.0, 995.0, 175.0, 125.0, 195.0, 350.0, 295.0, 370.0, 1395.0, 395.0, 245.0, 40.0, 190.0, 25.0, 69.0, 30.0, 195.0, 175.0, 695.0, 495.0, 795.0, 195.0, 125.0, 250.0, 795.0, 995.0, 175.0, 245.0, 295.0, 795.0, 59.0, 359.0, 495.0, 50.0, 60.0, 95.0, 675.0, 79.2, 275.0, 295.0, 310.0, 395.0, 345.0, 545.0, 69.0, 195.0, 975.0, 199.0, 345.0, 95.0, 195.0, 179.0, 549.0, 25.0, 790.0, 245.0, 25.0, 1100.0, 295.0, 424.0, 1295.0, 675.0, 195.0, 85.0, 177.0, 30.0, 49.0, 25.0, 16.0, 695.0, 1295.0, 175.0, 69.0, 945.0, 125.0, 675.0, 295.0, 1895.0, 99.0, 495.0, 589.0, 595.0, 645.0, 595.0, 19.0, 695.0, 445.0, 15.0, 19.0, 345.0, 225.0, 825.0, 29.0, 285.0, 645.0, 195.0, 11.4, 395.0, 195.0, 327.0, 95.0, 255.0, 179.0, 245.0, 1695.0, 29.0, 225.0, 1495.0, 129.0, 25.0, 50.0, 49.0, 795.0, 995.0, 110.0, 19.0, 299.0, 220.0, 1795.0, 145.0, 79.0, 345.0, 50.0, 175.0, 350.0, 295.0, 795.0, 289.0, 395.0, 22.0, 225.0, 995.0, 145.0, 225.0, 100.0, 22.0, 597.0, 575.0, 579.0, 525.0, 425.0, 195.0, 1075.0, 1425.0, 1345.0, 889.0, 100.0, 25.0, 295.0, 99.0, 29.0, 22.0, 225.0, 225.0, 225.0, 795.0, 175.0, 845.0, 45.0, 695.0, 150.0, 1725.0, 57.0, 25.0, 149.0, 95.0, 25.0, 100.0, 35.0, 149.0, 28.0, 745.0, 195.0, 100.0, 260.0, 345.0, 1500.0, 3475.0, 595.0, 1948.0, 19.0, 39.0, 19.0, 220.0, 40.0, 1445.0, 345.0, 995.0, 545.0, 1468.0, 645.0, 275.0, 29.0, 20.0, 636.0, 22.0, 175.0, 945.0, 382.0, 100.0, 225.0, 6065.0, 1995.0, 2350.0, 2500.0, 225.0, 395.0, 145.0, 34.0, 375.0, 979.0, 579.0, 99.0, 15.0, 95.0, 197.0, 129.0, 565.0, 195.0, 1395.0, 195.0, 295.0, 695.0, 1675.0, 260.0, 2475.0, 2765.0, 1795.0, 4145.0, 1700.0, 4675.0, 49.0, 85.0, 245.0, 19.0, 195.0, 180.0, 29.0, 145.0, 177.0, 395.0, 2345.0, 685.0, 1220.0, 1085.0, 84.0, 70.0, 1695.0, 84.0, 95.0, 125.0, 475.0, 2575.0, 1875.0, 110.0, 275.0, 5465.0, 2615.0, 395.0, 95.0, 1535.0, 150.0, 20.0, 149.0, 89.0, 55.0, 695.0, 445.0, 400.0, 220.0, 145.0, 995.0, 595.0, 1045.0, 327.0, 1595.0, 2345.0, 220.0, 1067.0, 2375.0, 35.0, 1295.0, 3555.0, 1725.0, 70.0, 150.0, 310.0, 795.0, 495.0, 1210.0, 2500.0, 100.0, 2625.0, 295.0, 4745.0, 1675.0, 1395.0, 919.0, 1210.0, 95.0, 395.0, 6965.0, 3875.0, 1875.0, 1215.0, 3032.0, 1300.0, 395.0, 2395.0, 275.0, 2875.0, 1196.0, 979.0, 195.0, 297.0, 1695.0, 324.0, 89.0, 139.0, 175.0, 99.0, 499.0, 35.0, 589.0, 1695.0, 70.0, 345.0, 225.0, 299.0, 385.0, 134.0, 145.0, 295.0, 2615.0, 1740.0, 395.0, 1640.0, 70.0, 345.0, 445.0, 2165.0, 2075.0, 1196.0, 1675.0, 1385.0, 5465.0, 3065.0, 1266.0, 1195.0, 745.0, 595.0, 1195.0, 5275.0, 3015.0, 2700.0, 150.0, 2600.0, 95.0, 545.0, 3665.0, 275.0, 2725.0, 3075.0, 845.0, 745.0, 6965.0, 100.0, 1085.0, 2395.0, 375.0, 5275.0, 2165.0, 2725.0, 1975.0, 5465.0, 2765.0, 345.0, 1976.0, 175.0, 3345.0, 225.0, 4295.0, 5275.0, 545.0, 375.0, 1195.0, 359.0, 2345.0, 925.0, 225.0, 395.0, 3015.0, 375.0, 345.0, 595.0, 1636.0, 1099.0, 225.0, 745.0, 235.0, 325.0, 915.0, 275.0, 249.0, 399.0, 195.0, 745.0, 995.0, 2765.0, 1266.0, 2176.0, 145.0, 2725.0, 1975.0, 1085.0, 210.0, 1195.0, 145.0, 2725.0, 595.0, 3225.0, 4295.0, 1975.0, 4025.0, 915.0, 1266.0, 995.0, 4745.0, 1245.0, 4265.0, 1636.0, 3345.0, 175.0, 435.0, 2200.0, 2075.0, 2675.0, 2275.0, 5865.0, 1595.0, 1575.0, 2765.0, 2765.0, 1475.0, 2575.0, 3165.0, 175.0, 4055.0, 4265.0, 4265.0, 2395.0, 995.0, 2095.0, 1395.0, 1149.0, 4565.0, 1975.0, 1975.0, 3795.0, 4265.0, 2176.0, 2535.0, 175.0, 2765.0, 4265.0, 3225.0, 3795.0, 3775.0, 1976.0, 3165.0, 125.0, 2875.0, 2535.0, 5465.0, 3475.0, 1475.0, 2275.0]}, {\"hoverlabel\": {\"namelength\": 0}, \"hovertemplate\": \"category=Chests of drawers & drawer units<br>width=%{x}<br>depth=%{y}<br>price=%{z}\", \"legendgroup\": \"category=Chests of drawers & drawer units\", \"marker\": {\"color\": \"#FF6692\", \"symbol\": \"circle\"}, \"mode\": \"markers\", \"name\": \"category=Chests of drawers & drawer units\", \"scene\": \"scene\", \"showlegend\": true, \"type\": \"scatter3d\", \"x\": [25.0, 118.0, 28.0, 60.0, 30.0, 160.0, 62.0, 161.0, 80.0, 90.0, 160.0, 40.0, 35.0, 80.0, 78.0, 70.0, 36.0, 84.0, 78.0, 70.0, 55.0, 108.0, 80.0, 70.0, 54.0, 40.0, 45.0, 50.0, 25.0, 36.0, 108.0, 46.0, 41.0, 87.0, 119.0, 3.0, 127.0, 90.0, 160.0, 82.0, 122.0, 58.0, 35.0, 25.0, 50.0, 159.0, 60.0, 160.0, 38.0, 31.0, 63.0, 60.0, 160.0, 80.0, 82.0, 41.0, 60.0, 60.0, 120.0, 80.0, 42.0, 60.0, 35.0, 50.0, 160.0, 67.0, 50.0, 60.0, 40.0, 40.0, 25.0, 80.0, 67.0, 120.0, 60.0, 82.0, 120.0, 80.0, 120.0, 40.0, 80.0, 80.0, 41.0, 50.0, 50.0, 80.0, 160.0, 120.0, 40.0, 160.0, 45.0, 160.0, 33.0, 40.0, 40.0, 25.0, 80.0, 160.0, 41.0, 40.0, 60.0, 160.0, 80.0, 120.0, 42.0, 80.0, 80.0, 41.0, 41.0, 41.0, 80.0, 80.0, 160.0, 120.0, 40.0, 80.0, 160.0, 40.0, 160.0, 40.0, 40.0, 80.0, 120.0, 80.0, 120.0], \"y\": [51.0, 43.0, 44.0, 42.0, 34.0, 48.0, 30.0, 50.0, 48.0, 46.0, 50.0, 48.0, 40.0, 48.0, 46.0, 41.0, 48.0, 49.0, 46.0, 40.0, 36.0, 50.0, 48.0, 40.0, 38.0, 48.0, 41.0, 51.0, 51.0, 58.0, 50.0, 49.0, 41.0, 54.0, 44.0, null, 49.0, 47.0, null, 50.0, 49.0, 23.0, 50.0, 51.0, 51.0, 44.0, 40.0, 47.0, null, null, 49.0, 57.0, 47.0, 40.0, 50.0, 45.0, 50.0, 40.0, 47.0, 57.0, 47.0, 57.0, 50.0, 51.0, 47.0, 48.0, 51.0, 50.0, 47.0, 47.0, 51.0, 40.0, 49.0, 47.0, 50.0, 50.0, 47.0, 47.0, 47.0, 47.0, 47.0, 57.0, 50.0, 51.0, 51.0, 47.0, 47.0, 47.0, 47.0, 47.0, 60.0, 47.0, 58.0, 47.0, 47.0, 51.0, 45.0, 47.0, 50.0, 47.0, 50.0, 47.0, 47.0, 47.0, 47.0, 47.0, 47.0, 45.0, 45.0, 45.0, 47.0, 47.0, 47.0, 47.0, 47.0, 47.0, 47.0, 47.0, 47.0, 47.0, 47.0, 47.0, 47.0, 47.0, 47.0], \"z\": [135.0, 1295.0, 175.0, 443.0, 49.0, 555.0, 139.0, 695.0, 295.0, 395.0, 1095.0, 165.0, 89.0, 495.0, 325.0, 245.0, 550.0, 345.0, 445.0, 199.0, 115.0, 645.0, 425.0, 299.0, 375.0, 495.0, 345.0, 180.0, 135.0, 345.0, 895.0, 295.0, 175.0, 945.0, 716.0, 95.0, 1045.0, 1295.0, 115.0, 495.0, 845.0, 200.0, 245.0, 115.0, 170.0, 636.0, 445.0, 1300.0, 70.0, 49.0, 521.5, 456.0, 1860.0, 395.0, 645.0, 844.0, 545.0, 295.0, 920.0, 499.0, 690.0, 356.0, 245.0, 150.0, 900.0, 545.0, 200.0, 730.0, 460.0, 240.0, 160.0, 395.0, 945.0, 1880.0, 415.0, 595.0, 920.0, 500.0, 920.0, 380.0, 320.0, 398.0, 395.0, 195.0, 230.0, 980.0, 1540.0, 960.0, 620.0, 1220.0, 825.0, 1860.0, 495.0, 240.0, 380.0, 140.0, 1795.0, 1640.0, 395.0, 320.0, 375.0, 1640.0, 580.0, 200.0, 595.0, 1060.0, 320.0, 1000.0, 939.0, 905.0, 400.0, 1060.0, 1220.0, 1320.0, 140.0, 1060.0, 1580.0, 320.0, 1060.0, 620.0, 240.0, 980.0, 1320.0, 1080.0, 1320.0]}, {\"hoverlabel\": {\"namelength\": 0}, \"hovertemplate\": \"category=Children's furniture<br>width=%{x}<br>depth=%{y}<br>price=%{z}\", \"legendgroup\": \"category=Children's furniture\", \"marker\": {\"color\": \"#B6E880\", \"symbol\": \"circle\"}, \"mode\": \"markers\", \"name\": \"category=Children's furniture\", \"scene\": \"scene\", \"showlegend\": true, \"type\": \"scatter3d\", \"x\": [80.0, 47.0, 44.0, 56.0, null, 55.0, 39.0, 39.0, null, null, 42.0, 39.0, 35.0, 99.0, 39.0, 37.0, 55.0, 56.0, 73.0, 37.0, 58.0, 64.0, 53.0, 105.0, 99.0, 47.0, 35.0, 59.0, 62.0, 99.0, 50.0, 94.0, 76.0, 105.0, 60.0, 90.0, 46.0, 55.0, 28.0, 89.0, null, 60.0, 99.0, 120.0, 60.0, 53.0, 40.0, 99.0, 67.0, 24.0, 80.0, 64.0, 44.0, null, 99.0, 46.0, 41.0, 50.0, 96.0, 99.0, 80.0, 30.0, 92.0, 56.0, 30.0, 80.0, 62.0, 28.0, 80.0, 94.0, 60.0, 30.0, 30.0, 56.0, null, 62.0, 53.0, 150.0, 128.0, 80.0, 30.0, 30.0, 60.0, 80.0, 30.0, 99.0, 60.0, 96.0, 128.0, 58.0, 94.0, 90.0, 51.0, 60.0, 60.0, 56.0, 46.0, 44.0, 39.0, 93.0, 46.0, 47.0, 96.0, 128.0, 30.0, 62.0, 41.0, 28.0, 94.0, 44.0, 41.0, 94.0, 42.0, 46.0, 41.0, 94.0, 35.0, 60.0, 45.0, 46.0, 56.0, 42.0, 42.0, 62.0], \"y\": [50.0, 56.0, 30.0, 56.0, null, null, 36.0, 36.0, null, null, null, 36.0, null, 44.0, 36.0, 24.0, null, 62.0, 50.0, 69.0, null, 17.0, 53.0, 50.0, 21.0, 60.0, null, 62.0, null, 44.0, null, 44.0, null, 50.0, 50.0, 50.0, 30.0, 38.0, 29.0, null, 21.0, 40.0, 44.0, 50.0, 51.0, 53.0, 38.0, 21.0, null, 24.0, 40.0, 17.0, 35.0, null, 44.0, 30.0, 43.0, null, 58.0, 44.0, 50.0, null, 67.0, 61.0, null, 52.0, 59.0, 29.0, 52.0, 44.0, 50.0, null, null, 60.0, null, null, 53.0, 50.0, 58.0, 40.0, null, null, 50.0, 50.0, null, 44.0, 50.0, 58.0, 58.0, 56.0, 44.0, 50.0, 63.0, 50.0, 50.0, 61.0, 30.0, 30.0, null, 21.0, 30.0, 56.0, 58.0, 58.0, null, 53.0, 45.0, null, 44.0, 30.0, 43.0, 44.0, 30.0, 30.0, 45.0, 44.0, null, 50.0, 48.0, 30.0, 61.0, 30.0, 30.0, null], \"z\": [495.0, 179.0, 245.0, 95.0, 135.0, 129.0, 59.0, 59.0, 149.0, 79.0, 45.0, 59.0, 29.0, 365.0, 59.0, 15.0, 129.0, 495.0, 175.0, 245.0, 349.0, 125.0, 195.0, 451.0, 155.0, 179.0, 29.0, 345.0, 425.0, 350.0, 175.0, 395.0, 49.0, 276.0, 425.0, 395.0, 195.0, 139.0, 125.0, 205.0, 195.0, 295.0, 275.0, 1545.0, 395.0, 195.0, 89.0, 125.0, 525.0, 89.0, 395.0, 100.0, 22.0, 89.0, 365.0, 250.0, 195.0, 140.0, 395.0, 350.0, 1095.0, 15.0, 449.0, 345.0, 30.0, 645.0, 299.0, 125.0, 645.0, 475.0, 830.0, 10.0, 25.0, 35.0, 25.0, 665.0, 195.0, 1225.0, 450.0, 395.0, 15.0, 5.0, 375.0, 1095.0, 55.0, 275.0, 415.0, 295.0, 325.0, 255.0, 385.0, 175.0, 69.0, 675.0, 545.0, 400.0, 150.0, 240.0, 45.0, 165.0, 260.0, 134.0, 420.0, 425.0, 10.0, 295.0, 275.0, 5.0, 320.0, 195.0, 195.0, 395.0, 10.0, 200.0, 220.0, 410.0, 195.0, 730.0, 225.0, 175.0, 235.0, 15.0, 15.0, 275.0]}, {\"hoverlabel\": {\"namelength\": 0}, \"hovertemplate\": \"category=Nursery furniture<br>width=%{x}<br>depth=%{y}<br>price=%{z}\", \"legendgroup\": \"category=Nursery furniture\", \"marker\": {\"color\": \"#FF97FF\", \"symbol\": \"circle\"}, \"mode\": \"markers\", \"name\": \"category=Nursery furniture\", \"scene\": \"scene\", \"showlegend\": true, \"type\": \"scatter3d\", \"x\": [66.0, 80.0, 60.0, 60.0, 60.0, 66.0, 56.0, 48.0, 66.0, 67.0, 60.0, 48.0, 27.0, null, 53.0, 99.0, 66.0, 66.0, 56.0, 50.0, 90.0, 80.0, 60.0, 66.0, 22.0, 80.0, 67.0, 82.0, 120.0, 60.0, 60.0, 83.0, 99.0, 79.0, null, null, null, 46.0, 90.0, 80.0, 90.0, 80.0, 150.0, 30.0, 44.0, 66.0, 99.0, 94.0, 94.0, 30.0, 29.0, 99.0, 56.0, 60.0, 66.0, 90.0, 52.0, 79.0, 30.0, 99.0, 30.0, 42.0, 56.0, 99.0, 35.0, 66.0, 99.0, 28.0, 94.0, 94.0, 30.0, 94.0, 60.0, 46.0, 46.0, 66.0, 80.0, 80.0, 30.0, 44.0, 44.0, 60.0, 60.0, 46.0, 44.0, 46.0, 99.0, 46.0, 94.0, 30.0, 60.0, 66.0, 93.0, 30.0, 42.0, 42.0, 42.0], \"y\": [null, 50.0, 40.0, 40.0, 40.0, null, 62.0, null, null, null, 51.0, null, 23.0, null, null, 44.0, null, null, 59.0, null, 79.0, 50.0, 50.0, null, 21.0, 52.0, null, 54.0, 50.0, 40.0, 50.0, null, 21.0, 46.0, null, null, 21.0, 30.0, 50.0, 50.0, 79.0, 52.0, 50.0, null, 30.0, null, 44.0, 44.0, 44.0, null, 25.0, 44.0, 61.0, 50.0, null, 79.0, 53.0, 46.0, null, 21.0, null, null, 61.0, 44.0, 37.0, null, 44.0, null, 44.0, 44.0, null, 44.0, 50.0, 30.0, 30.0, null, 40.0, 40.0, null, 30.0, 30.0, 50.0, 50.0, 30.0, 42.0, 30.0, 44.0, 30.0, 44.0, null, 50.0, null, 21.0, null, 30.0, 30.0, 30.0], \"z\": [595.0, 495.0, 370.0, 275.0, 465.0, 295.0, 110.0, 95.0, 395.0, 695.0, 395.0, 30.0, 59.0, 16.0, 145.0, 365.0, 995.0, 595.0, 85.0, 89.0, 810.0, 1095.0, 830.0, 1095.0, 50.0, 645.0, 695.0, 795.0, 1545.0, 295.0, 425.0, 25.0, 155.0, 995.0, 20.0, 20.0, 195.0, 250.0, 395.0, 1095.0, 825.0, 645.0, 1225.0, 55.0, 245.0, 995.0, 275.0, 395.0, 475.0, 5.0, 95.0, 350.0, 400.0, 730.0, 995.0, 545.0, 375.0, 796.0, 30.0, 125.0, 10.0, 25.0, 345.0, 350.0, 110.0, 995.0, 365.0, 5.0, 385.0, 410.0, 10.0, 395.0, 375.0, 200.0, 175.0, 1095.0, 395.0, 395.0, 15.0, 195.0, 240.0, 545.0, 675.0, 260.0, 55.0, 195.0, 275.0, 150.0, 320.0, 25.0, 415.0, 985.0, 165.0, 15.0, 15.0, 10.0, 15.0]}, {\"hoverlabel\": {\"namelength\": 0}, \"hovertemplate\": \"category=Outdoor furniture<br>width=%{x}<br>depth=%{y}<br>price=%{z}\", \"legendgroup\": \"category=Outdoor furniture\", \"marker\": {\"color\": \"#FECB52\", \"symbol\": \"circle\"}, \"mode\": \"markers\", \"name\": \"category=Outdoor furniture\", \"scene\": \"scene\", \"showlegend\": true, \"type\": \"scatter3d\", \"x\": [null, 119.0, null, 63.0, 117.0, null, null, 129.0, 80.0, 48.0, null, 100.0, 89.0, 40.0, 223.0, null, null, null, 83.0, null, 62.0, 57.0, 114.0, null, 71.0, null, 60.0, 67.0, 68.0, null, null, 35.0, 63.0, 62.0, null, 223.0, 140.0, 70.0, null, 78.0, null, 54.0, 62.0, 79.0, null, null, 39.0, 62.0, null, 56.0, null, 223.0, null, null, 62.0, 36.0, 54.0, 63.0, 62.0, null, 74.0, null, 160.0, 49.0, 45.0, 71.0, 67.0, null, 119.0, 245.0, 222.0, 60.0, 44.0, 63.0, 62.0, 62.0, null, 42.0, 42.0, 74.0, 44.0, 113.0, 225.0, 62.0, 40.0, 73.0, 56.0, 62.0, 90.0, 39.0, null, 45.0, 60.0, 136.0, 49.0, null, 287.0, 223.0, 35.0, 74.0, 44.0, 90.0, 119.0, null, 70.0, 80.0, null, 62.0, 225.0, 40.0, 44.0, 62.0, 90.0, 39.0, 179.0, 146.0, 45.0, null, 36.0, null, 44.0, 50.0, null, 90.0, 90.0, null, 161.0, 90.0, null, 56.0, 58.0, null, null, 98.0, 341.0, null, 71.0, null, 90.0, 160.0, null, 62.0, 222.0, null, 64.0, 58.0, 51.0, 60.0, null, null, 18.0, 71.0, 326.0, 161.0, 223.0, null, 36.0, 62.0, 60.0, 62.0, 136.0, null, null, 71.0, 50.0, 39.0, 35.0, 83.0, 260.0, 98.0, 90.0, 50.0, 223.0, 44.0, 164.0, 90.0, 80.0, 98.0, 47.0, 72.0, 98.0, 18.0, 62.0, 62.0, 55.0, null, 39.0, 52.0, 90.0, 62.0, 45.0, 50.0, 2.0, 82.0, 287.0, 80.0, 44.0, 62.0, 36.0, 62.0, 62.0, 42.0, 50.0, 44.0, 42.0, 118.0, null, 223.0, 82.0, 90.0, 9.0, 55.0, 98.0, 50.0, 50.0, 144.0], \"y\": [null, null, null, null, 65.0, null, null, 44.0, 62.0, 92.0, null, null, null, 38.0, 80.0, null, null, null, 94.0, null, 65.0, 55.0, 41.0, null, null, null, null, null, 67.0, null, null, null, 80.0, null, null, 80.0, null, null, null, null, null, null, null, 81.0, null, null, 40.0, null, null, null, null, 80.0, null, null, null, 33.0, 68.0, 80.0, null, null, null, null, 80.0, null, null, null, null, null, null, 94.0, 80.0, null, 42.0, 80.0, null, null, null, null, 56.0, 92.0, null, 52.0, 82.0, 62.0, 40.0, null, 60.0, 80.0, null, 36.0, null, null, null, 42.0, null, null, 144.0, 144.0, null, null, 44.0, null, 48.0, null, null, 80.0, null, 82.0, 82.0, 46.0, 44.0, 62.0, null, 36.0, 94.0, 64.0, null, null, 49.0, null, 44.0, null, null, null, null, null, 82.0, null, null, 41.0, 75.0, null, null, 82.0, 94.0, null, null, null, null, 80.0, null, 80.0, 80.0, null, 80.0, 75.0, 63.0, 60.0, null, null, 82.0, null, 94.0, 82.0, 82.0, null, 32.0, null, 60.0, null, 42.0, null, null, null, null, 36.0, null, 94.0, 94.0, null, null, 50.0, 144.0, 44.0, 94.0, null, 80.0, 82.0, null, null, 100.0, 82.0, 44.0, 62.0, null, null, 36.0, null, null, 42.0, null, 50.0, 92.0, 82.0, 82.0, null, 44.0, 62.0, 32.0, 62.0, 62.0, 52.0, 50.0, 44.0, 46.0, 67.0, null, 82.0, 82.0, null, 92.0, null, 94.0, 50.0, 50.0, 82.0], \"z\": [199.0, 564.0, 1431.0, 205.0, 445.0, 984.0, 3442.0, 175.0, 384.0, 205.0, 1786.0, 225.0, 205.0, 99.0, 2576.0, 841.0, 79.0, 2781.0, 950.0, 175.0, 255.0, 155.0, 255.0, 4783.0, 519.0, 477.0, 245.0, 180.0, 465.0, 465.0, 771.0, 125.0, 275.0, 395.0, 4785.0, 2384.0, 675.0, 103.0, 261.0, 745.0, 1961.0, 89.0, 255.0, 179.0, 255.0, 9.0, 55.0, 395.0, 4145.0, 205.0, 2965.0, 2034.0, 2115.0, 2875.0, 45.0, 35.4, 107.4, 309.0, 75.0, 467.0, 111.0, 493.0, 1588.0, 103.0, 95.0, 974.0, 525.0, 745.0, 339.0, 2975.0, 2792.8, 149.0, 59.0, 542.0, 39.0, 345.0, 295.0, 45.0, 175.0, 139.0, 155.0, 695.0, 3746.0, 75.0, 39.0, 415.0, 149.0, 311.4, 3286.0, 59.0, 275.0, 95.0, 103.0, 316.0, 245.0, 195.0, 5144.0, 3206.0, 29.0, 177.0, 17.4, 2196.0, 495.0, 1445.0, 785.0, 425.0, 175.0, 519.0, 3781.0, 75.0, 49.0, 65.0, 1727.0, 59.0, 2170.0, 1036.0, 150.0, 2275.0, 129.0, 27.0, 39.0, 99.0, 16.2, 1900.0, 636.0, 1095.0, 2016.0, 2636.0, 323.0, 95.0, 340.0, 445.0, 195.0, 1238.0, 4070.0, 4888.0, 380.0, 29.4, 1679.0, 1668.0, 2000.0, 544.4, 2160.4, 25.0, 495.0, 316.0, 69.0, 276.0, 1845.0, 15.0, 460.0, 356.0, 3925.0, 1773.0, 2412.0, 14.4, 29.0, 49.0, 260.0, 88.0, 340.0, 1780.0, 619.0, 1010.0, 35.0, 59.0, 29.0, 1075.0, 3120.0, 225.0, 1676.0, 49.0, 2832.0, 30.0, 2025.0, 2616.4, 575.0, 1247.0, 149.0, 356.0, 385.0, 495.0, 110.0, 149.0, 129.0, 149.0, 59.0, 103.0, 676.0, 75.0, 75.0, 49.0, 125.0, 709.0, 4345.0, 215.0, 59.0, 115.0, 29.0, 80.0, 145.0, 149.0, 70.0, 39.0, 125.0, 729.0, 75.0, 2794.0, 709.0, 3102.0, 395.0, 129.0, 1220.0, 75.0, 35.0, 3564.0]}, {\"hoverlabel\": {\"namelength\": 0}, \"hovertemplate\": \"category=Room dividers<br>width=%{x}<br>depth=%{y}<br>price=%{z}\", \"legendgroup\": \"category=Room dividers\", \"marker\": {\"color\": \"#636efa\", \"symbol\": \"circle\"}, \"mode\": \"markers\", \"name\": \"category=Room dividers\", \"scene\": \"scene\", \"showlegend\": true, \"type\": \"scatter3d\", \"x\": [45.0, 182.0, null, 147.0, 51.0, 261.0, 147.0, 147.0, 258.0, 83.0, 182.0, 175.0, 147.0], \"y\": [null, 39.0, null, 39.0, 35.0, 35.0, 39.0, 39.0, 51.0, null, 39.0, 50.0, 39.0], \"z\": [189.0, 725.0, 220.0, 495.0, 440.0, 2377.0, 895.0, 745.0, 2397.0, 357.0, 1350.0, 1231.0, 695.0]}, {\"hoverlabel\": {\"namelength\": 0}, \"hovertemplate\": \"category=Sideboards, buffets & console tables<br>width=%{x}<br>depth=%{y}<br>price=%{z}\", \"legendgroup\": \"category=Sideboards, buffets & console tables\", \"marker\": {\"color\": \"#EF553B\", \"symbol\": \"circle\"}, \"mode\": \"markers\", \"name\": \"category=Sideboards, buffets & console tables\", \"scene\": \"scene\", \"showlegend\": true, \"type\": \"scatter3d\", \"x\": [77.0, 37.0, 77.0, 38.0, 145.0, 120.0, 180.0, 157.0, 145.0, 35.0, 140.0, 118.0, 119.0, 81.0, 120.0, 180.0, 162.0, 121.0, 121.0, 162.0, 60.0, 120.0, 162.0], \"y\": [39.0, null, 39.0, null, 48.0, 35.0, 40.0, 47.0, 48.0, null, 35.0, 38.0, 40.0, 47.0, 42.0, 42.0, 37.0, 37.0, 47.0, 37.0, 42.0, 45.0, 37.0], \"z\": [295.0, 445.0, 500.0, 495.0, 1345.0, 350.0, 890.0, 1395.0, 2100.0, 495.0, 620.0, 796.0, 425.0, 695.0, 1820.0, 1650.0, 1550.0, 1395.0, 995.0, 1950.0, 965.0, 1495.0, 1900.0]}, {\"hoverlabel\": {\"namelength\": 0}, \"hovertemplate\": \"category=Sofas & armchairs<br>width=%{x}<br>depth=%{y}<br>price=%{z}\", \"legendgroup\": \"category=Sofas & armchairs\", \"marker\": {\"color\": \"#00cc96\", \"symbol\": \"circle\"}, \"mode\": \"markers\", \"name\": \"category=Sofas & armchairs\", \"scene\": \"scene\", \"showlegend\": true, \"type\": \"scatter3d\", \"x\": [93.0, 93.0, 144.0, null, null, 99.0, 119.0, 137.0, 179.0, 218.0, 291.0, null, 212.0, null, 180.0, null, 128.0, 285.0, 212.0, 322.0, 199.0, 176.0, 198.0, null, 293.0, null, 211.0, null, 192.0, 212.0, 225.0, 247.0, 164.0, 387.0, 92.0, 60.0, 328.0, 186.0, 149.0, 212.0, 285.0, 241.0, 213.0, 200.0, 212.0, null, 252.0, 36.0, 242.0, 322.0, 177.0, 105.0, 88.0, 153.0, null, null, 186.0, 291.0, 204.0, 200.0, null, 218.0, 230.0, 89.0, 171.0, 225.0, 228.0, 297.0, 252.0, 141.0, 204.0, 177.0, 62.0, 80.0, 252.0, 93.0, 252.0, 319.0, 258.0, null, 149.0, 71.0, 211.0, 327.0, 249.0, null, null, 212.0, 178.0, 368.0, 282.0, 171.0, 80.0, 80.0, null, 164.0, null, null, 228.0, null, 297.0, null, 22.0, 85.0, 252.0, 113.0, 89.0, 200.0, null, null, null, 192.0, 230.0, 67.0, 82.0, null, null, null, null, 298.0, 192.0, null, 100.0, null, null, 186.0, 235.0, 92.0, 360.0, null, null, null, 75.0, 164.0, 200.0, 309.0, 40.0, 80.0, 116.0, null, 68.0, 186.0, null, null, 387.0, 259.0, null, null, 190.0, 271.0, 303.0, 50.0, 181.0, null, 172.0, 15.0, 257.0, null, 347.0, 204.0, null, null, null, null, 189.0, 84.0, 100.0, 142.0, null, null, null, 241.0, 18.0, null, 204.0, 252.0, 349.0, 227.0, null, null, null, 68.0, 113.0, null, 277.0, 328.0, 282.0, 327.0, 86.0, null, 80.0, 149.0, 235.0, null, null, null, null, 294.0, 196.0, 200.0, 267.0, null, 68.0, 67.0, 100.0, null, 73.0, null, null, 266.0, null, 339.0, null, null, 346.0, null, null, null, 179.0, 140.0, 70.0, 80.0, 200.0, 56.0, null, 275.0, null, null, null, 141.0, null, 94.0, 349.0, 273.0, 186.0, 273.0, 261.0, 266.0, 80.0, 81.0, null, null, 141.0, 169.0, 242.0, 367.0, 249.0, 50.0, null, null, 90.0, null, null, null, 211.0, 360.0, null, 53.0, 71.0, null, 225.0, 235.0, null, 279.0, 90.0, null, null, null, 71.0, 142.0, 189.0, null, null, null, 121.0, 24.0, null, null, null, null, 346.0, 149.0, 73.0, 200.0, null, 227.0, 71.0, 88.0, null, null, 186.0, 177.0, 235.0, null, null, 252.0, 111.0, 81.0, 80.0, null, null, 65.0, 87.0, 260.0, null, 200.0, null, null, 279.0, null, null, null, 68.0, null, null, 235.0, 266.0, 318.0, null, null, 208.0, null, 211.0, null, null, null, null, null, 280.0, null, null, 234.0, null, null, 47.0, 90.0, null, 245.0, 258.0, 78.0, 235.0, null, 24.0, 211.0, 369.0, null, 235.0, 142.0, null, null, 160.0, 140.0, 89.0, 88.0, 73.0, 259.0, 47.0, 247.0, 190.0, 327.0, null, null, null, 160.0, 328.0, 60.0, null, null, 235.0, null, null, 341.0, null, null, null, 231.0, 160.0, 246.0, null, 60.0, 211.0, 275.0, 208.0, null, 326.0, 94.0, null, null, 252.0, 298.0, null, null, null, null, 322.0, 18.0, 275.0, null, 93.0, 81.0, 16.0, 339.0, null, 266.0, null, 349.0, null, 88.0, null, null, null, 88.0, 86.0, 93.0, null, 141.0, null, null, 211.0, 160.0, null, 369.0, null, 235.0, 141.0, 252.0, null, 93.0], \"y\": [99.0, 151.0, 49.0, null, null, 99.0, 76.0, 84.0, 88.0, 88.0, 99.0, null, null, 151.0, 88.0, null, 85.0, 151.0, 78.0, 98.0, 97.0, 81.0, 99.0, 88.0, null, null, 90.0, null, 99.0, null, 105.0, 98.0, 89.0, 163.0, 55.0, 40.0, 164.0, 99.0, 72.0, 78.0, 88.0, 98.0, 88.0, 97.0, null, null, null, null, null, 164.0, 98.0, 99.0, null, 88.0, null, null, 151.0, 151.0, 89.0, 120.0, null, 106.0, 151.0, 70.0, 90.0, 86.0, 95.0, 95.0, 164.0, 98.0, 89.0, 88.0, null, 100.0, 98.0, 93.0, 164.0, 98.0, 164.0, null, 84.0, 98.0, 88.0, 252.0, 164.0, null, null, 78.0, 106.0, 257.0, 158.0, 98.0, 13.0, null, null, 94.0, null, null, 112.0, null, null, null, null, 94.0, 164.0, 93.0, 70.0, 90.0, null, null, null, 99.0, 99.0, 85.0, 6.0, null, null, null, null, 164.0, 99.0, null, null, null, null, 113.0, 98.0, 83.0, null, null, null, null, null, 89.0, 97.0, null, null, 80.0, null, null, 54.0, 113.0, null, null, 164.0, 98.0, null, null, 98.0, 98.0, 157.0, null, 88.0, null, 108.0, 93.0, 95.0, null, 163.0, 84.0, null, null, null, null, 98.0, null, 80.0, 100.0, null, null, null, 98.0, 93.0, null, 84.0, 164.0, 164.0, 95.0, null, null, null, 54.0, 93.0, null, 164.0, 257.0, 158.0, 249.0, 53.0, null, 13.0, 84.0, 98.0, null, null, null, null, 98.0, 98.0, 97.0, 98.0, null, 54.0, null, 13.0, null, null, null, null, 93.0, null, 164.0, null, 25.0, null, null, null, null, 94.0, null, null, 13.0, 90.0, null, null, 98.0, null, null, null, 97.0, null, 84.0, 98.0, null, 113.0, 93.0, 98.0, 93.0, 157.0, 164.0, null, null, 98.0, 84.0, null, 164.0, 98.0, null, null, null, 70.0, null, null, null, 98.0, null, null, null, 98.0, null, 88.0, 98.0, null, 164.0, 70.0, null, null, null, 94.0, 100.0, 98.0, null, null, null, 88.0, 98.0, null, null, null, null, null, 84.0, null, 97.0, null, 98.0, 97.0, 88.0, null, null, 113.0, 98.0, 98.0, null, null, 164.0, 164.0, 164.0, null, null, null, 37.0, null, 94.0, null, 120.0, null, null, 164.0, null, null, null, 54.0, null, null, 98.0, null, 163.0, null, null, 98.0, 16.0, 98.0, null, null, null, null, null, 163.0, null, null, 94.0, null, null, null, 164.0, null, 94.0, 164.0, 158.0, 98.0, null, 98.0, 98.0, 164.0, null, 98.0, 100.0, null, null, 98.0, null, 70.0, null, null, 98.0, null, 98.0, 95.0, 252.0, null, null, null, 97.0, 164.0, null, null, null, 98.0, null, null, 94.0, null, null, null, 98.0, 97.0, 98.0, null, null, 94.0, 98.0, 98.0, null, 94.0, 84.0, null, null, 164.0, 164.0, null, null, null, null, 98.0, 93.0, 98.0, null, 93.0, 164.0, 88.0, 164.0, null, null, null, 164.0, null, null, null, null, null, null, 53.0, 93.0, null, 94.0, null, null, 98.0, 98.0, null, 164.0, null, 98.0, 98.0, 98.0, null, 93.0], \"z\": [890.0, 1300.0, 995.0, 2995.0, 1695.0, 1295.0, 345.0, 745.0, 1075.0, 1750.0, 4935.0, 1400.0, 1327.0, 1846.0, 995.0, 245.0, 399.0, 3120.0, 1176.0, 4585.0, 2695.0, 1295.0, 1995.0, 3395.0, 3300.0, 195.0, 2795.0, 206.5, 4190.0, 1277.0, 1845.0, 2195.0, 1995.0, 6545.0, 100.0, 300.0, 3590.0, 1645.0, 995.0, 1176.0, 4580.0, 2610.0, 2020.0, 1470.0, 1841.0, 380.0, 2345.0, 95.0, 3795.0, 3805.0, 1795.0, 1174.0, 549.0, 1660.0, 395.0, 325.0, 1990.0, 3845.0, 2495.0, 2236.0, 27.0, 2595.0, 2995.0, 1495.0, 2395.0, 1995.0, 2195.0, 5145.0, 5990.0, 1395.0, 3495.0, 1295.0, 395.0, 1160.0, 4545.0, 745.0, 3535.0, 5530.0, 3190.0, 345.0, 3275.0, 745.0, 6680.0, 6575.0, 6030.0, 295.0, 175.0, 1991.0, 1836.0, 8295.0, 4295.0, 1995.0, 40.0, 1092.0, 3245.0, 2025.0, 172.0, 60.0, 5436.0, 90.0, 6780.0, 345.0, 200.0, 250.0, 3385.0, 1948.0, 1495.0, 1596.0, 445.0, 75.0, 125.0, 2370.0, 2295.0, 585.0, 175.0, 80.0, 100.0, 60.0, 70.0, 5840.0, 2775.0, 45.0, 100.0, 60.0, 145.0, 3896.0, 4185.0, 995.0, 6095.0, 345.0, 100.0, 125.0, 104.0, 2995.0, 1445.0, 4220.0, 175.0, 680.0, 262.5, 445.0, 195.0, 2932.0, 145.0, 100.0, 9585.0, 2895.0, 250.0, 795.0, 3355.0, 4645.0, 5500.0, 39.0, 1680.0, 695.0, 2697.0, 205.0, 4645.0, 645.0, 5945.0, 2575.0, 140.0, 125.0, 95.0, 100.0, 2695.0, 596.0, 640.0, 1245.0, 280.0, 160.0, 375.0, 2665.0, 200.0, 100.0, 3900.0, 7610.0, 4695.0, 3800.0, 700.0, 795.0, 350.0, 245.0, 1468.0, 250.0, 5040.0, 6895.0, 5995.0, 8395.0, 1095.0, 116.0, 300.0, 2700.0, 4805.0, 450.0, 250.0, 145.0, 170.0, 7785.0, 3595.0, 1195.0, 4390.0, 225.0, 275.0, 300.0, 320.0, 280.0, 850.0, 1020.0, 200.0, 4604.0, 495.0, 4865.0, 645.0, 275.0, 7988.0, 75.0, 395.0, 245.0, 2170.0, 600.0, 150.0, 220.0, 1676.0, 785.0, 495.0, 6440.0, 320.0, 700.0, 300.0, 1995.0, 495.0, 2350.0, 7765.0, 4116.0, 2300.0, 3388.0, 4305.0, 5300.0, 1280.0, 1290.0, 556.0, 330.0, 1585.0, 3100.0, 5495.0, 8240.0, 4740.0, 516.0, 80.0, 100.0, 695.0, 280.0, 190.0, 100.0, 2055.0, 8495.0, 695.0, 395.0, 810.0, 895.0, 4220.0, 4785.0, 375.0, 5428.0, 1196.0, 295.0, 225.0, 395.0, 1100.0, 1545.0, 3108.0, 900.0, 200.0, 145.0, 1360.0, 350.0, 100.0, 375.0, 545.0, 1670.0, 5796.0, 2125.0, 775.0, 1520.0, 1135.0, 2515.0, 995.0, 1280.0, 465.0, 540.0, 2696.0, 2500.0, 6110.0, 1015.0, 50.0, 1610.0, 350.0, 1445.0, 80.0, 1260.0, 580.0, 69.0, 2085.0, 3120.0, 360.0, 2156.0, 350.0, 500.0, 4495.0, 476.0, 100.0, 515.0, 375.0, 425.0, 195.0, 1900.0, 4448.0, 6400.0, 350.0, 350.0, 4040.0, 275.0, 2195.0, 1800.0, 2310.0, 240.0, 550.0, 1660.0, 6160.0, 550.0, 435.0, 2650.0, 460.0, 305.0, 695.0, 2320.0, 720.0, 2975.0, 4100.0, 1800.0, 3760.0, 865.0, 356.0, 2045.0, 6295.0, 1910.0, 4800.0, 1645.0, 1140.0, 1990.0, 3540.0, 450.0, 2195.0, 1139.0, 900.0, 3908.0, 595.0, 2700.0, 3560.0, 8900.0, 495.0, 1400.0, 1615.0, 4841.0, 960.0, 150.0, 900.0, 665.0, 4010.0, 685.0, 775.0, 4070.0, 1025.0, 550.0, 840.0, 4270.0, 3140.0, 3875.0, 960.0, 250.0, 2100.0, 5040.0, 5553.0, 365.0, 3925.0, 1500.0, 1280.0, 1075.0, 7400.0, 7873.0, 520.0, 100.0, 1220.0, 660.0, 6000.0, 300.0, 5810.0, 845.0, 1260.0, 1600.0, 340.0, 5700.0, 835.0, 4172.0, 1250.0, 6228.0, 950.0, 1495.0, 150.0, 1750.0, 495.0, 2085.0, 1685.0, 1045.0, 295.0, 1900.0, 1340.0, 316.0, 3196.0, 2945.0, 1060.0, 7748.0, 795.0, 5600.0, 2396.0, 5800.0, 695.0, 1400.0]}, {\"hoverlabel\": {\"namelength\": 0}, \"hovertemplate\": \"category=Tables & desks<br>width=%{x}<br>depth=%{y}<br>price=%{z}\", \"legendgroup\": \"category=Tables & desks\", \"marker\": {\"color\": \"#ab63fa\", \"symbol\": \"circle\"}, \"mode\": \"markers\", \"name\": \"category=Tables & desks\", \"scene\": \"scene\", \"showlegend\": true, \"type\": \"scatter3d\", \"x\": [75.0, 52.0, 140.0, 75.0, 120.0, 36.0, null, 105.0, 55.0, 120.0, 55.0, 73.0, 60.0, null, null, 37.0, 78.0, 100.0, 67.0, 35.0, 60.0, null, 77.0, 60.0, 49.0, 50.0, 90.0, 60.0, 60.0, 142.0, 45.0, null, 46.0, 50.0, 93.0, 60.0, null, 3.0, 50.0, 75.0, 8.0, 60.0, 55.0, 100.0, 128.0, 90.0, 105.0, null, 53.0, 29.0, 32.0, 59.0, 120.0, 75.0, 75.0, 100.0, 60.0, 131.0, null, 37.0, 75.0, 95.0, 90.0, 200.0, null, 35.0, null, 120.0, 64.0, 39.0, 40.0, 80.0, 75.0, 151.0, null, 55.0, 75.0, 3.0, 60.0, 39.0, 55.0, 75.0, 46.0, null, 40.0, 27.0, 40.0, 67.0, 70.0, 80.0, 25.0, 80.0, 75.0, 60.0, null, 74.0, 90.0, 47.0, 46.0, null, 50.0, 45.0, null, null, null, null, 60.0, null, 75.0, 202.0, 60.0, 120.0, 45.0, 75.0, null, 120.0, null, 40.0, 75.0, 38.0, 64.0, 60.0, 76.0, 70.0, 42.0, 50.0, null, null, null, null, 41.0, null, 60.0, 78.0, 36.0, 110.0, null, 38.0, 98.0, null, 48.0, 78.0, 75.0, 75.0, 35.0, 75.0, 96.0, 60.0, 40.0, 51.0, 74.0, 37.0, 86.0, null, 120.0, 60.0, 120.0, 75.0, 73.0, 75.0, null, null, 100.0, null, null, 80.0, 27.0, 42.0, 75.0, null, 118.0, null, 46.0, 50.0, 45.0, 64.0, 80.0, 60.0, 96.0, 60.0, 78.0, 74.0, 89.0, null, 50.0, 87.0, 73.0, 37.0, null, null, null, 75.0, 62.0, 61.0, 60.0, 75.0, 60.0, 51.0, 105.0, 70.0, 60.0, 50.0, 75.0, 90.0, 75.0, null, 42.0, null, 60.0, null, 40.0, 155.0, 50.0, 62.0, 75.0, 48.0, null, 78.0, 75.0, 60.0, 96.0, 110.0, 75.0, 56.0, 75.0, 74.0, 79.0, 65.0, 4.0, 35.0, 75.0, 55.0, 60.0, 36.0, null, 70.0, 55.0, 67.0, 60.0, 48.0, null, 74.0, 60.0, 75.0, 41.0, 80.0, 54.0, 74.0, null, 121.0, 58.0, 128.0, 75.0, 100.0, 80.0, null, null, 60.0, 75.0, 75.0, null, 74.0, null, null, 45.0, null, 75.0, 75.0, 70.0, 50.0, 100.0, 78.0, 70.0, 83.0, 78.0, 75.0, 41.0, 48.0, 58.0, 65.0, 78.0, null, 80.0, null, 140.0, 100.0, 140.0, 90.0, 73.0, 60.0, 80.0, 90.0, 65.0, 100.0, 60.0, 60.0, 61.0, null, 147.0, 100.0, 73.0, 60.0, 62.0, 160.0, 233.0, 60.0, 87.0, 60.0, 160.0, 41.0, 110.0, 75.0, 87.0, 75.0, 35.0, 120.0, 60.0, 92.0, null, null, 30.0, 75.0, 61.0, 128.0, null, 74.0, 60.0, 78.0, 75.0, 60.0, 80.0, 75.0, null, 70.0, 110.0, null, 60.0, 140.0, 60.0, 110.0, null, null, null, 90.0, 78.0, 75.0, 75.0, 87.0, 50.0, 74.0, 100.0, 70.0, 155.0, 75.0, 70.0, 75.0, null, null, 75.0, 74.0, 90.0, null, 80.0, 60.0, 78.0, null, 62.0, 41.0, 74.0, 75.0, 140.0, 140.0, 140.0, 80.0, 87.0, 87.0, 87.0, null, 75.0, null, 41.0, 105.0, 70.0, 80.0, 60.0, 87.0, 105.0, null, 90.0, 83.0, 75.0, 160.0, 78.0, 60.0, 80.0, 60.0, null, 80.0, 74.0, 95.0, 70.0, 58.0, 79.0, null, 74.0, 74.0, null, 90.0, 82.0, null, 80.0, 80.0, 90.0, 80.0, null, null, 86.0, 75.0, 85.0, 80.0, 80.0, 60.0, 85.0, 78.0, 70.0, null, 67.0, 90.0, 75.0, 80.0, 80.0, 73.0, null, 87.0, 61.0, 78.0, 33.0, 75.0, 41.0, 80.0, 90.0, 72.0, 100.0, null, 213.0, 78.0, 70.0, 75.0, 60.0, 110.0, 75.0, 87.0, 100.0, 78.0, null, 60.0, 60.0, 90.0, 100.0, null, null, 85.0, 60.0, 70.0, 60.0, 95.0, 80.0, 100.0, 75.0, 90.0, 80.0, 60.0, 78.0, 110.0, 140.0, null, 95.0, 70.0, 105.0, 60.0, 60.0, 100.0, 100.0, 100.0, 160.0, 70.0, 80.0, 78.0, 78.0, 60.0, null, null, 60.0, null, 60.0, 85.0, 41.0, 105.0, 95.0, 75.0, 60.0, 85.0, 160.0, 95.0, 75.0, 87.0, 74.0, 75.0, null, 74.0, null, 80.0, 65.0, 75.0, null, 87.0, 75.0, 90.0, 51.0, 70.0, null, 74.0, null, 90.0, null, 80.0, 60.0, 78.0, 75.0, 70.0, 65.0, null, null, null, 80.0, 85.0, 74.0, 150.0, null, null, 80.0, 80.0, 80.0, 80.0, 60.0, 60.0, 85.0, null, 65.0, 70.0, null, 78.0, 78.0, 100.0, null, 74.0, 100.0, 100.0, null, null, 74.0, 75.0, 75.0, 41.0, 78.0, 74.0, 95.0, 105.0, 78.0, 78.0, null, null, 78.0, 95.0, 75.0, 105.0, 65.0, null, 60.0, 60.0, 85.0, null, 78.0, 100.0, 95.0, 78.0, null, null, null, 85.0, 74.0, null, 95.0, 75.0, 75.0, null, 100.0, 85.0, 105.0, 75.0, 78.0, 74.0, 85.0, null, null, 60.0, 60.0, 74.0, 85.0, 80.0, 80.0, 95.0], \"y\": [null, null, 65.0, null, null, 12.0, null, 50.0, null, 41.0, null, 50.0, null, null, null, 28.0, null, 36.0, null, 55.0, null, null, 159.0, null, 32.0, null, null, null, null, 50.0, null, null, null, null, null, null, 100.0, null, null, null, null, null, null, 36.0, 58.0, 54.0, 50.0, null, null, 25.0, null, null, 27.0, null, null, 50.0, null, 60.0, null, null, null, null, 50.0, 36.0, null, 40.0, null, 47.0, 17.0, null, null, null, null, 65.0, null, null, null, null, null, 41.0, null, null, 35.0, null, 40.0, null, null, null, 42.0, null, 25.0, null, null, null, null, 60.0, 52.0, null, 49.0, null, null, null, null, null, null, null, null, null, null, 36.0, null, 51.0, 40.0, null, null, 73.0, null, null, null, null, 17.0, null, 47.0, 47.0, 31.0, 35.0, null, null, 110.0, null, 41.0, null, null, null, 58.0, 70.0, null, null, null, null, 30.0, null, null, null, null, null, 58.0, null, 48.0, 38.0, null, 50.0, 35.0, null, 51.0, 39.0, 40.0, null, null, null, null, null, 48.0, null, null, 40.0, 23.0, 40.0, null, null, 45.0, null, 70.0, null, 35.0, null, null, null, 58.0, null, null, null, null, null, null, null, null, null, null, 110.0, null, null, 48.0, 45.0, null, null, null, 40.0, 16.0, null, null, null, null, 50.0, null, null, 70.0, null, null, null, null, 65.0, null, 53.0, null, null, null, null, null, null, 58.0, null, null, 41.0, null, null, 46.0, null, 3.0, 25.0, null, null, 40.0, 58.0, null, null, null, null, 40.0, 38.0, null, null, null, null, 45.0, null, 38.0, null, null, 45.0, 33.0, 58.0, null, null, null, null, null, null, null, null, null, null, 74.0, null, null, 80.0, null, null, 42.0, null, null, null, null, null, null, null, 45.0, null, 23.0, null, null, null, null, 80.0, null, null, 70.0, 79.0, 50.0, 39.0, null, 79.0, null, null, null, null, 45.0, null, 159.0, null, null, null, null, null, 35.0, null, null, null, null, 45.0, null, null, null, null, 35.0, null, null, 67.0, null, null, 50.0, null, 45.0, 58.0, 60.0, null, 40.0, null, null, null, null, null, null, null, null, 120.0, null, null, null, null, null, null, null, null, null, null, null, null, null, null, null, null, 75.0, null, null, null, null, null, null, null, null, 80.0, null, null, null, null, null, 45.0, null, null, null, null, null, null, null, null, null, null, null, null, 45.0, null, null, null, null, null, null, null, null, null, null, null, null, null, null, null, null, null, null, null, null, null, 46.0, null, 60.0, null, null, null, 54.0, null, null, null, 79.0, null, null, null, 35.0, null, null, null, null, null, null, null, null, null, null, null, null, null, null, null, null, null, 45.0, null, 58.0, null, 45.0, null, null, null, null, null, 35.0, null, null, null, null, null, null, null, null, null, 160.0, null, null, null, null, null, null, null, null, null, null, null, null, null, null, null, null, null, null, null, null, null, null, null, null, null, null, null, null, null, null, null, null, null, null, null, null, null, null, 80.0, null, null, 45.0, null, null, null, null, null, null, null, null, null, null, null, null, null, null, null, null, null, null, null, null, null, null, null, null, null, null, null, null, null, null, null, null, null, null, null, null, null, null, null, null, 35.0, null, null, null, null, null, null, null, null, null, null, null, null, 220.0, null, null, null, null, null, null, null, null, null, null, null, null, 45.0, null, null, null, null, null, null, null, null, null, null, null, null, null, null, null, null, null, null, null, null, null, null, null, null, null, null, null, null, null, null, null, null, null, null, null, null, null, null, null, null, null, null, null, null, null, null, null, null], \"z\": [199.0, 245.0, 475.0, 179.0, 270.0, 80.0, 59.0, 276.0, 89.0, 375.0, 30.0, 175.0, 111.0, 85.0, 179.0, 39.0, 149.0, 159.0, 125.0, 129.0, 460.0, 195.0, 450.0, 119.0, 625.0, 275.0, 495.0, 145.0, 175.0, 395.0, 189.0, 195.0, 295.0, 249.0, 645.0, 185.0, 690.0, 295.0, 395.0, 99.0, 9.0, 930.0, 29.0, 295.0, 450.0, 545.0, 451.0, 245.0, 145.0, 95.0, 101.5, 995.0, 200.0, 550.0, 359.0, 595.0, 300.0, 795.0, 129.0, 445.0, 480.0, 795.0, 175.0, 554.0, 175.0, 89.0, 595.0, 795.0, 125.0, 299.0, 375.0, 899.0, 235.0, 645.0, 135.0, 259.0, 195.0, 95.0, 390.0, 155.0, 39.0, 545.0, 225.0, 325.0, 245.0, 80.0, 245.0, 285.0, 345.0, 895.0, 10.0, 495.0, 795.0, 385.0, 139.0, 225.0, 295.0, 795.0, 295.0, 475.0, 225.0, 159.0, 475.0, 245.0, 225.0, 545.0, 745.0, 549.0, 275.0, 609.0, 175.0, 750.0, 175.0, 775.0, 345.0, 325.0, 495.0, 175.0, 165.0, 345.0, 100.0, 59.0, 476.0, 745.0, 15.0, 195.0, 1445.0, 345.0, 1370.0, 15.0, 175.0, 275.0, 51.0, 595.0, 345.0, 695.0, 395.0, 495.0, 476.0, 195.0, 87.0, 695.0, 595.0, 1590.0, 495.0, 255.0, 395.0, 356.0, 165.0, 69.0, 299.0, 99.0, 620.0, 345.0, 925.0, 45.0, 895.0, 395.0, 965.0, 275.0, 399.0, 49.0, 595.0, 345.0, 595.0, 595.0, 59.0, 155.0, 289.0, 1196.0, 745.0, 595.0, 160.0, 175.0, 159.0, 199.0, 899.0, 695.0, 295.0, 151.0, 495.0, 399.0, 205.0, 345.0, 149.0, 2615.0, 1035.0, 45.0, 395.0, 1325.0, 685.0, 265.0, 556.0, 1389.0, 775.0, 1285.0, 376.0, 325.0, 175.0, 645.0, 225.0, 140.0, 550.0, 225.0, 889.0, 110.0, 75.0, 15.0, 1465.0, 15.0, 346.5, 1196.0, 545.0, 295.0, 375.0, 95.0, 50.0, 595.0, 105.0, 490.0, 420.0, 500.0, 149.0, 95.0, 197.0, 596.0, 796.0, 345.0, 25.0, 80.0, 405.0, 129.0, 370.0, 275.0, 445.0, 695.0, 129.0, 245.0, 275.0, 395.0, 75.0, 395.0, 275.0, 325.0, 905.0, 2950.0, 375.0, 979.0, 445.0, 1495.0, 345.0, 425.0, 275.0, 2495.0, 2995.0, 2765.0, 100.0, 175.0, 475.0, 475.0, 149.0, 589.0, 1095.0, 579.0, 295.0, 1120.0, 545.0, 297.0, 395.0, 516.0, 2495.0, 595.0, 1000.0, 25.0, 1675.0, 1540.0, 939.0, 30.0, 200.0, 795.0, 635.0, 100.0, 675.0, 1769.0, 6180.0, 4265.0, 945.0, 810.0, 695.0, 395.0, 795.0, 545.0, 435.0, 3555.0, 175.0, 145.0, 1255.0, 1195.0, 755.0, 6065.0, 495.0, 351.0, 275.0, 6614.0, 1840.0, 1315.0, 2725.0, 385.0, 6024.0, 1039.0, 2375.0, 235.0, 945.0, 359.0, 94.0, 195.0, 285.0, 449.0, 565.0, 80.0, 425.0, 205.0, 1294.0, 325.0, 1325.0, 915.0, 465.0, 2475.0, 495.0, 2285.0, 796.0, 715.0, 2625.0, 2845.0, 825.0, 6028.0, 595.0, 875.0, 415.0, 2920.0, 95.0, 1975.0, 5465.0, 615.0, 300.0, 430.0, 475.0, 1725.0, 89.0, 299.0, 1995.0, 395.0, 1795.0, 235.0, 1295.0, 837.0, 2375.0, 75.0, 1099.0, 595.0, 995.0, 1295.0, 1590.0, 495.0, 2075.0, 1975.0, 665.0, 844.0, 1085.0, 265.0, 4240.0, 1850.0, 925.0, 995.0, 3225.0, 3015.0, 2725.0, 3075.0, 795.0, 5465.0, 1105.0, 3345.0, 495.0, 2100.0, 410.0, 2615.0, 1995.0, 1575.0, 2575.0, 237.0, 555.0, 6608.0, 1535.0, 440.0, 3664.0, 420.0, 3225.0, 545.0, 1976.0, 2535.0, 550.0, 349.0, 995.0, 1695.0, 324.0, 399.0, 2345.0, 995.0, 795.0, 2345.0, 695.0, 795.0, 825.0, 695.0, 1085.0, 1067.0, 660.0, 495.0, 895.0, 795.0, 2645.0, 385.0, 2295.0, 1315.0, 450.0, 1640.0, 845.0, 995.0, 249.0, 1095.0, 895.0, 345.0, 2176.0, 2725.0, 1350.0, 1295.0, 495.0, 775.0, 1044.0, 600.0, 2575.0, 595.0, 5465.0, 450.0, 1830.0, 695.0, 450.0, 375.0, 265.0, 2875.0, 2585.0, 2725.0, 4745.0, 1875.0, 3304.0, 330.0, 295.0, 1975.0, 3665.0, 845.0, 1266.0, 3475.0, 460.0, 795.0, 545.0, 1495.0, 3249.0, 4265.0, 475.0, 420.0, 700.0, 725.0, 720.0, 545.0, 2480.0, 1140.0, 2275.0, 1240.0, 3165.0, 385.0, 285.0, 6965.0, 4055.0, 4265.0, 3064.0, 745.0, 2275.0, 2095.0, 1395.0, 1515.0, 1149.0, 2765.0, 459.0, 1834.0, 475.0, 3795.0, 1000.0, 3165.0, 2875.0, 850.0, 215.0, 2395.0, 6128.0, 2875.0, 579.0, 945.0, 979.0, 499.0, 925.0, 589.0, 1695.0, 1595.0, 745.0, 299.0, 2345.0, 3015.0, 500.0, 995.0, 265.0, 595.0, 550.0, 1636.0, 1725.0, 995.0, 1695.0, 796.0, 385.0, 440.0, 550.0, 595.0, 445.0, 2165.0, 2765.0, 1266.0, 1795.0, 1675.0, 1385.0, 1245.0, 3065.0, 1266.0, 1195.0, 620.0, 1195.0, 995.0, 439.0, 695.0, 5275.0, 1140.0, 435.0, 2395.0, 5300.0, 4295.0, 1675.0, 4145.0, 4025.0, 915.0, 6965.0, 4745.0, 1245.0, 1340.0, 1636.0, 919.0, 575.0, 1100.0, 2075.0, 1085.0, 2675.0, 5865.0, 575.0, 1595.0, 2765.0, 2765.0, 1475.0, 2395.0, 565.0, 2295.0, 665.0, 3875.0, 415.0, 675.0, 5275.0, 2165.0, 1875.0, 4265.0, 2395.0, 1215.0, 4565.0, 1975.0, 1975.0, 3795.0, 1976.0, 2176.0, 2535.0, 950.0, 1390.0, 2765.0, 4265.0, 4675.0, 3345.0, 550.0, 4295.0, 1385.0, 5275.0, 3775.0, 5465.0, 465.0, 485.0, 195.0, 3475.0, 1195.0, 1475.0, 2275.0]}, {\"hoverlabel\": {\"namelength\": 0}, \"hovertemplate\": \"category=Trolleys<br>width=%{x}<br>depth=%{y}<br>price=%{z}\", \"legendgroup\": \"category=Trolleys\", \"marker\": {\"color\": \"#FFA15A\", \"symbol\": \"circle\"}, \"mode\": \"markers\", \"name\": \"category=Trolleys\", \"scene\": \"scene\", \"showlegend\": true, \"type\": \"scatter3d\", \"x\": [54.0, 45.0, 48.0, 30.0, 28.0, 28.0, 33.0, 48.0, 39.0, 126.0, 43.0, 57.0, 77.0, 40.0, 72.0, 40.0, 37.0, 55.0, 63.0, 50.0, 55.0, 77.0, 143.0, 79.0, 43.0, 30.0, 126.0, 72.0], \"y\": [18.0, null, null, null, null, null, null, 24.0, null, 79.0, null, null, null, null, 52.0, null, 50.0, null, null, null, null, null, 32.0, 62.0, null, null, 79.0, 52.0], \"z\": [39.0, 189.0, 195.0, 99.0, 125.0, 125.0, 125.0, 195.0, 245.0, 2295.0, 645.0, 537.0, 1495.0, 346.5, 995.0, 695.0, 99.0, 495.0, 1995.0, 295.0, 645.0, 1495.0, 400.0, 1495.0, 795.0, 49.0, 1895.0, 995.0]}, {\"hoverlabel\": {\"namelength\": 0}, \"hovertemplate\": \"category=TV & media furniture<br>width=%{x}<br>depth=%{y}<br>price=%{z}\", \"legendgroup\": \"category=TV & media furniture\", \"marker\": {\"color\": \"#19d3f3\", \"symbol\": \"circle\"}, \"mode\": \"markers\", \"name\": \"category=TV & media furniture\", \"scene\": \"scene\", \"showlegend\": true, \"type\": \"scatter3d\", \"x\": [120.0, 60.0, 60.0, 300.0, 180.0, 90.0, 149.0, 180.0, 160.0, 150.0, 120.0, 145.0, 320.0, 100.0, 120.0, 148.0, 240.0, 120.0, 183.0, 160.0, 202.0, 258.0, 120.0, 90.0, 180.0, 250.0, 180.0, 145.0, 120.0, 180.0, 240.0, 160.0, 240.0, 332.0, 326.0, null, 180.0, 180.0, 240.0, 120.0, 180.0, 210.0, 160.0, 160.0, 119.0, 180.0, 300.0, 160.0, 120.0, 258.0, 160.0, 180.0, 322.0, 180.0, 240.0, 160.0, 180.0, 241.0, 336.0, 245.0, 300.0, 180.0, 33.0, 56.0, 300.0, 160.0, null, 200.0, 120.0, 280.0, 56.0, 331.0, 60.0, 120.0, 120.0, 276.0, 120.0, 60.0, 120.0, 326.0, 64.0, null, 44.0, 300.0, 120.0, 100.0, 56.0, 282.0, 60.0, 180.0, 60.0, null, null, 60.0, 60.0, 60.0, 60.0, 180.0, 60.0, 60.0, null, 24.0, 120.0, null, 60.0, 60.0, null, 120.0, null, 60.0, 33.0, 22.0, 13.0, 240.0, 60.0, 60.0, null, 25.0, null, 60.0, 60.0, null, 9.0, 60.0, 120.0, 60.0, null, 21.0, 9.0, 60.0, 120.0, 120.0, 60.0, 17.0, null, 24.0, 60.0, 20.0, 60.0, 60.0, 60.0, 60.0, 9.0, 60.0, 60.0, 9.0, 300.0, 60.0, 300.0, null, null, null, null, null, null, 56.0, 60.0, null, 60.0, null, null, 220.0, null, null, 16.0, null, null, 60.0, null, 180.0, null, null, 25.0, 60.0, 4.0, null, null, 60.0, null, null, 60.0, 17.0, null, 120.0, null, 60.0, 320.0, 12.0, 24.0, 180.0], \"y\": [42.0, null, null, 42.0, 42.0, 26.0, 55.0, 41.0, 42.0, 36.0, 36.0, 49.0, 41.0, 36.0, 40.0, 47.0, 42.0, 41.0, 39.0, 40.0, 36.0, 41.0, 36.0, 40.0, 42.0, 36.0, 40.0, 49.0, 42.0, 40.0, 42.0, 47.0, 42.0, null, null, null, 41.0, 40.0, 42.0, 42.0, 41.0, 40.0, 47.0, 27.0, 40.0, 42.0, 40.0, 42.0, 40.0, 41.0, 48.0, 40.0, 47.0, 40.0, 40.0, 42.0, 42.0, 47.0, 41.0, null, 36.0, 42.0, 11.0, 36.0, null, 42.0, null, 41.0, 42.0, 42.0, 16.0, 49.0, 40.0, 40.0, 40.0, 41.0, 42.0, 20.0, 42.0, null, null, 27.0, 44.0, 42.0, 40.0, 100.0, 16.0, 47.0, 40.0, 42.0, null, 27.0, null, null, null, 40.0, 22.0, 40.0, null, null, null, 18.0, 40.0, 38.0, 40.0, null, null, 42.0, 25.0, null, 11.0, 30.0, 24.0, 40.0, null, 42.0, null, null, null, null, null, null, 31.0, 20.0, 42.0, 22.0, null, 24.0, 28.0, 40.0, 40.0, 40.0, null, 30.0, null, 18.0, null, 28.0, null, null, null, 40.0, 31.0, null, null, 32.0, 42.0, null, 42.0, null, 24.0, null, null, null, 18.0, 36.0, 40.0, null, null, null, 38.0, 42.0, 24.0, 30.0, 35.0, null, null, null, null, 40.0, 18.0, 38.0, null, null, 4.0, 38.0, null, null, null, null, null, 30.0, null, 42.0, 34.0, null, 42.0, 37.0, 18.0, 42.0], \"z\": [820.0, 115.0, 100.0, 1578.0, 1000.0, 50.0, 249.0, 595.0, 476.0, 595.0, 295.0, 745.0, 1635.0, 245.0, 170.0, 995.0, 2470.0, 425.0, 695.0, 1695.0, 695.0, 990.0, 345.0, 175.0, 1400.0, 1090.0, 1090.0, 1140.0, 355.0, 475.0, 1700.0, 1395.0, 1765.0, 4030.0, 3386.0, 145.0, 1195.0, 990.0, 2980.0, 920.0, 870.0, 1719.0, 995.0, 417.0, 425.0, 1390.0, 4260.0, 357.0, 510.0, 1265.0, 1895.0, 1824.5, 4175.0, 1469.0, 1645.0, 405.0, 795.0, 1690.0, 1385.0, 2385.0, 1035.0, 943.5, 25.0, 25.0, 2930.0, 405.0, 199.0, 820.0, 860.0, 1735.5, 25.0, 3635.0, 225.0, 225.0, 375.0, 1265.0, 1620.0, 100.0, 307.0, 3360.0, 5.6, 3.0, 35.0, 2370.0, 100.0, 40.0, 25.0, 2385.0, 125.0, 1650.0, 175.0, 9.0, 25.0, 31.5, 95.0, 195.0, 1020.0, 595.0, 45.0, 125.0, 22.0, 32.0, 1081.0, 25.0, 420.0, 55.0, 75.0, 1670.0, 12.0, 195.0, 25.0, 35.0, 22.0, 3310.0, 50.0, 1150.0, 145.0, 49.0, 25.0, 170.0, 60.0, 25.0, 35.0, 110.0, 150.0, 480.0, 17.0, 27.0, 17.0, 135.0, 475.0, 1570.0, 60.0, 35.0, 15.0, 17.0, 75.0, 27.0, 135.0, 150.0, 150.0, 60.0, 50.0, 100.0, 125.0, 22.0, 1838.0, 175.0, 1899.5, 15.0, 17.0, 25.0, 15.0, 19.0, 29.0, 30.0, 75.0, 150.0, 210.0, 45.0, 45.5, 2358.0, 29.0, 35.0, 29.0, 35.0, 35.0, 100.0, 25.0, 150.0, 29.0, 45.0, 70.0, 225.0, 45.0, 35.0, 55.0, 115.0, 49.0, 100.0, 75.0, 17.0, 35.0, 1390.0, 49.0, 60.0, 2187.0, 35.0, 50.0, 225.0]}, {\"hoverlabel\": {\"namelength\": 0}, \"hovertemplate\": \"category=Wardrobes<br>width=%{x}<br>depth=%{y}<br>price=%{z}\", \"legendgroup\": \"category=Wardrobes\", \"marker\": {\"color\": \"#FF6692\", \"symbol\": \"circle\"}, \"mode\": \"markers\", \"name\": \"category=Wardrobes\", \"scene\": \"scene\", \"showlegend\": true, \"type\": \"scatter3d\", \"x\": [79.0, 150.0, 80.0, 150.0, 160.0, 140.0, 117.0, 117.0, 79.0, 240.0, 74.0, 150.0, 78.0, 175.0, 200.0, 60.0, 60.0, 200.0, 300.0, 120.0, 150.0, 150.0, 220.0, 60.0, 250.0, 200.0, 275.0, 150.0, 75.0, 80.0, 200.0, 240.0, 120.0, 80.0, 100.0, 79.0, 200.0, 80.0, 122.0, 150.0, 150.0, 100.0, 120.0, 87.0, 99.0, 150.0, 340.0, 60.0, 200.0, 50.0, 260.0, 300.0, 150.0, 120.0, 120.0, 160.0, 76.0, 60.0, 250.0, 200.0, 110.0, 200.0, 200.0, 80.0, 310.0, 140.0, 87.0, 160.0, 100.0, 140.0, 100.0, 49.0, 150.0, 240.0, 300.0, 88.0, 200.0, 200.0, 84.0, 310.0, 250.0, 150.0, 80.0, 200.0, 76.0, 250.0, 100.0, 150.0, 240.0, 80.0, 120.0, 150.0, 150.0, 50.0, 150.0, 51.0, 250.0, 385.0, 62.0, 270.0, 240.0, 150.0, 200.0, 150.0, 240.0, 150.0, 75.0, 140.0, 160.0, 79.0, 150.0, 300.0, 200.0, 200.0, 51.0, 150.0, 150.0, 84.0, null, 150.0, 240.0, 100.0, 375.0, 100.0, 250.0, 100.0, 150.0, 258.0, 420.0, 150.0, 110.0, 200.0, 200.0, 120.0, 240.0, 150.0, 300.0, 150.0, 218.0, 150.0, 100.0, 300.0, 270.0, 258.0, 80.0, 150.0, null, 150.0, 84.0, 160.0, 150.0, 150.0, 150.0, 165.0, 150.0, 150.0, 162.0, 200.0, 200.0, 200.0, 200.0, 124.0, 135.0, 150.0, 150.0, 380.0, 200.0, 150.0, null, 150.0, 261.0, 150.0, 150.0, 150.0, 100.0, 205.0, 124.0, 200.0, 300.0, 91.0, 164.0, 200.0, 150.0, 200.0, 150.0, 200.0, 245.0, 150.0, 150.0, 150.0, 150.0, 200.0, 200.0, 200.0, 150.0, 44.0, 100.0, 124.0, 164.0, 164.0, 150.0, 200.0, 165.0, 150.0, 200.0, 300.0, 150.0, 150.0, 200.0, null, 150.0, 150.0, 200.0, 258.0, 150.0, 178.0, 165.0, 150.0, 258.0, 261.0, 150.0, 140.0, 91.0, 205.0, 150.0, 75.0, 164.0, 100.0, 150.0, 175.0, 200.0, 91.0, 135.0, 175.0, 178.0, 175.0], \"y\": [55.0, 58.0, 50.0, 60.0, 42.0, 42.0, 55.0, 50.0, 55.0, 57.0, 51.0, 60.0, 50.0, 58.0, 60.0, 50.0, 51.0, 66.0, 58.0, 60.0, 44.0, 60.0, 57.0, 42.0, 60.0, 58.0, 210.0, 66.0, 60.0, 42.0, 44.0, 57.0, 47.0, 52.0, 60.0, 61.0, 60.0, 50.0, 59.0, 44.0, 60.0, 48.0, 50.0, null, 37.0, 38.0, 42.0, 50.0, 66.0, 60.0, 42.0, 60.0, 60.0, 59.0, 47.0, 57.0, 50.0, 50.0, 66.0, 38.0, null, 66.0, 44.0, 52.0, null, 57.0, null, 87.0, 38.0, 57.0, 60.0, 38.0, 60.0, 42.0, 60.0, 58.0, 60.0, 60.0, 55.0, null, 60.0, 66.0, 48.0, 44.0, 50.0, 66.0, 38.0, 58.0, 57.0, 50.0, 43.0, 66.0, 66.0, 38.0, 44.0, 36.0, 60.0, 51.0, 59.0, null, 61.0, 60.0, 60.0, 66.0, 40.0, 60.0, 60.0, 42.0, null, 44.0, 60.0, 60.0, 66.0, 60.0, 35.0, 66.0, 58.0, 40.0, null, 44.0, 57.0, 35.0, 58.0, 60.0, 60.0, 60.0, 58.0, 50.0, 42.0, 60.0, null, 66.0, 60.0, 57.0, 42.0, 60.0, 57.0, 66.0, 50.0, 66.0, 38.0, 60.0, null, 50.0, 42.0, 44.0, 42.0, 66.0, 55.0, null, 60.0, 60.0, 44.0, 55.0, 60.0, 60.0, null, 66.0, 66.0, 60.0, 66.0, 55.0, 50.0, 66.0, 44.0, 42.0, 66.0, 66.0, null, 66.0, 35.0, 44.0, 66.0, 50.0, 60.0, 55.0, 55.0, 44.0, 57.0, 35.0, 55.0, 66.0, 58.0, 60.0, 66.0, 60.0, 55.0, 66.0, 60.0, 66.0, 66.0, 66.0, 66.0, 44.0, 66.0, 55.0, 60.0, 55.0, 55.0, 55.0, 66.0, 66.0, 55.0, 60.0, 44.0, 42.0, 66.0, 66.0, 66.0, 42.0, 66.0, 58.0, 38.0, 50.0, 66.0, 51.0, 55.0, 66.0, 51.0, 50.0, 66.0, 42.0, null, 55.0, 58.0, 60.0, 55.0, 60.0, 66.0, 50.0, 66.0, 50.0, 50.0, 50.0, 50.0, 50.0], \"z\": [345.0, 840.0, 495.0, 1195.0, 1259.0, 892.0, 449.0, 645.0, 349.0, 2740.0, 49.0, 1510.0, 475.0, 1280.0, 2805.0, 425.0, 395.0, 1590.0, 2770.0, 795.0, 1870.0, 1060.0, 2620.0, 428.0, 1870.0, 865.0, 5380.0, 1675.0, 800.0, 758.0, 2265.0, 2296.0, 995.0, 645.0, 875.0, 895.0, 2495.0, 1095.0, 1645.0, 1870.0, 1800.0, 595.0, 1545.0, 1600.0, 297.5, 1550.0, 2205.5, 675.0, 2140.0, 530.0, 1772.5, 5260.0, 1510.0, 1545.0, 895.0, 1588.0, 45.0, 830.0, 3460.0, 1835.0, 1410.0, 2730.0, 2450.0, 645.0, 8380.0, 1560.0, 2025.0, 2865.0, 1055.0, 1516.0, 1030.0, 665.0, 1960.0, 624.0, 4870.0, 1645.0, 1815.0, 2415.0, 434.0, 6395.0, 6065.0, 1890.0, 445.0, 2450.0, 45.0, 3540.0, 1260.0, 1525.0, 1388.0, 1095.0, 597.0, 2320.0, 2190.0, 590.0, 1940.0, 437.0, 6585.0, 4128.0, 895.0, 4270.0, 3493.0, 3410.0, 3695.0, 3222.0, 435.0, 1760.0, 965.0, 1260.5, 4685.0, 716.0, 2580.0, 5240.0, 3775.0, 3215.0, 440.0, 3035.0, 1499.0, 444.0, 450.0, 1725.0, 1796.0, 995.0, 5965.0, 2250.0, 5345.0, 1600.0, 1490.0, 2656.0, 3113.0, 1690.0, 3060.0, 3960.0, 2960.0, 795.0, 728.0, 3190.0, 2800.0, 3227.0, 2176.0, 2170.0, 1545.0, 6805.0, 3935.0, 1245.0, 785.0, 1940.0, 717.0, 2255.0, 678.0, 4230.0, 2940.0, 3110.0, 2125.0, 1518.0, 2950.0, 2380.0, 2945.0, 3885.0, 3905.0, 3500.0, 4200.0, 774.0, 1409.0, 3162.0, 2125.0, 1324.0, 3775.0, 3227.0, 502.0, 3394.0, 2377.0, 1940.0, 2410.0, 1225.0, 1765.0, 1629.0, 1301.0, 2975.0, 1796.0, 650.0, 1181.0, 4200.0, 2545.0, 3935.0, 3162.0, 4215.0, 1970.0, 2610.0, 2690.0, 3120.0, 3760.0, 3885.0, 3905.0, 2990.0, 2255.0, 519.0, 2525.0, 1495.0, 1128.0, 1581.0, 2610.0, 3875.0, 2074.0, 3675.0, 3155.0, 2246.0, 3115.0, 1980.0, 3875.0, 1785.5, 3115.0, 2710.0, 4390.0, 3913.0, 3055.0, 1926.0, 1538.0, 3760.0, 2397.0, 2892.0, 3055.0, 1606.0, 1226.0, 1757.0, 2505.0, 1260.0, 1245.0, 2100.0, 3985.0, 1611.0, 2045.0, 750.0, 1572.0, 924.0, 2745.0, 1231.0]}],\n",
              "                        {\"legend\": {\"tracegroupgap\": 0}, \"margin\": {\"t\": 60}, \"scene\": {\"domain\": {\"x\": [0.0, 1.0], \"y\": [0.0, 1.0]}, \"xaxis\": {\"title\": {\"text\": \"width\"}}, \"yaxis\": {\"title\": {\"text\": \"depth\"}}, \"zaxis\": {\"title\": {\"text\": \"price\"}}}, \"template\": {\"data\": {\"bar\": [{\"error_x\": {\"color\": \"#2a3f5f\"}, \"error_y\": {\"color\": \"#2a3f5f\"}, \"marker\": {\"line\": {\"color\": \"#E5ECF6\", \"width\": 0.5}}, \"type\": \"bar\"}], \"barpolar\": [{\"marker\": {\"line\": {\"color\": \"#E5ECF6\", \"width\": 0.5}}, \"type\": \"barpolar\"}], \"carpet\": [{\"aaxis\": {\"endlinecolor\": \"#2a3f5f\", \"gridcolor\": \"white\", \"linecolor\": \"white\", \"minorgridcolor\": \"white\", \"startlinecolor\": \"#2a3f5f\"}, \"baxis\": {\"endlinecolor\": \"#2a3f5f\", \"gridcolor\": \"white\", \"linecolor\": \"white\", \"minorgridcolor\": \"white\", \"startlinecolor\": \"#2a3f5f\"}, \"type\": \"carpet\"}], \"choropleth\": [{\"colorbar\": {\"outlinewidth\": 0, \"ticks\": \"\"}, \"type\": \"choropleth\"}], \"contour\": [{\"colorbar\": {\"outlinewidth\": 0, \"ticks\": \"\"}, \"colorscale\": [[0.0, \"#0d0887\"], [0.1111111111111111, \"#46039f\"], [0.2222222222222222, \"#7201a8\"], [0.3333333333333333, \"#9c179e\"], [0.4444444444444444, \"#bd3786\"], [0.5555555555555556, \"#d8576b\"], [0.6666666666666666, \"#ed7953\"], [0.7777777777777778, \"#fb9f3a\"], [0.8888888888888888, \"#fdca26\"], [1.0, \"#f0f921\"]], \"type\": \"contour\"}], \"contourcarpet\": [{\"colorbar\": {\"outlinewidth\": 0, \"ticks\": \"\"}, \"type\": \"contourcarpet\"}], \"heatmap\": [{\"colorbar\": {\"outlinewidth\": 0, \"ticks\": \"\"}, \"colorscale\": [[0.0, \"#0d0887\"], [0.1111111111111111, \"#46039f\"], [0.2222222222222222, \"#7201a8\"], [0.3333333333333333, \"#9c179e\"], [0.4444444444444444, \"#bd3786\"], [0.5555555555555556, \"#d8576b\"], [0.6666666666666666, \"#ed7953\"], [0.7777777777777778, \"#fb9f3a\"], [0.8888888888888888, \"#fdca26\"], [1.0, \"#f0f921\"]], \"type\": \"heatmap\"}], \"heatmapgl\": [{\"colorbar\": {\"outlinewidth\": 0, \"ticks\": \"\"}, \"colorscale\": [[0.0, \"#0d0887\"], [0.1111111111111111, \"#46039f\"], [0.2222222222222222, \"#7201a8\"], [0.3333333333333333, \"#9c179e\"], [0.4444444444444444, \"#bd3786\"], [0.5555555555555556, \"#d8576b\"], [0.6666666666666666, \"#ed7953\"], [0.7777777777777778, \"#fb9f3a\"], [0.8888888888888888, \"#fdca26\"], [1.0, \"#f0f921\"]], \"type\": \"heatmapgl\"}], \"histogram\": [{\"marker\": {\"colorbar\": {\"outlinewidth\": 0, \"ticks\": \"\"}}, \"type\": \"histogram\"}], \"histogram2d\": [{\"colorbar\": {\"outlinewidth\": 0, \"ticks\": \"\"}, \"colorscale\": [[0.0, \"#0d0887\"], [0.1111111111111111, \"#46039f\"], [0.2222222222222222, \"#7201a8\"], [0.3333333333333333, \"#9c179e\"], [0.4444444444444444, \"#bd3786\"], [0.5555555555555556, \"#d8576b\"], [0.6666666666666666, \"#ed7953\"], [0.7777777777777778, \"#fb9f3a\"], [0.8888888888888888, \"#fdca26\"], [1.0, \"#f0f921\"]], \"type\": \"histogram2d\"}], \"histogram2dcontour\": [{\"colorbar\": {\"outlinewidth\": 0, \"ticks\": \"\"}, \"colorscale\": [[0.0, \"#0d0887\"], [0.1111111111111111, \"#46039f\"], [0.2222222222222222, \"#7201a8\"], [0.3333333333333333, \"#9c179e\"], [0.4444444444444444, \"#bd3786\"], [0.5555555555555556, \"#d8576b\"], [0.6666666666666666, \"#ed7953\"], [0.7777777777777778, \"#fb9f3a\"], [0.8888888888888888, \"#fdca26\"], [1.0, \"#f0f921\"]], \"type\": \"histogram2dcontour\"}], \"mesh3d\": [{\"colorbar\": {\"outlinewidth\": 0, \"ticks\": \"\"}, \"type\": \"mesh3d\"}], \"parcoords\": [{\"line\": {\"colorbar\": {\"outlinewidth\": 0, \"ticks\": \"\"}}, \"type\": \"parcoords\"}], \"pie\": [{\"automargin\": true, \"type\": \"pie\"}], \"scatter\": [{\"marker\": {\"colorbar\": {\"outlinewidth\": 0, \"ticks\": \"\"}}, \"type\": \"scatter\"}], \"scatter3d\": [{\"line\": {\"colorbar\": {\"outlinewidth\": 0, \"ticks\": \"\"}}, \"marker\": {\"colorbar\": {\"outlinewidth\": 0, \"ticks\": \"\"}}, \"type\": \"scatter3d\"}], \"scattercarpet\": [{\"marker\": {\"colorbar\": {\"outlinewidth\": 0, \"ticks\": \"\"}}, \"type\": \"scattercarpet\"}], \"scattergeo\": [{\"marker\": {\"colorbar\": {\"outlinewidth\": 0, \"ticks\": \"\"}}, \"type\": \"scattergeo\"}], \"scattergl\": [{\"marker\": {\"colorbar\": {\"outlinewidth\": 0, \"ticks\": \"\"}}, \"type\": \"scattergl\"}], \"scattermapbox\": [{\"marker\": {\"colorbar\": {\"outlinewidth\": 0, \"ticks\": \"\"}}, \"type\": \"scattermapbox\"}], \"scatterpolar\": [{\"marker\": {\"colorbar\": {\"outlinewidth\": 0, \"ticks\": \"\"}}, \"type\": \"scatterpolar\"}], \"scatterpolargl\": [{\"marker\": {\"colorbar\": {\"outlinewidth\": 0, \"ticks\": \"\"}}, \"type\": \"scatterpolargl\"}], \"scatterternary\": [{\"marker\": {\"colorbar\": {\"outlinewidth\": 0, \"ticks\": \"\"}}, \"type\": \"scatterternary\"}], \"surface\": [{\"colorbar\": {\"outlinewidth\": 0, \"ticks\": \"\"}, \"colorscale\": [[0.0, \"#0d0887\"], [0.1111111111111111, \"#46039f\"], [0.2222222222222222, \"#7201a8\"], [0.3333333333333333, \"#9c179e\"], [0.4444444444444444, \"#bd3786\"], [0.5555555555555556, \"#d8576b\"], [0.6666666666666666, \"#ed7953\"], [0.7777777777777778, \"#fb9f3a\"], [0.8888888888888888, \"#fdca26\"], [1.0, \"#f0f921\"]], \"type\": \"surface\"}], \"table\": [{\"cells\": {\"fill\": {\"color\": \"#EBF0F8\"}, \"line\": {\"color\": \"white\"}}, \"header\": {\"fill\": {\"color\": \"#C8D4E3\"}, \"line\": {\"color\": \"white\"}}, \"type\": \"table\"}]}, \"layout\": {\"annotationdefaults\": {\"arrowcolor\": \"#2a3f5f\", \"arrowhead\": 0, \"arrowwidth\": 1}, \"coloraxis\": {\"colorbar\": {\"outlinewidth\": 0, \"ticks\": \"\"}}, \"colorscale\": {\"diverging\": [[0, \"#8e0152\"], [0.1, \"#c51b7d\"], [0.2, \"#de77ae\"], [0.3, \"#f1b6da\"], [0.4, \"#fde0ef\"], [0.5, \"#f7f7f7\"], [0.6, \"#e6f5d0\"], [0.7, \"#b8e186\"], [0.8, \"#7fbc41\"], [0.9, \"#4d9221\"], [1, \"#276419\"]], \"sequential\": [[0.0, \"#0d0887\"], [0.1111111111111111, \"#46039f\"], [0.2222222222222222, \"#7201a8\"], [0.3333333333333333, \"#9c179e\"], [0.4444444444444444, \"#bd3786\"], [0.5555555555555556, \"#d8576b\"], [0.6666666666666666, \"#ed7953\"], [0.7777777777777778, \"#fb9f3a\"], [0.8888888888888888, \"#fdca26\"], [1.0, \"#f0f921\"]], \"sequentialminus\": [[0.0, \"#0d0887\"], [0.1111111111111111, \"#46039f\"], [0.2222222222222222, \"#7201a8\"], [0.3333333333333333, \"#9c179e\"], [0.4444444444444444, \"#bd3786\"], [0.5555555555555556, \"#d8576b\"], [0.6666666666666666, \"#ed7953\"], [0.7777777777777778, \"#fb9f3a\"], [0.8888888888888888, \"#fdca26\"], [1.0, \"#f0f921\"]]}, \"colorway\": [\"#636efa\", \"#EF553B\", \"#00cc96\", \"#ab63fa\", \"#FFA15A\", \"#19d3f3\", \"#FF6692\", \"#B6E880\", \"#FF97FF\", \"#FECB52\"], \"font\": {\"color\": \"#2a3f5f\"}, \"geo\": {\"bgcolor\": \"white\", \"lakecolor\": \"white\", \"landcolor\": \"#E5ECF6\", \"showlakes\": true, \"showland\": true, \"subunitcolor\": \"white\"}, \"hoverlabel\": {\"align\": \"left\"}, \"hovermode\": \"closest\", \"mapbox\": {\"style\": \"light\"}, \"paper_bgcolor\": \"white\", \"plot_bgcolor\": \"#E5ECF6\", \"polar\": {\"angularaxis\": {\"gridcolor\": \"white\", \"linecolor\": \"white\", \"ticks\": \"\"}, \"bgcolor\": \"#E5ECF6\", \"radialaxis\": {\"gridcolor\": \"white\", \"linecolor\": \"white\", \"ticks\": \"\"}}, \"scene\": {\"xaxis\": {\"backgroundcolor\": \"#E5ECF6\", \"gridcolor\": \"white\", \"gridwidth\": 2, \"linecolor\": \"white\", \"showbackground\": true, \"ticks\": \"\", \"zerolinecolor\": \"white\"}, \"yaxis\": {\"backgroundcolor\": \"#E5ECF6\", \"gridcolor\": \"white\", \"gridwidth\": 2, \"linecolor\": \"white\", \"showbackground\": true, \"ticks\": \"\", \"zerolinecolor\": \"white\"}, \"zaxis\": {\"backgroundcolor\": \"#E5ECF6\", \"gridcolor\": \"white\", \"gridwidth\": 2, \"linecolor\": \"white\", \"showbackground\": true, \"ticks\": \"\", \"zerolinecolor\": \"white\"}}, \"shapedefaults\": {\"line\": {\"color\": \"#2a3f5f\"}}, \"ternary\": {\"aaxis\": {\"gridcolor\": \"white\", \"linecolor\": \"white\", \"ticks\": \"\"}, \"baxis\": {\"gridcolor\": \"white\", \"linecolor\": \"white\", \"ticks\": \"\"}, \"bgcolor\": \"#E5ECF6\", \"caxis\": {\"gridcolor\": \"white\", \"linecolor\": \"white\", \"ticks\": \"\"}}, \"title\": {\"x\": 0.05}, \"xaxis\": {\"automargin\": true, \"gridcolor\": \"white\", \"linecolor\": \"white\", \"ticks\": \"\", \"title\": {\"standoff\": 15}, \"zerolinecolor\": \"white\", \"zerolinewidth\": 2}, \"yaxis\": {\"automargin\": true, \"gridcolor\": \"white\", \"linecolor\": \"white\", \"ticks\": \"\", \"title\": {\"standoff\": 15}, \"zerolinecolor\": \"white\", \"zerolinewidth\": 2}}}},\n",
              "                        {\"responsive\": true}\n",
              "                    ).then(function(){\n",
              "                            \n",
              "var gd = document.getElementById('c23e0388-7926-4aa6-ad9f-eae5e3daf83c');\n",
              "var x = new MutationObserver(function (mutations, observer) {{\n",
              "        var display = window.getComputedStyle(gd).display;\n",
              "        if (!display || display === 'none') {{\n",
              "            console.log([gd, 'removed!']);\n",
              "            Plotly.purge(gd);\n",
              "            observer.disconnect();\n",
              "        }}\n",
              "}});\n",
              "\n",
              "// Listen for the removal of the full notebook cells\n",
              "var notebookContainer = gd.closest('#notebook-container');\n",
              "if (notebookContainer) {{\n",
              "    x.observe(notebookContainer, {childList: true});\n",
              "}}\n",
              "\n",
              "// Listen for the clearing of the current output cell\n",
              "var outputEl = gd.closest('.output');\n",
              "if (outputEl) {{\n",
              "    x.observe(outputEl, {childList: true});\n",
              "}}\n",
              "\n",
              "                        })\n",
              "                };\n",
              "                \n",
              "            </script>\n",
              "        </div>\n",
              "</body>\n",
              "</html>"
            ]
          },
          "metadata": {
            "tags": []
          }
        }
      ]
    },
    {
      "cell_type": "markdown",
      "metadata": {
        "id": "G9bnBE4uaugd"
      },
      "source": [
        "The more depth and width,the more the price of the furniture.The most expensive items are bookcases & shelving units."
      ]
    },
    {
      "cell_type": "markdown",
      "metadata": {
        "id": "UZbOecixgVWk"
      },
      "source": [
        "#HYPOTHESIS TESTING"
      ]
    },
    {
      "cell_type": "markdown",
      "metadata": {
        "id": "oGZayMbJiSzW"
      },
      "source": [
        "***first hypothesis:***\n",
        "\n",
        "Here, we are going to test if the mean of prices of items that have other colors is different from the mean of prices of items that contain only one color.\n"
      ]
    },
    {
      "cell_type": "markdown",
      "metadata": {
        "id": "Aw4JHE3RjHXb"
      },
      "source": [
        " **m_other_colors** is the mean of prices of items that contain other colors and **m_no_other_colors** is the mean of prices of items that doesn't contain only one color.\n",
        "\n",
        "null hypothesis H0: m1-m2=0(assumption that there is no difference)\n",
        "\n",
        "alternative hypothesis H1: m1-m2!=0"
      ]
    },
    {
      "cell_type": "markdown",
      "metadata": {
        "id": "bNdbDYQ2j7MX"
      },
      "source": [
        "significance level will be 5% or 0.05"
      ]
    },
    {
      "cell_type": "code",
      "metadata": {
        "id": "U8yGn35qgbtH"
      },
      "source": [
        "m_other_colors =np.mean(df[df['other_colors']=='Yes']['price'])\n",
        "\n",
        "m_no_other_colors=np.mean(df[df['other_colors']=='No']['price'])\n",
        "\n",
        "s_other_colors=np.std(df[df['other_colors']=='Yes']['price'])\n",
        "\n",
        "s_no_other_colors=np.std(df[df['other_colors']=='No']['price'])"
      ],
      "execution_count": null,
      "outputs": []
    },
    {
      "cell_type": "code",
      "metadata": {
        "id": "9NjbFUIdgb9P"
      },
      "source": [
        "n_other_colors=len(df[df['other_colors']=='Yes'])\n",
        "\n",
        "n_no_other_colors=len(df[df['other_colors']=='No'])"
      ],
      "execution_count": null,
      "outputs": []
    },
    {
      "cell_type": "markdown",
      "metadata": {
        "id": "cKOeFvgmqB2T"
      },
      "source": [
        "Firstly,we need to calculate test statistic"
      ]
    },
    {
      "cell_type": "markdown",
      "metadata": {
        "id": "qXigICBop4_s"
      },
      "source": [
        "![0_iXrnhmU9mjxBPfdH.png](data:image/png;base64,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)"
      ]
    },
    {
      "cell_type": "markdown",
      "metadata": {
        "id": "XGIuNvDgqMD9"
      },
      "source": [
        "SEE is calculated like:"
      ]
    },
    {
      "cell_type": "markdown",
      "metadata": {
        "id": "i4rsyOoHvBQo"
      },
      "source": [
        "![Без названия (4).png](data:image/png;base64,iVBORw0KGgoAAAANSUhEUgAAAYkAAACACAMAAADJe2XzAAAAflBMVEX///8AAADh4eG4uLg4ODienp5DQ0O9vb3d3d0VFRWZmZnU1NRgYGBWVlahoaH39/fq6urKysru7u4xMTG7u7v4+Ph9fX2np6cpKSnNzc2FhYV0dHSxsbHDw8NRUVFbW1scHBxmZmaRkZE8PDxsbGxLS0sjIyMPDw+Li4stLS2xZS1wAAAMEklEQVR4nO1dZ7eiMBB1wIIigiCgAvb6///gAgGlSZ3A7Dnvfln3oSFwk8m0TEYjnrDgD5WQuFLAIDxhJ/yhHJLZAxN7AK2H2/yhCvoTLkP34Q8BFgD60H34gw8VwBq6D38IIMG8D7XgD5VYwhm1vb1lOTJqi5hYW5a1GLoTxVgDuIjNeUz5PniIbeJBHbPuuerQPSmAASfE1jawPRyM4GFJUmGAcjgEvbsP3ZM8/Clh47XmwcK3TLSJ/6wKXqtYUI1rMD42W7979OTnGU6Ire0jQeeRfFb9zf41rwDOsF3JQwOYIbb2jD/5TNzw2kWCI0YfbL971FaKFerY1YX405rgqBt9ly56TKgGpxfmUZwTX9BjwgUQqr/VAl4/XuS2oOdWAGSr7gMLlnwaRoFETp+4AOz4tEzUnoiwgOPQXchgD1M+DXvw5tMwCtQpNdEpcXOHK1tiC2IKG9gM3YUMjrxidWfoI9TYFjug5gKUAV5cGhYI2hIJHMnFii0ALu1KtIOxxye1CKUOsGr7W/O2XCrr4JN6z64IAuw79QsB4nJ5tEIBuch5/M/UbLogQjRuOUs1X/u1bNsYiyP9kfO5WkOLJtuArb16wUQdvXJ2g7ClNiNGptLW+PInE1vz1rA95Xzq1mft4WO9V2IPwDS3Mbxz8lf6iCaVDCPrtlad/oBY/gTO70n66uXjRpAQ4x4N8AI4sZds3iHLhPD4iKYLGSYADu1+qME33jrJug0s8NwQ4pmX+V6Bgz8l4s9Zh7AAE5F1z6UTyXKhrXmzTDBxgUfq2iWRR8rJo1WBYJrGTKiZaS8l01ypaLK+wd9Whb3CdzoJME9eSmU6D8OECIlwoQPrxCU5lXBMRYPS23utr8lnJWfDbYLexZ1aPQfSGhrAas/EMRxS0bTfEnOlRVk+kUZhU4tC5CE82g9mob/tBG1wh+SsII9LF0fHnpagzUBjvaPm5PuFTr4/nT0rH+9hdzC1wSBjLpTCgkeXpUzbkpYAjIonFTW1FDe4dvp9JJ8m1d8cArHZMHQ/asBfc8Xqb5XhFj7qmKgE2DEmOj5jH9jCtOty67CU68Jru8HzJpgNd8g9pCSK4rroBwPBQ0hKZhLAyF/Q9SOBQFGYD55LL3FOYZo4nZmstBah5tdS2hVPiteQGqT7Ge/mNOjHKX1ZiR0dw48UBrl9LtI6kSlgFzHh2qPpYEyo18SNc1PWPD6Cy4FiRSVY5K+2bWXlMZGVo76LFwp7MCbWyRsvskwIkSkauEOGiZxkoV/bu+bPSQfrtZiJ1WBM7JLpW2JWOr3i3QkWFQXXbu+aV+9Ja85nYlzwpeGYsJMeGBEyQaxvp6gw0cE29if24+v4uxZvghmOiZSu4DNx/pH+RoSJRYc0aS9puZ5/eJ4GZeKzAsolrxtI5LHrXQaEDcZyvt0FQ01z4FkcBx+MCdV/w3d4BaJX9cfM/ZeJrbfXWDChdvEWBSui5MBhv98X2E0RBmPi4j+Z6VPg987XpH+n5VsdnW5IOIDR3kdpMdVkZvkP+7MVNCaaOo48psiZQe9K9vqbNNJiuSUlf4HIBOKu2C/WNEzsM3+1gTgTEo0ddloP5iVxJiwaAXgLDO7RZ9pMXGhsdRSgh+1vpJkgMiMCy4z/iKDMhEpjRgRp7Ev++98IM0GGCLcX45IuE/rXaTYZNktznkns5gOyTJjgamENXk0eD5sg5PZTN8DusH0vBWQmVCORKD6slHLgxF1xkEU3eFBbRHhUXCY0SAKx4eYQ5j3U+dFkWfIhywhyGJcJXUoCseHm2P9vlZJpF2FpD51OcskvaDBPAuCZ+i/O6oOKVl36D4qHp0V5DvSycC9tLPZOsbqeoC4mSQA4q8R/F8NsZS2B/05bFGWSOXn7OYL8OhFstG0+PI6Qq69BHdTHjh4YKI3VUa9F8XBP5IV6Km45E9w659ZdTufh6tVUXTfS+6Zr4WaM+eBdb1CUM/Hm1Lnxo6ZRGpWyb5iwg1xPvx8Ql07HSKVr5FQ1z9xqYHIEbSZu/uAOmWhUtV8jWeW/CqSZEJ6+LaE09iaueFVK5grSTOyDZKywMkWTNGP1TXbDbhkoM2GynYrQUH3iVjycLygzcWTGNdviVt/Q/g8cHUWgzETsTD02Up8uKOlmr+14GsJIr1Dm3DCiC8YcNeG0CRPKO+rdOO1JkE9G3G3j+eO3XbAOmai7R8tCqWEhb+xIgc4k64uzyMZxZyKqQ6VJUTZvFpVNyLj+dXG2Yn/3Nlw2yrPKOfVcshJeFr32DO+be0HCicd5Dta+WQh292P9DAYKN7s2LLFW0/t0RAxMCCEV+cc6DFRqLo3ND/Wea4zsVHtSyKj9sIvj8QcaJnxYwiK/TQVOHFVHVpiioFhDDrjFw1nBnuzCrF5JKGdqaPPmyrpofJOBlzXVJx0AUWeIamxl1wSRRoicKTI5RXHP97QJdtdq6XxE9f2ZkYKSEYseDU9vXIU08+dW0eYGMGqtFKaCeiKPA2pY2SkT1uR1xk5DbOejbV54arw3EW1qTYrWxcOLsQRWTiizQBFhwpfDbt4lp3E/hCGsm1P1nnEPgp0FrQV3faSGnUOjEOXFH/zhOElX2DK4JyYwqVi+tdjF3Ve3DloLisSkX/2exLba0SQwJfLC885drzOXlZNCnQJqOedzUG+SFcZM/FUf97A/phrqPcheCcdnMmYv97DX1Ks0tHVkJwRbH8YZS1agocPqbH0ImUjMUbEPj26loW3hBiZcFoP1MqrCmUae5J6tzJOM8OS/TIxim+J3hFp44E6JC+NVyEjFNwkDe6SwbjCX3HfN7ufEDxan+Ml5p+LhBbid2Ky3Um5A/UQiW0GdRmW/pinh2dNBYkx9+qnMF/nqOuCjmGspS9YmUaPH17Cj+EMoPD/5YE5PGfKlaR5O6/NvimF/ZF1qfbrRSCS2Yn09HCfX6P3r95407FmZ+tS1eHgW00+J0tCSjSaISeSA4+/D7hNuQLm3EwFYEK1QQZKwC2t/TSQ9PCAnGnZUmPh4YISE8Ozv4E9WVHpbdOnUvXh4Cm5CCh2+msKSxrG/VkIKJUZnj1kt+1/q0ww7Zmgnppj0VZ+XNDaNWQnBEApPtqadetSwQyYKdGYF+yShZNk6/cP/uoetxTUgwfErAJidFfR20qf57xarTzKuF9ZHyoT8uAFlGgZ22mxYxuPE7jO+Hpb3zu+nOGPn6a9SZoMer4oHGodNp82GWHia20Ofi9iqaFL42g1ydVorrZjHN22xV4kH0ikNYZB3K/j/9io69W2B+mRj776WMkcFeMyQWZEoRzwSM6ZTKDwvvYewLgXqE2AfNydlHopltOiTGvs4HP6J6m7m8fXQTe2L6PKfLSzLQXXVQG6luGBV9vlgkl12wuCYfauqA+zafZTwcbK5ZSETs2mp0hKlgowRXUI59Ul/YiY5hcgp5lHqU/kWGe/4+O0XQ0RORv5IfUp/5aEo15RbuTOY8yGRwq2jF7nY5Y1VKPM+RhB1ddwDE24uSMPG+6lkwu7g5c8jPRjFUzwFa5JZKe5diocXokAxdxPunRIoPTDh5BfFMIZSlq26isZqkGGOF19lqXmf+8roB2Ga23wQwjSoMCHN84qi/vXHFMKcxxNhiroxl02KeNie8WtgFrUYaM/V3t4emJCLVPafPmoG89MpCdcbETIRRfm1VsVuymAqRUz4j/CstuP5M6HPi5jwhee2loiWcTers30NzOVnoW8VPBS7e291GOfOhP6GojOwfFWhXgRbwpUgTH0yopYxY3Vre8G0JFhkTRSrzgYOvkyIthP1zs3qoteai+UFcJ1TbKUI5gJu8XBNUZQlg5KbAXVuxJWJ3UE5Rr07ZN+7VDOENcc+MxhiZeH98/QwdGxqeFT60GILYdaznQsspY5wI/XJhn4yfOpiMCZq4obv1o/iFCegEViOQZwJHnnuTH1yiE0J4kxoTw7bl/Wogjn/4uGNQJoJjU+Rn0Ud72jvoMyEzutlMSaIFSOlzMSCV9JcmLDO/3CuZiDMxOszI7Cjiuq1IjgyBOgyYX8Waw093G3XcVP3DLJMLMBzQ4gOtpXtT4oTjQz6JO5ES5dN4AsOW3EmxIqHX/bhtqeXRUuzHsVZYhEaxSf+AeMRijva3qUBAAAAAElFTkSuQmCC)"
      ]
    },
    {
      "cell_type": "code",
      "metadata": {
        "id": "7Y1F_xcegcAI"
      },
      "source": [
        "se = np.sqrt(((s_other_colors**2)/n_other_colors)+((s_no_other_colors**2)/n_no_other_colors))"
      ],
      "execution_count": null,
      "outputs": []
    },
    {
      "cell_type": "code",
      "metadata": {
        "id": "_y2dN7nsgcCv"
      },
      "source": [
        "best_estimate=m_other_colors-m_no_other_colors\n",
        "\n",
        "hypothesized_estimate=0\n",
        "\n",
        "test_statistic=(best_estimate-hypothesized_estimate)/se"
      ],
      "execution_count": null,
      "outputs": []
    },
    {
      "cell_type": "code",
      "metadata": {
        "id": "pncWX04kgcFl"
      },
      "source": [
        "import scipy.stats\n",
        "\n",
        "p_value=scipy.stats.t.sf(abs(test_statistic), df=2)"
      ],
      "execution_count": null,
      "outputs": []
    },
    {
      "cell_type": "code",
      "metadata": {
        "colab": {
          "base_uri": "https://localhost:8080/"
        },
        "id": "18eDaT2DraJs",
        "outputId": "65561fed-e576-463e-fcb1-099fff5aadce"
      },
      "source": [
        "p_value"
      ],
      "execution_count": null,
      "outputs": [
        {
          "output_type": "execute_result",
          "data": {
            "text/plain": [
              "0.019385332601215367"
            ]
          },
          "metadata": {
            "tags": []
          },
          "execution_count": 55
        }
      ]
    },
    {
      "cell_type": "markdown",
      "metadata": {
        "id": "WuOJkl85yHtr"
      },
      "source": [
        "P VALUE is less than significance level,which is 0.05\n",
        "\n",
        "IT MEANS we can fully reject null hypothesis."
      ]
    },
    {
      "cell_type": "markdown",
      "metadata": {
        "id": "vctMKfTx6wp-"
      },
      "source": [
        "**second hypothesis:**\n",
        "\n",
        "Here,we are going to compare the means of prices of each category of item.Since we have more than 2 categories,we will have more than 2 means,so we need to generalize t-test to get multiple means.ANOVA is the best solution for this case.\n"
      ]
    },
    {
      "cell_type": "markdown",
      "metadata": {
        "id": "MGa-Fzb5ESPq"
      },
      "source": [
        "null hypothesis H0: m1=m2=m3=m4=.....=m17\n",
        "\n",
        "alternative hypothesis H1: at least one mean is different from others"
      ]
    },
    {
      "cell_type": "code",
      "metadata": {
        "id": "lWJlzx3ZSfzI"
      },
      "source": [
        "pip install pingouin"
      ],
      "execution_count": null,
      "outputs": []
    },
    {
      "cell_type": "code",
      "metadata": {
        "colab": {
          "base_uri": "https://localhost:8080/",
          "height": 77
        },
        "id": "wtuDCtZX6v9Q",
        "outputId": "af9e43db-b933-4332-88d2-f5135140b8f4"
      },
      "source": [
        "import pingouin as pg\n",
        "aov=pg.anova(dv='price', between='category', data=df,\n",
        "               detailed=False)\n",
        "aov"
      ],
      "execution_count": null,
      "outputs": [
        {
          "output_type": "execute_result",
          "data": {
            "text/html": [
              "<div>\n",
              "<style scoped>\n",
              "    .dataframe tbody tr th:only-of-type {\n",
              "        vertical-align: middle;\n",
              "    }\n",
              "\n",
              "    .dataframe tbody tr th {\n",
              "        vertical-align: top;\n",
              "    }\n",
              "\n",
              "    .dataframe thead th {\n",
              "        text-align: right;\n",
              "    }\n",
              "</style>\n",
              "<table border=\"1\" class=\"dataframe\">\n",
              "  <thead>\n",
              "    <tr style=\"text-align: right;\">\n",
              "      <th></th>\n",
              "      <th>Source</th>\n",
              "      <th>ddof1</th>\n",
              "      <th>ddof2</th>\n",
              "      <th>F</th>\n",
              "      <th>p-unc</th>\n",
              "      <th>np2</th>\n",
              "    </tr>\n",
              "  </thead>\n",
              "  <tbody>\n",
              "    <tr>\n",
              "      <th>0</th>\n",
              "      <td>category</td>\n",
              "      <td>16</td>\n",
              "      <td>3677</td>\n",
              "      <td>44.175971</td>\n",
              "      <td>1.701733e-127</td>\n",
              "      <td>0.161233</td>\n",
              "    </tr>\n",
              "  </tbody>\n",
              "</table>\n",
              "</div>"
            ],
            "text/plain": [
              "     Source  ddof1  ddof2          F          p-unc       np2\n",
              "0  category     16   3677  44.175971  1.701733e-127  0.161233"
            ]
          },
          "metadata": {
            "tags": []
          },
          "execution_count": 44
        }
      ]
    },
    {
      "cell_type": "markdown",
      "metadata": {
        "id": "8vyznaZMU-8N"
      },
      "source": [
        "p value is high,so we can't reject the hypothesis,that categories are not significantly different from each other"
      ]
    },
    {
      "cell_type": "markdown",
      "metadata": {
        "id": "qylOOU8FVKzs"
      },
      "source": [
        "It can be good decision to just drop the column 'category',but,however,it will be used.I just want to compare the model's behaviour including this category and without it."
      ]
    },
    {
      "cell_type": "code",
      "metadata": {
        "id": "lF_VHzfRraPe"
      },
      "source": [
        ""
      ],
      "execution_count": null,
      "outputs": []
    },
    {
      "cell_type": "code",
      "metadata": {
        "id": "skzLe3X6raSR"
      },
      "source": [
        ""
      ],
      "execution_count": null,
      "outputs": []
    },
    {
      "cell_type": "markdown",
      "metadata": {
        "id": "9Y0qnaDajBwh"
      },
      "source": [
        "#FEATURE EXTRACTION"
      ]
    },
    {
      "cell_type": "code",
      "metadata": {
        "colab": {
          "base_uri": "https://localhost:8080/"
        },
        "id": "oPADSQ2hi0nq",
        "outputId": "9b98797c-4e7e-420d-a85a-46939f3edc2c"
      },
      "source": [
        "df['sellable_online'].value_counts()"
      ],
      "execution_count": null,
      "outputs": [
        {
          "output_type": "execute_result",
          "data": {
            "text/plain": [
              "True     3666\n",
              "False      28\n",
              "Name: sellable_online, dtype: int64"
            ]
          },
          "metadata": {
            "tags": []
          },
          "execution_count": 11
        }
      ]
    },
    {
      "cell_type": "markdown",
      "metadata": {
        "id": "0EsI2HI0jy0Y"
      },
      "source": [
        "Only 28 items can't be sold online,so it's better to eliminate this feature,because it doesn't have any statistical value"
      ]
    },
    {
      "cell_type": "code",
      "metadata": {
        "colab": {
          "base_uri": "https://localhost:8080/"
        },
        "id": "Oi2fWibnjZOh",
        "outputId": "ae371017-5d1e-4bcb-df25-12dcdb985826"
      },
      "source": [
        "df['old_price'].value_counts()"
      ],
      "execution_count": null,
      "outputs": [
        {
          "output_type": "execute_result",
          "data": {
            "text/plain": [
              "No old price    3040\n",
              "SR 995            12\n",
              "SR 1,385          11\n",
              "SR 595            10\n",
              "SR 275             8\n",
              "                ... \n",
              "SR 3,275           1\n",
              "SR 1,182           1\n",
              "SR 39              1\n",
              "SR 1,460           1\n",
              "SR 5,610           1\n",
              "Name: old_price, Length: 365, dtype: int64"
            ]
          },
          "metadata": {
            "tags": []
          },
          "execution_count": 12
        }
      ]
    },
    {
      "cell_type": "markdown",
      "metadata": {
        "id": "Tij3neE3jnmK"
      },
      "source": [
        "Let's change values in OLD_PRICE into EXIST and NOT EXIST"
      ]
    },
    {
      "cell_type": "code",
      "metadata": {
        "colab": {
          "base_uri": "https://localhost:8080/"
        },
        "id": "-eyj2H9tkPTA",
        "outputId": "a5543d36-1a07-4f09-cefc-b798a1ed0614"
      },
      "source": [
        "df['other_colors'].value_counts()"
      ],
      "execution_count": null,
      "outputs": [
        {
          "output_type": "execute_result",
          "data": {
            "text/plain": [
              "No     2182\n",
              "Yes    1512\n",
              "Name: other_colors, dtype: int64"
            ]
          },
          "metadata": {
            "tags": []
          },
          "execution_count": 13
        }
      ]
    },
    {
      "cell_type": "code",
      "metadata": {
        "id": "UnTtk6ksZxdl"
      },
      "source": [
        "df.drop(['Unnamed: 0','item_id','name','sellable_online','link','short_description','designer'],axis=1,inplace=True)"
      ],
      "execution_count": null,
      "outputs": []
    },
    {
      "cell_type": "code",
      "metadata": {
        "colab": {
          "base_uri": "https://localhost:8080/",
          "height": 402
        },
        "id": "IyKRopsEZxiH",
        "outputId": "7a213e8e-9e8c-4ffa-b366-4d0ac9553133"
      },
      "source": [
        "df"
      ],
      "execution_count": null,
      "outputs": [
        {
          "output_type": "execute_result",
          "data": {
            "text/html": [
              "<div>\n",
              "<style scoped>\n",
              "    .dataframe tbody tr th:only-of-type {\n",
              "        vertical-align: middle;\n",
              "    }\n",
              "\n",
              "    .dataframe tbody tr th {\n",
              "        vertical-align: top;\n",
              "    }\n",
              "\n",
              "    .dataframe thead th {\n",
              "        text-align: right;\n",
              "    }\n",
              "</style>\n",
              "<table border=\"1\" class=\"dataframe\">\n",
              "  <thead>\n",
              "    <tr style=\"text-align: right;\">\n",
              "      <th></th>\n",
              "      <th>category</th>\n",
              "      <th>price</th>\n",
              "      <th>old_price</th>\n",
              "      <th>other_colors</th>\n",
              "      <th>depth</th>\n",
              "      <th>height</th>\n",
              "      <th>width</th>\n",
              "    </tr>\n",
              "  </thead>\n",
              "  <tbody>\n",
              "    <tr>\n",
              "      <th>0</th>\n",
              "      <td>Bar furniture</td>\n",
              "      <td>265.0</td>\n",
              "      <td>No old price</td>\n",
              "      <td>No</td>\n",
              "      <td>NaN</td>\n",
              "      <td>99.0</td>\n",
              "      <td>51.0</td>\n",
              "    </tr>\n",
              "    <tr>\n",
              "      <th>1</th>\n",
              "      <td>Bar furniture</td>\n",
              "      <td>995.0</td>\n",
              "      <td>No old price</td>\n",
              "      <td>No</td>\n",
              "      <td>NaN</td>\n",
              "      <td>105.0</td>\n",
              "      <td>80.0</td>\n",
              "    </tr>\n",
              "    <tr>\n",
              "      <th>2</th>\n",
              "      <td>Bar furniture</td>\n",
              "      <td>2095.0</td>\n",
              "      <td>No old price</td>\n",
              "      <td>No</td>\n",
              "      <td>NaN</td>\n",
              "      <td>NaN</td>\n",
              "      <td>NaN</td>\n",
              "    </tr>\n",
              "    <tr>\n",
              "      <th>3</th>\n",
              "      <td>Bar furniture</td>\n",
              "      <td>69.0</td>\n",
              "      <td>No old price</td>\n",
              "      <td>Yes</td>\n",
              "      <td>50.0</td>\n",
              "      <td>100.0</td>\n",
              "      <td>60.0</td>\n",
              "    </tr>\n",
              "    <tr>\n",
              "      <th>4</th>\n",
              "      <td>Bar furniture</td>\n",
              "      <td>225.0</td>\n",
              "      <td>No old price</td>\n",
              "      <td>No</td>\n",
              "      <td>60.0</td>\n",
              "      <td>43.0</td>\n",
              "      <td>74.0</td>\n",
              "    </tr>\n",
              "    <tr>\n",
              "      <th>...</th>\n",
              "      <td>...</td>\n",
              "      <td>...</td>\n",
              "      <td>...</td>\n",
              "      <td>...</td>\n",
              "      <td>...</td>\n",
              "      <td>...</td>\n",
              "      <td>...</td>\n",
              "    </tr>\n",
              "    <tr>\n",
              "      <th>3689</th>\n",
              "      <td>Wardrobes</td>\n",
              "      <td>750.0</td>\n",
              "      <td>SR 820</td>\n",
              "      <td>No</td>\n",
              "      <td>50.0</td>\n",
              "      <td>NaN</td>\n",
              "      <td>91.0</td>\n",
              "    </tr>\n",
              "    <tr>\n",
              "      <th>3690</th>\n",
              "      <td>Wardrobes</td>\n",
              "      <td>1572.0</td>\n",
              "      <td>SR 1,755</td>\n",
              "      <td>No</td>\n",
              "      <td>50.0</td>\n",
              "      <td>NaN</td>\n",
              "      <td>135.0</td>\n",
              "    </tr>\n",
              "    <tr>\n",
              "      <th>3691</th>\n",
              "      <td>Wardrobes</td>\n",
              "      <td>924.0</td>\n",
              "      <td>SR 1,050</td>\n",
              "      <td>No</td>\n",
              "      <td>50.0</td>\n",
              "      <td>NaN</td>\n",
              "      <td>175.0</td>\n",
              "    </tr>\n",
              "    <tr>\n",
              "      <th>3692</th>\n",
              "      <td>Wardrobes</td>\n",
              "      <td>2745.0</td>\n",
              "      <td>SR 3,130</td>\n",
              "      <td>No</td>\n",
              "      <td>50.0</td>\n",
              "      <td>NaN</td>\n",
              "      <td>178.0</td>\n",
              "    </tr>\n",
              "    <tr>\n",
              "      <th>3693</th>\n",
              "      <td>Wardrobes</td>\n",
              "      <td>1231.0</td>\n",
              "      <td>SR 1,535</td>\n",
              "      <td>No</td>\n",
              "      <td>50.0</td>\n",
              "      <td>NaN</td>\n",
              "      <td>175.0</td>\n",
              "    </tr>\n",
              "  </tbody>\n",
              "</table>\n",
              "<p>3694 rows × 7 columns</p>\n",
              "</div>"
            ],
            "text/plain": [
              "           category   price     old_price other_colors  depth  height  width\n",
              "0     Bar furniture   265.0  No old price           No    NaN    99.0   51.0\n",
              "1     Bar furniture   995.0  No old price           No    NaN   105.0   80.0\n",
              "2     Bar furniture  2095.0  No old price           No    NaN     NaN    NaN\n",
              "3     Bar furniture    69.0  No old price          Yes   50.0   100.0   60.0\n",
              "4     Bar furniture   225.0  No old price           No   60.0    43.0   74.0\n",
              "...             ...     ...           ...          ...    ...     ...    ...\n",
              "3689      Wardrobes   750.0        SR 820           No   50.0     NaN   91.0\n",
              "3690      Wardrobes  1572.0      SR 1,755           No   50.0     NaN  135.0\n",
              "3691      Wardrobes   924.0      SR 1,050           No   50.0     NaN  175.0\n",
              "3692      Wardrobes  2745.0      SR 3,130           No   50.0     NaN  178.0\n",
              "3693      Wardrobes  1231.0      SR 1,535           No   50.0     NaN  175.0\n",
              "\n",
              "[3694 rows x 7 columns]"
            ]
          },
          "metadata": {
            "tags": []
          },
          "execution_count": 15
        }
      ]
    },
    {
      "cell_type": "code",
      "metadata": {
        "id": "IIHg5rr2lJsE"
      },
      "source": [
        "df=df[df['height']!=700]"
      ],
      "execution_count": null,
      "outputs": []
    },
    {
      "cell_type": "code",
      "metadata": {
        "id": "qX8hlfEpl1A3"
      },
      "source": [
        "df=df[df['depth']<200]"
      ],
      "execution_count": null,
      "outputs": []
    },
    {
      "cell_type": "markdown",
      "metadata": {
        "id": "fy_dLv3YVzLR"
      },
      "source": [
        "Filling NaN values with mean of certain column"
      ]
    },
    {
      "cell_type": "code",
      "metadata": {
        "id": "fG_bdiuwZxkq"
      },
      "source": [
        "df['depth']=df['depth'].fillna(df['depth'].mean())\n",
        "df['width']=df['width'].fillna(df['width'].mean())\n",
        "df['height']=df['height'].fillna(df['height'].mean())"
      ],
      "execution_count": null,
      "outputs": []
    },
    {
      "cell_type": "code",
      "metadata": {
        "id": "FZ5ctni5Zxpx"
      },
      "source": [
        "cats=pd.get_dummies(df['category'],prefix='category')"
      ],
      "execution_count": null,
      "outputs": []
    },
    {
      "cell_type": "code",
      "metadata": {
        "id": "UTS9Nax2Zxsb"
      },
      "source": [
        "df=pd.concat([df,cats],axis=1)"
      ],
      "execution_count": null,
      "outputs": []
    },
    {
      "cell_type": "code",
      "metadata": {
        "colab": {
          "base_uri": "https://localhost:8080/",
          "height": 539
        },
        "id": "gycO-AMTWcv8",
        "outputId": "1b2edff5-2aab-4c5a-e44c-f23e8effa0fb"
      },
      "source": [
        "df"
      ],
      "execution_count": null,
      "outputs": [
        {
          "output_type": "execute_result",
          "data": {
            "text/html": [
              "<div>\n",
              "<style scoped>\n",
              "    .dataframe tbody tr th:only-of-type {\n",
              "        vertical-align: middle;\n",
              "    }\n",
              "\n",
              "    .dataframe tbody tr th {\n",
              "        vertical-align: top;\n",
              "    }\n",
              "\n",
              "    .dataframe thead th {\n",
              "        text-align: right;\n",
              "    }\n",
              "</style>\n",
              "<table border=\"1\" class=\"dataframe\">\n",
              "  <thead>\n",
              "    <tr style=\"text-align: right;\">\n",
              "      <th></th>\n",
              "      <th>category</th>\n",
              "      <th>price</th>\n",
              "      <th>old_price</th>\n",
              "      <th>other_colors</th>\n",
              "      <th>depth</th>\n",
              "      <th>height</th>\n",
              "      <th>width</th>\n",
              "      <th>category_Bar furniture</th>\n",
              "      <th>category_Beds</th>\n",
              "      <th>category_Bookcases &amp; shelving units</th>\n",
              "      <th>category_Cabinets &amp; cupboards</th>\n",
              "      <th>category_Café furniture</th>\n",
              "      <th>category_Chairs</th>\n",
              "      <th>category_Chests of drawers &amp; drawer units</th>\n",
              "      <th>category_Children's furniture</th>\n",
              "      <th>category_Nursery furniture</th>\n",
              "      <th>category_Outdoor furniture</th>\n",
              "      <th>category_Room dividers</th>\n",
              "      <th>category_Sideboards, buffets &amp; console tables</th>\n",
              "      <th>category_Sofas &amp; armchairs</th>\n",
              "      <th>category_TV &amp; media furniture</th>\n",
              "      <th>category_Tables &amp; desks</th>\n",
              "      <th>category_Trolleys</th>\n",
              "      <th>category_Wardrobes</th>\n",
              "    </tr>\n",
              "  </thead>\n",
              "  <tbody>\n",
              "    <tr>\n",
              "      <th>3</th>\n",
              "      <td>Bar furniture</td>\n",
              "      <td>69.0</td>\n",
              "      <td>No old price</td>\n",
              "      <td>Yes</td>\n",
              "      <td>50.0</td>\n",
              "      <td>100.000000</td>\n",
              "      <td>60.0</td>\n",
              "      <td>1</td>\n",
              "      <td>0</td>\n",
              "      <td>0</td>\n",
              "      <td>0</td>\n",
              "      <td>0</td>\n",
              "      <td>0</td>\n",
              "      <td>0</td>\n",
              "      <td>0</td>\n",
              "      <td>0</td>\n",
              "      <td>0</td>\n",
              "      <td>0</td>\n",
              "      <td>0</td>\n",
              "      <td>0</td>\n",
              "      <td>0</td>\n",
              "      <td>0</td>\n",
              "      <td>0</td>\n",
              "      <td>0</td>\n",
              "    </tr>\n",
              "    <tr>\n",
              "      <th>4</th>\n",
              "      <td>Bar furniture</td>\n",
              "      <td>225.0</td>\n",
              "      <td>No old price</td>\n",
              "      <td>No</td>\n",
              "      <td>60.0</td>\n",
              "      <td>43.000000</td>\n",
              "      <td>74.0</td>\n",
              "      <td>1</td>\n",
              "      <td>0</td>\n",
              "      <td>0</td>\n",
              "      <td>0</td>\n",
              "      <td>0</td>\n",
              "      <td>0</td>\n",
              "      <td>0</td>\n",
              "      <td>0</td>\n",
              "      <td>0</td>\n",
              "      <td>0</td>\n",
              "      <td>0</td>\n",
              "      <td>0</td>\n",
              "      <td>0</td>\n",
              "      <td>0</td>\n",
              "      <td>0</td>\n",
              "      <td>0</td>\n",
              "      <td>0</td>\n",
              "    </tr>\n",
              "    <tr>\n",
              "      <th>5</th>\n",
              "      <td>Bar furniture</td>\n",
              "      <td>345.0</td>\n",
              "      <td>No old price</td>\n",
              "      <td>No</td>\n",
              "      <td>45.0</td>\n",
              "      <td>91.000000</td>\n",
              "      <td>40.0</td>\n",
              "      <td>1</td>\n",
              "      <td>0</td>\n",
              "      <td>0</td>\n",
              "      <td>0</td>\n",
              "      <td>0</td>\n",
              "      <td>0</td>\n",
              "      <td>0</td>\n",
              "      <td>0</td>\n",
              "      <td>0</td>\n",
              "      <td>0</td>\n",
              "      <td>0</td>\n",
              "      <td>0</td>\n",
              "      <td>0</td>\n",
              "      <td>0</td>\n",
              "      <td>0</td>\n",
              "      <td>0</td>\n",
              "      <td>0</td>\n",
              "    </tr>\n",
              "    <tr>\n",
              "      <th>6</th>\n",
              "      <td>Bar furniture</td>\n",
              "      <td>129.0</td>\n",
              "      <td>No old price</td>\n",
              "      <td>No</td>\n",
              "      <td>44.0</td>\n",
              "      <td>95.000000</td>\n",
              "      <td>50.0</td>\n",
              "      <td>1</td>\n",
              "      <td>0</td>\n",
              "      <td>0</td>\n",
              "      <td>0</td>\n",
              "      <td>0</td>\n",
              "      <td>0</td>\n",
              "      <td>0</td>\n",
              "      <td>0</td>\n",
              "      <td>0</td>\n",
              "      <td>0</td>\n",
              "      <td>0</td>\n",
              "      <td>0</td>\n",
              "      <td>0</td>\n",
              "      <td>0</td>\n",
              "      <td>0</td>\n",
              "      <td>0</td>\n",
              "      <td>0</td>\n",
              "    </tr>\n",
              "    <tr>\n",
              "      <th>7</th>\n",
              "      <td>Bar furniture</td>\n",
              "      <td>195.0</td>\n",
              "      <td>No old price</td>\n",
              "      <td>No</td>\n",
              "      <td>50.0</td>\n",
              "      <td>113.010433</td>\n",
              "      <td>50.0</td>\n",
              "      <td>1</td>\n",
              "      <td>0</td>\n",
              "      <td>0</td>\n",
              "      <td>0</td>\n",
              "      <td>0</td>\n",
              "      <td>0</td>\n",
              "      <td>0</td>\n",
              "      <td>0</td>\n",
              "      <td>0</td>\n",
              "      <td>0</td>\n",
              "      <td>0</td>\n",
              "      <td>0</td>\n",
              "      <td>0</td>\n",
              "      <td>0</td>\n",
              "      <td>0</td>\n",
              "      <td>0</td>\n",
              "      <td>0</td>\n",
              "    </tr>\n",
              "    <tr>\n",
              "      <th>...</th>\n",
              "      <td>...</td>\n",
              "      <td>...</td>\n",
              "      <td>...</td>\n",
              "      <td>...</td>\n",
              "      <td>...</td>\n",
              "      <td>...</td>\n",
              "      <td>...</td>\n",
              "      <td>...</td>\n",
              "      <td>...</td>\n",
              "      <td>...</td>\n",
              "      <td>...</td>\n",
              "      <td>...</td>\n",
              "      <td>...</td>\n",
              "      <td>...</td>\n",
              "      <td>...</td>\n",
              "      <td>...</td>\n",
              "      <td>...</td>\n",
              "      <td>...</td>\n",
              "      <td>...</td>\n",
              "      <td>...</td>\n",
              "      <td>...</td>\n",
              "      <td>...</td>\n",
              "      <td>...</td>\n",
              "      <td>...</td>\n",
              "    </tr>\n",
              "    <tr>\n",
              "      <th>3689</th>\n",
              "      <td>Wardrobes</td>\n",
              "      <td>750.0</td>\n",
              "      <td>SR 820</td>\n",
              "      <td>No</td>\n",
              "      <td>50.0</td>\n",
              "      <td>113.010433</td>\n",
              "      <td>91.0</td>\n",
              "      <td>0</td>\n",
              "      <td>0</td>\n",
              "      <td>0</td>\n",
              "      <td>0</td>\n",
              "      <td>0</td>\n",
              "      <td>0</td>\n",
              "      <td>0</td>\n",
              "      <td>0</td>\n",
              "      <td>0</td>\n",
              "      <td>0</td>\n",
              "      <td>0</td>\n",
              "      <td>0</td>\n",
              "      <td>0</td>\n",
              "      <td>0</td>\n",
              "      <td>0</td>\n",
              "      <td>0</td>\n",
              "      <td>1</td>\n",
              "    </tr>\n",
              "    <tr>\n",
              "      <th>3690</th>\n",
              "      <td>Wardrobes</td>\n",
              "      <td>1572.0</td>\n",
              "      <td>SR 1,755</td>\n",
              "      <td>No</td>\n",
              "      <td>50.0</td>\n",
              "      <td>113.010433</td>\n",
              "      <td>135.0</td>\n",
              "      <td>0</td>\n",
              "      <td>0</td>\n",
              "      <td>0</td>\n",
              "      <td>0</td>\n",
              "      <td>0</td>\n",
              "      <td>0</td>\n",
              "      <td>0</td>\n",
              "      <td>0</td>\n",
              "      <td>0</td>\n",
              "      <td>0</td>\n",
              "      <td>0</td>\n",
              "      <td>0</td>\n",
              "      <td>0</td>\n",
              "      <td>0</td>\n",
              "      <td>0</td>\n",
              "      <td>0</td>\n",
              "      <td>1</td>\n",
              "    </tr>\n",
              "    <tr>\n",
              "      <th>3691</th>\n",
              "      <td>Wardrobes</td>\n",
              "      <td>924.0</td>\n",
              "      <td>SR 1,050</td>\n",
              "      <td>No</td>\n",
              "      <td>50.0</td>\n",
              "      <td>113.010433</td>\n",
              "      <td>175.0</td>\n",
              "      <td>0</td>\n",
              "      <td>0</td>\n",
              "      <td>0</td>\n",
              "      <td>0</td>\n",
              "      <td>0</td>\n",
              "      <td>0</td>\n",
              "      <td>0</td>\n",
              "      <td>0</td>\n",
              "      <td>0</td>\n",
              "      <td>0</td>\n",
              "      <td>0</td>\n",
              "      <td>0</td>\n",
              "      <td>0</td>\n",
              "      <td>0</td>\n",
              "      <td>0</td>\n",
              "      <td>0</td>\n",
              "      <td>1</td>\n",
              "    </tr>\n",
              "    <tr>\n",
              "      <th>3692</th>\n",
              "      <td>Wardrobes</td>\n",
              "      <td>2745.0</td>\n",
              "      <td>SR 3,130</td>\n",
              "      <td>No</td>\n",
              "      <td>50.0</td>\n",
              "      <td>113.010433</td>\n",
              "      <td>178.0</td>\n",
              "      <td>0</td>\n",
              "      <td>0</td>\n",
              "      <td>0</td>\n",
              "      <td>0</td>\n",
              "      <td>0</td>\n",
              "      <td>0</td>\n",
              "      <td>0</td>\n",
              "      <td>0</td>\n",
              "      <td>0</td>\n",
              "      <td>0</td>\n",
              "      <td>0</td>\n",
              "      <td>0</td>\n",
              "      <td>0</td>\n",
              "      <td>0</td>\n",
              "      <td>0</td>\n",
              "      <td>0</td>\n",
              "      <td>1</td>\n",
              "    </tr>\n",
              "    <tr>\n",
              "      <th>3693</th>\n",
              "      <td>Wardrobes</td>\n",
              "      <td>1231.0</td>\n",
              "      <td>SR 1,535</td>\n",
              "      <td>No</td>\n",
              "      <td>50.0</td>\n",
              "      <td>113.010433</td>\n",
              "      <td>175.0</td>\n",
              "      <td>0</td>\n",
              "      <td>0</td>\n",
              "      <td>0</td>\n",
              "      <td>0</td>\n",
              "      <td>0</td>\n",
              "      <td>0</td>\n",
              "      <td>0</td>\n",
              "      <td>0</td>\n",
              "      <td>0</td>\n",
              "      <td>0</td>\n",
              "      <td>0</td>\n",
              "      <td>0</td>\n",
              "      <td>0</td>\n",
              "      <td>0</td>\n",
              "      <td>0</td>\n",
              "      <td>0</td>\n",
              "      <td>1</td>\n",
              "    </tr>\n",
              "  </tbody>\n",
              "</table>\n",
              "<p>2224 rows × 24 columns</p>\n",
              "</div>"
            ],
            "text/plain": [
              "           category   price  ... category_Trolleys category_Wardrobes\n",
              "3     Bar furniture    69.0  ...                 0                  0\n",
              "4     Bar furniture   225.0  ...                 0                  0\n",
              "5     Bar furniture   345.0  ...                 0                  0\n",
              "6     Bar furniture   129.0  ...                 0                  0\n",
              "7     Bar furniture   195.0  ...                 0                  0\n",
              "...             ...     ...  ...               ...                ...\n",
              "3689      Wardrobes   750.0  ...                 0                  1\n",
              "3690      Wardrobes  1572.0  ...                 0                  1\n",
              "3691      Wardrobes   924.0  ...                 0                  1\n",
              "3692      Wardrobes  2745.0  ...                 0                  1\n",
              "3693      Wardrobes  1231.0  ...                 0                  1\n",
              "\n",
              "[2224 rows x 24 columns]"
            ]
          },
          "metadata": {
            "tags": []
          },
          "execution_count": 21
        }
      ]
    },
    {
      "cell_type": "code",
      "metadata": {
        "id": "bWup7iCYB2oa"
      },
      "source": [
        "df.drop(['category'],axis=1,inplace=True)"
      ],
      "execution_count": null,
      "outputs": []
    },
    {
      "cell_type": "code",
      "metadata": {
        "id": "q6U3vEzgp5-P"
      },
      "source": [
        "df['other_colors']=df['other_colors'].map({'Yes':1,'No':0})"
      ],
      "execution_count": null,
      "outputs": []
    },
    {
      "cell_type": "code",
      "metadata": {
        "id": "MKPdSSKGuayo"
      },
      "source": [
        "df.reset_index(drop=True,inplace=True)"
      ],
      "execution_count": null,
      "outputs": []
    },
    {
      "cell_type": "markdown",
      "metadata": {
        "id": "VlZXzwL3WAq4"
      },
      "source": [
        "Changing values of No old price with 0,and other values with 1"
      ]
    },
    {
      "cell_type": "code",
      "metadata": {
        "id": "QIq3RnY1p6Am"
      },
      "source": [
        "old_price=[]\n",
        "for o_p in df['old_price']:\n",
        "  if o_p=='No old price':\n",
        "    old_price.append(0)\n",
        "  else:\n",
        "    old_price.append(1)  "
      ],
      "execution_count": null,
      "outputs": []
    },
    {
      "cell_type": "code",
      "metadata": {
        "id": "2rMXYyUKqGUn"
      },
      "source": [
        "old_price=pd.Series(old_price)"
      ],
      "execution_count": null,
      "outputs": []
    },
    {
      "cell_type": "code",
      "metadata": {
        "colab": {
          "base_uri": "https://localhost:8080/"
        },
        "id": "4uElpwOjtX_b",
        "outputId": "6da0737a-cd5b-4a73-d0a8-ee3a49b54e0b"
      },
      "source": [
        "old_price"
      ],
      "execution_count": null,
      "outputs": [
        {
          "output_type": "execute_result",
          "data": {
            "text/plain": [
              "0       0\n",
              "1       0\n",
              "2       0\n",
              "3       0\n",
              "4       0\n",
              "       ..\n",
              "2219    1\n",
              "2220    1\n",
              "2221    1\n",
              "2222    1\n",
              "2223    1\n",
              "Length: 2224, dtype: int64"
            ]
          },
          "metadata": {
            "tags": []
          },
          "execution_count": 27
        }
      ]
    },
    {
      "cell_type": "code",
      "metadata": {
        "id": "NmsU_PnCqGXA"
      },
      "source": [
        "df=pd.concat([df,old_price],axis=1)"
      ],
      "execution_count": null,
      "outputs": []
    },
    {
      "cell_type": "code",
      "metadata": {
        "id": "m6PIgeeSqGco"
      },
      "source": [
        "df.drop(['old_price'],axis=1,inplace=True)"
      ],
      "execution_count": null,
      "outputs": []
    },
    {
      "cell_type": "code",
      "metadata": {
        "id": "b9Z65_gEwB6W"
      },
      "source": [
        "df.columns=['price','other_colors','depth','height','width','category_Bar furniture','category_Beds','category_Bookcases & shelving units','category_Cabinets & cupboards','category_Café furniture','category_Chairs','category_Chests of drawers & drawer units','category_Childrens furniture','category_Nursery furniture','category_Outdoor furniture','category_Room dividers','category_Sideboards, buffets & console tables','category_Sofas & armchairs','category_TV & media furniture','category_Tables & desks','category_Trolleys','category_Wardrobes','old_price']"
      ],
      "execution_count": null,
      "outputs": []
    },
    {
      "cell_type": "code",
      "metadata": {
        "id": "0ylWtVdwqGf1"
      },
      "source": [
        "df=df.astype(int)"
      ],
      "execution_count": null,
      "outputs": []
    },
    {
      "cell_type": "code",
      "metadata": {
        "id": "fA8oQkuMw17o",
        "colab": {
          "base_uri": "https://localhost:8080/",
          "height": 455
        },
        "outputId": "9bbe38f9-856e-4223-8cc8-0f2ac2a3c276"
      },
      "source": [
        "df"
      ],
      "execution_count": null,
      "outputs": [
        {
          "output_type": "execute_result",
          "data": {
            "text/html": [
              "<div>\n",
              "<style scoped>\n",
              "    .dataframe tbody tr th:only-of-type {\n",
              "        vertical-align: middle;\n",
              "    }\n",
              "\n",
              "    .dataframe tbody tr th {\n",
              "        vertical-align: top;\n",
              "    }\n",
              "\n",
              "    .dataframe thead th {\n",
              "        text-align: right;\n",
              "    }\n",
              "</style>\n",
              "<table border=\"1\" class=\"dataframe\">\n",
              "  <thead>\n",
              "    <tr style=\"text-align: right;\">\n",
              "      <th></th>\n",
              "      <th>price</th>\n",
              "      <th>other_colors</th>\n",
              "      <th>depth</th>\n",
              "      <th>height</th>\n",
              "      <th>width</th>\n",
              "      <th>category_Bar furniture</th>\n",
              "      <th>category_Beds</th>\n",
              "      <th>category_Bookcases &amp; shelving units</th>\n",
              "      <th>category_Cabinets &amp; cupboards</th>\n",
              "      <th>category_Café furniture</th>\n",
              "      <th>category_Chairs</th>\n",
              "      <th>category_Chests of drawers &amp; drawer units</th>\n",
              "      <th>category_Childrens furniture</th>\n",
              "      <th>category_Nursery furniture</th>\n",
              "      <th>category_Outdoor furniture</th>\n",
              "      <th>category_Room dividers</th>\n",
              "      <th>category_Sideboards, buffets &amp; console tables</th>\n",
              "      <th>category_Sofas &amp; armchairs</th>\n",
              "      <th>category_TV &amp; media furniture</th>\n",
              "      <th>category_Tables &amp; desks</th>\n",
              "      <th>category_Trolleys</th>\n",
              "      <th>category_Wardrobes</th>\n",
              "      <th>old_price</th>\n",
              "    </tr>\n",
              "  </thead>\n",
              "  <tbody>\n",
              "    <tr>\n",
              "      <th>0</th>\n",
              "      <td>69</td>\n",
              "      <td>1</td>\n",
              "      <td>50</td>\n",
              "      <td>100</td>\n",
              "      <td>60</td>\n",
              "      <td>1</td>\n",
              "      <td>0</td>\n",
              "      <td>0</td>\n",
              "      <td>0</td>\n",
              "      <td>0</td>\n",
              "      <td>0</td>\n",
              "      <td>0</td>\n",
              "      <td>0</td>\n",
              "      <td>0</td>\n",
              "      <td>0</td>\n",
              "      <td>0</td>\n",
              "      <td>0</td>\n",
              "      <td>0</td>\n",
              "      <td>0</td>\n",
              "      <td>0</td>\n",
              "      <td>0</td>\n",
              "      <td>0</td>\n",
              "      <td>0</td>\n",
              "    </tr>\n",
              "    <tr>\n",
              "      <th>1</th>\n",
              "      <td>225</td>\n",
              "      <td>0</td>\n",
              "      <td>60</td>\n",
              "      <td>43</td>\n",
              "      <td>74</td>\n",
              "      <td>1</td>\n",
              "      <td>0</td>\n",
              "      <td>0</td>\n",
              "      <td>0</td>\n",
              "      <td>0</td>\n",
              "      <td>0</td>\n",
              "      <td>0</td>\n",
              "      <td>0</td>\n",
              "      <td>0</td>\n",
              "      <td>0</td>\n",
              "      <td>0</td>\n",
              "      <td>0</td>\n",
              "      <td>0</td>\n",
              "      <td>0</td>\n",
              "      <td>0</td>\n",
              "      <td>0</td>\n",
              "      <td>0</td>\n",
              "      <td>0</td>\n",
              "    </tr>\n",
              "    <tr>\n",
              "      <th>2</th>\n",
              "      <td>345</td>\n",
              "      <td>0</td>\n",
              "      <td>45</td>\n",
              "      <td>91</td>\n",
              "      <td>40</td>\n",
              "      <td>1</td>\n",
              "      <td>0</td>\n",
              "      <td>0</td>\n",
              "      <td>0</td>\n",
              "      <td>0</td>\n",
              "      <td>0</td>\n",
              "      <td>0</td>\n",
              "      <td>0</td>\n",
              "      <td>0</td>\n",
              "      <td>0</td>\n",
              "      <td>0</td>\n",
              "      <td>0</td>\n",
              "      <td>0</td>\n",
              "      <td>0</td>\n",
              "      <td>0</td>\n",
              "      <td>0</td>\n",
              "      <td>0</td>\n",
              "      <td>0</td>\n",
              "    </tr>\n",
              "    <tr>\n",
              "      <th>3</th>\n",
              "      <td>129</td>\n",
              "      <td>0</td>\n",
              "      <td>44</td>\n",
              "      <td>95</td>\n",
              "      <td>50</td>\n",
              "      <td>1</td>\n",
              "      <td>0</td>\n",
              "      <td>0</td>\n",
              "      <td>0</td>\n",
              "      <td>0</td>\n",
              "      <td>0</td>\n",
              "      <td>0</td>\n",
              "      <td>0</td>\n",
              "      <td>0</td>\n",
              "      <td>0</td>\n",
              "      <td>0</td>\n",
              "      <td>0</td>\n",
              "      <td>0</td>\n",
              "      <td>0</td>\n",
              "      <td>0</td>\n",
              "      <td>0</td>\n",
              "      <td>0</td>\n",
              "      <td>0</td>\n",
              "    </tr>\n",
              "    <tr>\n",
              "      <th>4</th>\n",
              "      <td>195</td>\n",
              "      <td>0</td>\n",
              "      <td>50</td>\n",
              "      <td>113</td>\n",
              "      <td>50</td>\n",
              "      <td>1</td>\n",
              "      <td>0</td>\n",
              "      <td>0</td>\n",
              "      <td>0</td>\n",
              "      <td>0</td>\n",
              "      <td>0</td>\n",
              "      <td>0</td>\n",
              "      <td>0</td>\n",
              "      <td>0</td>\n",
              "      <td>0</td>\n",
              "      <td>0</td>\n",
              "      <td>0</td>\n",
              "      <td>0</td>\n",
              "      <td>0</td>\n",
              "      <td>0</td>\n",
              "      <td>0</td>\n",
              "      <td>0</td>\n",
              "      <td>0</td>\n",
              "    </tr>\n",
              "    <tr>\n",
              "      <th>...</th>\n",
              "      <td>...</td>\n",
              "      <td>...</td>\n",
              "      <td>...</td>\n",
              "      <td>...</td>\n",
              "      <td>...</td>\n",
              "      <td>...</td>\n",
              "      <td>...</td>\n",
              "      <td>...</td>\n",
              "      <td>...</td>\n",
              "      <td>...</td>\n",
              "      <td>...</td>\n",
              "      <td>...</td>\n",
              "      <td>...</td>\n",
              "      <td>...</td>\n",
              "      <td>...</td>\n",
              "      <td>...</td>\n",
              "      <td>...</td>\n",
              "      <td>...</td>\n",
              "      <td>...</td>\n",
              "      <td>...</td>\n",
              "      <td>...</td>\n",
              "      <td>...</td>\n",
              "      <td>...</td>\n",
              "    </tr>\n",
              "    <tr>\n",
              "      <th>2219</th>\n",
              "      <td>750</td>\n",
              "      <td>0</td>\n",
              "      <td>50</td>\n",
              "      <td>113</td>\n",
              "      <td>91</td>\n",
              "      <td>0</td>\n",
              "      <td>0</td>\n",
              "      <td>0</td>\n",
              "      <td>0</td>\n",
              "      <td>0</td>\n",
              "      <td>0</td>\n",
              "      <td>0</td>\n",
              "      <td>0</td>\n",
              "      <td>0</td>\n",
              "      <td>0</td>\n",
              "      <td>0</td>\n",
              "      <td>0</td>\n",
              "      <td>0</td>\n",
              "      <td>0</td>\n",
              "      <td>0</td>\n",
              "      <td>0</td>\n",
              "      <td>1</td>\n",
              "      <td>1</td>\n",
              "    </tr>\n",
              "    <tr>\n",
              "      <th>2220</th>\n",
              "      <td>1572</td>\n",
              "      <td>0</td>\n",
              "      <td>50</td>\n",
              "      <td>113</td>\n",
              "      <td>135</td>\n",
              "      <td>0</td>\n",
              "      <td>0</td>\n",
              "      <td>0</td>\n",
              "      <td>0</td>\n",
              "      <td>0</td>\n",
              "      <td>0</td>\n",
              "      <td>0</td>\n",
              "      <td>0</td>\n",
              "      <td>0</td>\n",
              "      <td>0</td>\n",
              "      <td>0</td>\n",
              "      <td>0</td>\n",
              "      <td>0</td>\n",
              "      <td>0</td>\n",
              "      <td>0</td>\n",
              "      <td>0</td>\n",
              "      <td>1</td>\n",
              "      <td>1</td>\n",
              "    </tr>\n",
              "    <tr>\n",
              "      <th>2221</th>\n",
              "      <td>924</td>\n",
              "      <td>0</td>\n",
              "      <td>50</td>\n",
              "      <td>113</td>\n",
              "      <td>175</td>\n",
              "      <td>0</td>\n",
              "      <td>0</td>\n",
              "      <td>0</td>\n",
              "      <td>0</td>\n",
              "      <td>0</td>\n",
              "      <td>0</td>\n",
              "      <td>0</td>\n",
              "      <td>0</td>\n",
              "      <td>0</td>\n",
              "      <td>0</td>\n",
              "      <td>0</td>\n",
              "      <td>0</td>\n",
              "      <td>0</td>\n",
              "      <td>0</td>\n",
              "      <td>0</td>\n",
              "      <td>0</td>\n",
              "      <td>1</td>\n",
              "      <td>1</td>\n",
              "    </tr>\n",
              "    <tr>\n",
              "      <th>2222</th>\n",
              "      <td>2745</td>\n",
              "      <td>0</td>\n",
              "      <td>50</td>\n",
              "      <td>113</td>\n",
              "      <td>178</td>\n",
              "      <td>0</td>\n",
              "      <td>0</td>\n",
              "      <td>0</td>\n",
              "      <td>0</td>\n",
              "      <td>0</td>\n",
              "      <td>0</td>\n",
              "      <td>0</td>\n",
              "      <td>0</td>\n",
              "      <td>0</td>\n",
              "      <td>0</td>\n",
              "      <td>0</td>\n",
              "      <td>0</td>\n",
              "      <td>0</td>\n",
              "      <td>0</td>\n",
              "      <td>0</td>\n",
              "      <td>0</td>\n",
              "      <td>1</td>\n",
              "      <td>1</td>\n",
              "    </tr>\n",
              "    <tr>\n",
              "      <th>2223</th>\n",
              "      <td>1231</td>\n",
              "      <td>0</td>\n",
              "      <td>50</td>\n",
              "      <td>113</td>\n",
              "      <td>175</td>\n",
              "      <td>0</td>\n",
              "      <td>0</td>\n",
              "      <td>0</td>\n",
              "      <td>0</td>\n",
              "      <td>0</td>\n",
              "      <td>0</td>\n",
              "      <td>0</td>\n",
              "      <td>0</td>\n",
              "      <td>0</td>\n",
              "      <td>0</td>\n",
              "      <td>0</td>\n",
              "      <td>0</td>\n",
              "      <td>0</td>\n",
              "      <td>0</td>\n",
              "      <td>0</td>\n",
              "      <td>0</td>\n",
              "      <td>1</td>\n",
              "      <td>1</td>\n",
              "    </tr>\n",
              "  </tbody>\n",
              "</table>\n",
              "<p>2224 rows × 23 columns</p>\n",
              "</div>"
            ],
            "text/plain": [
              "      price  other_colors  ...  category_Wardrobes  old_price\n",
              "0        69             1  ...                   0          0\n",
              "1       225             0  ...                   0          0\n",
              "2       345             0  ...                   0          0\n",
              "3       129             0  ...                   0          0\n",
              "4       195             0  ...                   0          0\n",
              "...     ...           ...  ...                 ...        ...\n",
              "2219    750             0  ...                   1          1\n",
              "2220   1572             0  ...                   1          1\n",
              "2221    924             0  ...                   1          1\n",
              "2222   2745             0  ...                   1          1\n",
              "2223   1231             0  ...                   1          1\n",
              "\n",
              "[2224 rows x 23 columns]"
            ]
          },
          "metadata": {
            "tags": []
          },
          "execution_count": 32
        }
      ]
    },
    {
      "cell_type": "code",
      "metadata": {
        "id": "FpWNbtIVAvSA"
      },
      "source": [
        "X=df.iloc[:,1:]\n",
        "y=df.iloc[:,0]"
      ],
      "execution_count": null,
      "outputs": []
    },
    {
      "cell_type": "code",
      "metadata": {
        "id": "ePXv8ZexAvUT"
      },
      "source": [
        "from sklearn.pipeline import Pipeline\n",
        "from sklearn.svm import SVR\n",
        "from sklearn.preprocessing import StandardScaler,MinMaxScaler\n",
        "from sklearn.linear_model import LinearRegression\n",
        "from sklearn.neighbors import KNeighborsRegressor\n",
        "from sklearn.model_selection import train_test_split,cross_validate,cross_val_predict"
      ],
      "execution_count": null,
      "outputs": []
    },
    {
      "cell_type": "code",
      "metadata": {
        "colab": {
          "base_uri": "https://localhost:8080/"
        },
        "id": "SwIgDxdQAvWv",
        "outputId": "1f9882e6-ff48-4d13-d423-2ba58ba24bf1"
      },
      "source": [
        "for model,name in zip([LinearRegression(),KNeighborsRegressor(),SVR()],[\"LR\",\"KNR\",\"SVR\"]):\n",
        "  pipeline=Pipeline([('scaler',StandardScaler()),\n",
        "                   ('model',model)])\n",
        "  scores=cross_validate(pipeline,X,y,cv=20)\n",
        "  scores=scores['fit_time']\n",
        "  print(name+\" score is: \"+str(scores.mean()))"
      ],
      "execution_count": null,
      "outputs": [
        {
          "output_type": "stream",
          "text": [
            "LRscore is: 0.007415664196014404\n",
            "KNRscore is: 0.013905394077301025\n",
            "SVRscore is: 0.44361511468887327\n"
          ],
          "name": "stdout"
        }
      ]
    },
    {
      "cell_type": "markdown",
      "metadata": {
        "id": "6pLce8EbIcjo"
      },
      "source": [
        "SVR is more suited to small data,and thats why it gives good results"
      ]
    },
    {
      "cell_type": "markdown",
      "metadata": {
        "id": "I-e2IuNNKfKx"
      },
      "source": [
        "Let's get rid of category features and see what happens!"
      ]
    },
    {
      "cell_type": "code",
      "metadata": {
        "id": "MJ6CtDtlN3nT"
      },
      "source": [
        "f=df.copy()"
      ],
      "execution_count": null,
      "outputs": []
    },
    {
      "cell_type": "code",
      "metadata": {
        "id": "2zcqvz-7JYWU"
      },
      "source": [
        "f.drop(['category_Bar furniture','category_Beds','category_Bookcases & shelving units','category_Cabinets & cupboards','category_Café furniture','category_Chairs','category_Chests of drawers & drawer units','category_Childrens furniture','category_Nursery furniture','category_Outdoor furniture','category_Room dividers','category_Sideboards, buffets & console tables','category_Sofas & armchairs','category_TV & media furniture','category_Tables & desks','category_Trolleys','category_Wardrobes'],axis=1,inplace=True)"
      ],
      "execution_count": null,
      "outputs": []
    },
    {
      "cell_type": "code",
      "metadata": {
        "colab": {
          "base_uri": "https://localhost:8080/",
          "height": 402
        },
        "id": "YnvMxm2cJYae",
        "outputId": "d6906e72-3e4e-4b82-d1e7-6f15e3aa9ab7"
      },
      "source": [
        "f"
      ],
      "execution_count": null,
      "outputs": [
        {
          "output_type": "execute_result",
          "data": {
            "text/html": [
              "<div>\n",
              "<style scoped>\n",
              "    .dataframe tbody tr th:only-of-type {\n",
              "        vertical-align: middle;\n",
              "    }\n",
              "\n",
              "    .dataframe tbody tr th {\n",
              "        vertical-align: top;\n",
              "    }\n",
              "\n",
              "    .dataframe thead th {\n",
              "        text-align: right;\n",
              "    }\n",
              "</style>\n",
              "<table border=\"1\" class=\"dataframe\">\n",
              "  <thead>\n",
              "    <tr style=\"text-align: right;\">\n",
              "      <th></th>\n",
              "      <th>price</th>\n",
              "      <th>other_colors</th>\n",
              "      <th>depth</th>\n",
              "      <th>height</th>\n",
              "      <th>width</th>\n",
              "      <th>old_price</th>\n",
              "    </tr>\n",
              "  </thead>\n",
              "  <tbody>\n",
              "    <tr>\n",
              "      <th>0</th>\n",
              "      <td>69</td>\n",
              "      <td>1</td>\n",
              "      <td>50</td>\n",
              "      <td>100</td>\n",
              "      <td>60</td>\n",
              "      <td>0</td>\n",
              "    </tr>\n",
              "    <tr>\n",
              "      <th>1</th>\n",
              "      <td>225</td>\n",
              "      <td>0</td>\n",
              "      <td>60</td>\n",
              "      <td>43</td>\n",
              "      <td>74</td>\n",
              "      <td>0</td>\n",
              "    </tr>\n",
              "    <tr>\n",
              "      <th>2</th>\n",
              "      <td>345</td>\n",
              "      <td>0</td>\n",
              "      <td>45</td>\n",
              "      <td>91</td>\n",
              "      <td>40</td>\n",
              "      <td>0</td>\n",
              "    </tr>\n",
              "    <tr>\n",
              "      <th>3</th>\n",
              "      <td>129</td>\n",
              "      <td>0</td>\n",
              "      <td>44</td>\n",
              "      <td>95</td>\n",
              "      <td>50</td>\n",
              "      <td>0</td>\n",
              "    </tr>\n",
              "    <tr>\n",
              "      <th>4</th>\n",
              "      <td>195</td>\n",
              "      <td>0</td>\n",
              "      <td>50</td>\n",
              "      <td>113</td>\n",
              "      <td>50</td>\n",
              "      <td>0</td>\n",
              "    </tr>\n",
              "    <tr>\n",
              "      <th>...</th>\n",
              "      <td>...</td>\n",
              "      <td>...</td>\n",
              "      <td>...</td>\n",
              "      <td>...</td>\n",
              "      <td>...</td>\n",
              "      <td>...</td>\n",
              "    </tr>\n",
              "    <tr>\n",
              "      <th>2219</th>\n",
              "      <td>750</td>\n",
              "      <td>0</td>\n",
              "      <td>50</td>\n",
              "      <td>113</td>\n",
              "      <td>91</td>\n",
              "      <td>1</td>\n",
              "    </tr>\n",
              "    <tr>\n",
              "      <th>2220</th>\n",
              "      <td>1572</td>\n",
              "      <td>0</td>\n",
              "      <td>50</td>\n",
              "      <td>113</td>\n",
              "      <td>135</td>\n",
              "      <td>1</td>\n",
              "    </tr>\n",
              "    <tr>\n",
              "      <th>2221</th>\n",
              "      <td>924</td>\n",
              "      <td>0</td>\n",
              "      <td>50</td>\n",
              "      <td>113</td>\n",
              "      <td>175</td>\n",
              "      <td>1</td>\n",
              "    </tr>\n",
              "    <tr>\n",
              "      <th>2222</th>\n",
              "      <td>2745</td>\n",
              "      <td>0</td>\n",
              "      <td>50</td>\n",
              "      <td>113</td>\n",
              "      <td>178</td>\n",
              "      <td>1</td>\n",
              "    </tr>\n",
              "    <tr>\n",
              "      <th>2223</th>\n",
              "      <td>1231</td>\n",
              "      <td>0</td>\n",
              "      <td>50</td>\n",
              "      <td>113</td>\n",
              "      <td>175</td>\n",
              "      <td>1</td>\n",
              "    </tr>\n",
              "  </tbody>\n",
              "</table>\n",
              "<p>2224 rows × 6 columns</p>\n",
              "</div>"
            ],
            "text/plain": [
              "      price  other_colors  depth  height  width  old_price\n",
              "0        69             1     50     100     60          0\n",
              "1       225             0     60      43     74          0\n",
              "2       345             0     45      91     40          0\n",
              "3       129             0     44      95     50          0\n",
              "4       195             0     50     113     50          0\n",
              "...     ...           ...    ...     ...    ...        ...\n",
              "2219    750             0     50     113     91          1\n",
              "2220   1572             0     50     113    135          1\n",
              "2221    924             0     50     113    175          1\n",
              "2222   2745             0     50     113    178          1\n",
              "2223   1231             0     50     113    175          1\n",
              "\n",
              "[2224 rows x 6 columns]"
            ]
          },
          "metadata": {
            "tags": []
          },
          "execution_count": 67
        }
      ]
    },
    {
      "cell_type": "code",
      "metadata": {
        "id": "_bzvJLPsJ2K4"
      },
      "source": [
        "X=f[[\"other_colors\",\"depth\",\"height\",\"width\",\"old_price\"]]\n",
        "y=f.iloc[:,0]"
      ],
      "execution_count": null,
      "outputs": []
    },
    {
      "cell_type": "code",
      "metadata": {
        "id": "2ghHBruJSmRy"
      },
      "source": [
        "X_train,X_test,y_train,y_test=train_test_split(X,y,test_size=0.2)"
      ],
      "execution_count": null,
      "outputs": []
    },
    {
      "cell_type": "code",
      "metadata": {
        "colab": {
          "base_uri": "https://localhost:8080/",
          "height": 803
        },
        "id": "ESKjs15CJ2Nj",
        "outputId": "42793ca8-f1ed-428e-897a-ad37cd277ca1"
      },
      "source": [
        "for model,name in zip([LinearRegression(),KNeighborsRegressor(),SVR()],[\"LR\",\"KNR\",\"SVR\"]):\n",
        "  pipeline=Pipeline([('scaler',StandardScaler()),\n",
        "                   ('model',model)])\n",
        "  scores=cross_validate(pipeline,X_train,y_train,cv=20)\n",
        "  predicted=cross_val_predict(pipeline,X_test,y_test)\n",
        "  fig, ax = plt.subplots()\n",
        "  ax.scatter(y_test, predicted, edgecolors=(0, 0, 0))\n",
        "  ax.plot([y_test.min(), y_test.max()], [y_test.min(), y_test.max()], 'k--', lw=4)\n",
        "  ax.set_xlabel('Measured')\n",
        "  ax.set_ylabel('Predicted')\n",
        "  plt.show()"
      ],
      "execution_count": null,
      "outputs": [
        {
          "output_type": "display_data",
          "data": {
            "image/png": "[encoded data removed]",
            "text/plain": [
              "<Figure size 432x288 with 1 Axes>"
            ]
          },
          "metadata": {
            "tags": [],
            "needs_background": "light"
          }
        },
        {
          "output_type": "display_data",
          "data": {
            "image/png": "[encoded data removed]",
            "text/plain": [
              "<Figure size 432x288 with 1 Axes>"
            ]
          },
          "metadata": {
            "tags": [],
            "needs_background": "light"
          }
        },
        {
          "output_type": "display_data",
          "data": {
            "image/png": "[encoded data removed]",
            "text/plain": [
              "<Figure size 432x288 with 1 Axes>"
            ]
          },
          "metadata": {
            "tags": [],
            "needs_background": "light"
          }
        }
      ]
    },
    {
      "cell_type": "markdown",
      "metadata": {
        "id": "7AHGrqVGV8qz"
      },
      "source": [
        "SVM was overfitted and thats why it didnt give good result in testing.LR would be used as it gives more satisfactory result"
      ]
    },
    {
      "cell_type": "code",
      "metadata": {
        "id": "XkPSpNuNLknx"
      },
      "source": [
        "from sklearn.metrics import mean_squared_error\n",
        "pipeline=Pipeline([('scaler',StandardScaler()),\n",
        "                   ('model',LinearRegression())])\n",
        "scores=cross_validate(pipeline,X_train,y_train,cv=20)\n",
        "predicted=cross_val_predict(pipeline,X_test,y_test)\n",
        "loss=mean_squared_error(y_test,predicted)"
      ],
      "execution_count": null,
      "outputs": []
    },
    {
      "cell_type": "code",
      "metadata": {
        "id": "rHv8oYBaSj21"
      },
      "source": [
        "average_loss=loss/len(y_test)"
      ],
      "execution_count": null,
      "outputs": []
    },
    {
      "cell_type": "code",
      "metadata": {
        "colab": {
          "base_uri": "https://localhost:8080/"
        },
        "id": "ZbA1x2oWLkqq",
        "outputId": "95656de0-fa35-4276-efcb-d00b417d359f"
      },
      "source": [
        "average_loss"
      ],
      "execution_count": null,
      "outputs": [
        {
          "output_type": "execute_result",
          "data": {
            "text/plain": [
              "1282.765379246428"
            ]
          },
          "metadata": {
            "tags": []
          },
          "execution_count": 111
        }
      ]
    },
    {
      "cell_type": "code",
      "metadata": {
        "id": "WokEg6smLksx"
      },
      "source": [
        ""
      ],
      "execution_count": null,
      "outputs": []
    },
    {
      "cell_type": "code",
      "metadata": {
        "id": "zmL2JpG1LkvI"
      },
      "source": [
        ""
      ],
      "execution_count": null,
      "outputs": []
    },
    {
      "cell_type": "code",
      "metadata": {
        "id": "j9txOVRVJ2P2"
      },
      "source": [
        ""
      ],
      "execution_count": null,
      "outputs": []
    }
  ]
}